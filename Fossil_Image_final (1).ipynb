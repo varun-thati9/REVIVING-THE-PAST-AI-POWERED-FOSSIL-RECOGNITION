{
  "cells": [
    {
      "cell_type": "code",
      "execution_count": null,
      "metadata": {
        "id": "7EA2VdEzy-42"
      },
      "outputs": [],
      "source": [
        "!pip install -q kaggle"
      ]
    },
    {
      "cell_type": "code",
      "execution_count": null,
      "metadata": {
        "id": "kpI4hXTwx11-"
      },
      "outputs": [],
      "source": [
        "!mkdir ~/.kaggle"
      ]
    },
    {
      "cell_type": "code",
      "execution_count": null,
      "metadata": {
        "id": "mXnphN6KzcTq"
      },
      "outputs": [],
      "source": [
        "!cp kaggle.json ~/.kaggle"
      ]
    },
    {
      "cell_type": "code",
      "execution_count": null,
      "metadata": {
        "colab": {
          "base_uri": "https://localhost:8080/"
        },
        "id": "MX6MIlx0zhre",
        "outputId": "52ae9e64-f6ac-459c-8888-4dee57cfa4aa"
      },
      "outputs": [
        {
          "output_type": "stream",
          "name": "stdout",
          "text": [
            "Warning: Your Kaggle API key is readable by other users on this system! To fix this, you can run 'chmod 600 /root/.kaggle/kaggle.json'\n",
            "Downloading fossil-image.zip to /content\n",
            " 99% 541M/544M [00:07<00:00, 37.2MB/s]\n",
            "100% 544M/544M [00:07<00:00, 72.4MB/s]\n"
          ]
        }
      ],
      "source": [
        "!kaggle datasets download -d sayanroy058/fossil-image"
      ]
    },
    {
      "cell_type": "code",
      "execution_count": null,
      "metadata": {
        "colab": {
          "base_uri": "https://localhost:8080/"
        },
        "id": "KJnIwPTszoid",
        "outputId": "7b8fa8f5-2ca7-4aae-f995-eac037a894f3"
      },
      "outputs": [
        {
          "output_type": "stream",
          "name": "stdout",
          "text": [
            "Archive:  /content/fossil-image.zip\n",
            "  inflating: Geo Fossils-I Dataset/Ammonites/Ammonite1.jpg  \n",
            "  inflating: Geo Fossils-I Dataset/Ammonites/Ammonite10.jpg  \n",
            "  inflating: Geo Fossils-I Dataset/Ammonites/Ammonite100.jpg  \n",
            "  inflating: Geo Fossils-I Dataset/Ammonites/Ammonite101.jpg  \n",
            "  inflating: Geo Fossils-I Dataset/Ammonites/Ammonite102.jpg  \n",
            "  inflating: Geo Fossils-I Dataset/Ammonites/Ammonite103.jpg  \n",
            "  inflating: Geo Fossils-I Dataset/Ammonites/Ammonite104.jpg  \n",
            "  inflating: Geo Fossils-I Dataset/Ammonites/Ammonite105.jpg  \n",
            "  inflating: Geo Fossils-I Dataset/Ammonites/Ammonite106.jpg  \n",
            "  inflating: Geo Fossils-I Dataset/Ammonites/Ammonite107.jpg  \n",
            "  inflating: Geo Fossils-I Dataset/Ammonites/Ammonite108.jpg  \n",
            "  inflating: Geo Fossils-I Dataset/Ammonites/Ammonite109.jpg  \n",
            "  inflating: Geo Fossils-I Dataset/Ammonites/Ammonite11.jpg  \n",
            "  inflating: Geo Fossils-I Dataset/Ammonites/Ammonite110.jpg  \n",
            "  inflating: Geo Fossils-I Dataset/Ammonites/Ammonite111.jpg  \n",
            "  inflating: Geo Fossils-I Dataset/Ammonites/Ammonite112.jpg  \n",
            "  inflating: Geo Fossils-I Dataset/Ammonites/Ammonite113.jpg  \n",
            "  inflating: Geo Fossils-I Dataset/Ammonites/Ammonite114.jpg  \n",
            "  inflating: Geo Fossils-I Dataset/Ammonites/Ammonite115.jpg  \n",
            "  inflating: Geo Fossils-I Dataset/Ammonites/Ammonite116.jpg  \n",
            "  inflating: Geo Fossils-I Dataset/Ammonites/Ammonite117.jpg  \n",
            "  inflating: Geo Fossils-I Dataset/Ammonites/Ammonite118.jpg  \n",
            "  inflating: Geo Fossils-I Dataset/Ammonites/Ammonite119.jpg  \n",
            "  inflating: Geo Fossils-I Dataset/Ammonites/Ammonite12.jpg  \n",
            "  inflating: Geo Fossils-I Dataset/Ammonites/Ammonite120.jpg  \n",
            "  inflating: Geo Fossils-I Dataset/Ammonites/Ammonite121.jpg  \n",
            "  inflating: Geo Fossils-I Dataset/Ammonites/Ammonite122.jpg  \n",
            "  inflating: Geo Fossils-I Dataset/Ammonites/Ammonite123.jpg  \n",
            "  inflating: Geo Fossils-I Dataset/Ammonites/Ammonite124.jpg  \n",
            "  inflating: Geo Fossils-I Dataset/Ammonites/Ammonite125.jpg  \n",
            "  inflating: Geo Fossils-I Dataset/Ammonites/Ammonite126.jpg  \n",
            "  inflating: Geo Fossils-I Dataset/Ammonites/Ammonite127.jpg  \n",
            "  inflating: Geo Fossils-I Dataset/Ammonites/Ammonite128.jpg  \n",
            "  inflating: Geo Fossils-I Dataset/Ammonites/Ammonite129.jpg  \n",
            "  inflating: Geo Fossils-I Dataset/Ammonites/Ammonite13.jpg  \n",
            "  inflating: Geo Fossils-I Dataset/Ammonites/Ammonite130.jpg  \n",
            "  inflating: Geo Fossils-I Dataset/Ammonites/Ammonite131.jpg  \n",
            "  inflating: Geo Fossils-I Dataset/Ammonites/Ammonite132.jpg  \n",
            "  inflating: Geo Fossils-I Dataset/Ammonites/Ammonite133.jpg  \n",
            "  inflating: Geo Fossils-I Dataset/Ammonites/Ammonite134.jpg  \n",
            "  inflating: Geo Fossils-I Dataset/Ammonites/Ammonite135.jpg  \n",
            "  inflating: Geo Fossils-I Dataset/Ammonites/Ammonite136.jpg  \n",
            "  inflating: Geo Fossils-I Dataset/Ammonites/Ammonite137.jpg  \n",
            "  inflating: Geo Fossils-I Dataset/Ammonites/Ammonite138.jpg  \n",
            "  inflating: Geo Fossils-I Dataset/Ammonites/Ammonite139.jpg  \n",
            "  inflating: Geo Fossils-I Dataset/Ammonites/Ammonite14.jpg  \n",
            "  inflating: Geo Fossils-I Dataset/Ammonites/Ammonite140.jpg  \n",
            "  inflating: Geo Fossils-I Dataset/Ammonites/Ammonite141.jpg  \n",
            "  inflating: Geo Fossils-I Dataset/Ammonites/Ammonite142.jpg  \n",
            "  inflating: Geo Fossils-I Dataset/Ammonites/Ammonite143.jpg  \n",
            "  inflating: Geo Fossils-I Dataset/Ammonites/Ammonite144.jpg  \n",
            "  inflating: Geo Fossils-I Dataset/Ammonites/Ammonite145.jpg  \n",
            "  inflating: Geo Fossils-I Dataset/Ammonites/Ammonite146.jpg  \n",
            "  inflating: Geo Fossils-I Dataset/Ammonites/Ammonite147.jpg  \n",
            "  inflating: Geo Fossils-I Dataset/Ammonites/Ammonite148.jpg  \n",
            "  inflating: Geo Fossils-I Dataset/Ammonites/Ammonite149.jpg  \n",
            "  inflating: Geo Fossils-I Dataset/Ammonites/Ammonite15.jpg  \n",
            "  inflating: Geo Fossils-I Dataset/Ammonites/Ammonite150.jpg  \n",
            "  inflating: Geo Fossils-I Dataset/Ammonites/Ammonite151.jpg  \n",
            "  inflating: Geo Fossils-I Dataset/Ammonites/Ammonite152.jpg  \n",
            "  inflating: Geo Fossils-I Dataset/Ammonites/Ammonite153.jpg  \n",
            "  inflating: Geo Fossils-I Dataset/Ammonites/Ammonite154.jpg  \n",
            "  inflating: Geo Fossils-I Dataset/Ammonites/Ammonite155.jpg  \n",
            "  inflating: Geo Fossils-I Dataset/Ammonites/Ammonite156.jpg  \n",
            "  inflating: Geo Fossils-I Dataset/Ammonites/Ammonite157.jpg  \n",
            "  inflating: Geo Fossils-I Dataset/Ammonites/Ammonite158.jpg  \n",
            "  inflating: Geo Fossils-I Dataset/Ammonites/Ammonite159.jpg  \n",
            "  inflating: Geo Fossils-I Dataset/Ammonites/Ammonite16.jpg  \n",
            "  inflating: Geo Fossils-I Dataset/Ammonites/Ammonite160.jpg  \n",
            "  inflating: Geo Fossils-I Dataset/Ammonites/Ammonite161.jpg  \n",
            "  inflating: Geo Fossils-I Dataset/Ammonites/Ammonite162.jpg  \n",
            "  inflating: Geo Fossils-I Dataset/Ammonites/Ammonite163.jpg  \n",
            "  inflating: Geo Fossils-I Dataset/Ammonites/Ammonite164.jpg  \n",
            "  inflating: Geo Fossils-I Dataset/Ammonites/Ammonite165.jpg  \n",
            "  inflating: Geo Fossils-I Dataset/Ammonites/Ammonite166.jpg  \n",
            "  inflating: Geo Fossils-I Dataset/Ammonites/Ammonite167.jpg  \n",
            "  inflating: Geo Fossils-I Dataset/Ammonites/Ammonite168.jpg  \n",
            "  inflating: Geo Fossils-I Dataset/Ammonites/Ammonite169.jpg  \n",
            "  inflating: Geo Fossils-I Dataset/Ammonites/Ammonite17.jpg  \n",
            "  inflating: Geo Fossils-I Dataset/Ammonites/Ammonite170.jpg  \n",
            "  inflating: Geo Fossils-I Dataset/Ammonites/Ammonite171.jpg  \n",
            "  inflating: Geo Fossils-I Dataset/Ammonites/Ammonite172.jpg  \n",
            "  inflating: Geo Fossils-I Dataset/Ammonites/Ammonite173.jpg  \n",
            "  inflating: Geo Fossils-I Dataset/Ammonites/Ammonite174.jpg  \n",
            "  inflating: Geo Fossils-I Dataset/Ammonites/Ammonite175.jpg  \n",
            "  inflating: Geo Fossils-I Dataset/Ammonites/Ammonite176.jpg  \n",
            "  inflating: Geo Fossils-I Dataset/Ammonites/Ammonite177.jpg  \n",
            "  inflating: Geo Fossils-I Dataset/Ammonites/Ammonite178.jpg  \n",
            "  inflating: Geo Fossils-I Dataset/Ammonites/Ammonite179.jpg  \n",
            "  inflating: Geo Fossils-I Dataset/Ammonites/Ammonite18.jpg  \n",
            "  inflating: Geo Fossils-I Dataset/Ammonites/Ammonite180.jpg  \n",
            "  inflating: Geo Fossils-I Dataset/Ammonites/Ammonite181.jpg  \n",
            "  inflating: Geo Fossils-I Dataset/Ammonites/Ammonite182.jpg  \n",
            "  inflating: Geo Fossils-I Dataset/Ammonites/Ammonite183.jpg  \n",
            "  inflating: Geo Fossils-I Dataset/Ammonites/Ammonite184.jpg  \n",
            "  inflating: Geo Fossils-I Dataset/Ammonites/Ammonite185.jpg  \n",
            "  inflating: Geo Fossils-I Dataset/Ammonites/Ammonite186.jpg  \n",
            "  inflating: Geo Fossils-I Dataset/Ammonites/Ammonite187.jpg  \n",
            "  inflating: Geo Fossils-I Dataset/Ammonites/Ammonite188.jpg  \n",
            "  inflating: Geo Fossils-I Dataset/Ammonites/Ammonite189.jpg  \n",
            "  inflating: Geo Fossils-I Dataset/Ammonites/Ammonite19.jpg  \n",
            "  inflating: Geo Fossils-I Dataset/Ammonites/Ammonite190.jpg  \n",
            "  inflating: Geo Fossils-I Dataset/Ammonites/Ammonite191.jpg  \n",
            "  inflating: Geo Fossils-I Dataset/Ammonites/Ammonite192.jpg  \n",
            "  inflating: Geo Fossils-I Dataset/Ammonites/Ammonite193.jpg  \n",
            "  inflating: Geo Fossils-I Dataset/Ammonites/Ammonite194.jpg  \n",
            "  inflating: Geo Fossils-I Dataset/Ammonites/Ammonite195.jpg  \n",
            "  inflating: Geo Fossils-I Dataset/Ammonites/Ammonite196.jpg  \n",
            "  inflating: Geo Fossils-I Dataset/Ammonites/Ammonite197.jpg  \n",
            "  inflating: Geo Fossils-I Dataset/Ammonites/Ammonite198.jpg  \n",
            "  inflating: Geo Fossils-I Dataset/Ammonites/Ammonite199.jpg  \n",
            "  inflating: Geo Fossils-I Dataset/Ammonites/Ammonite2.jpg  \n",
            "  inflating: Geo Fossils-I Dataset/Ammonites/Ammonite20.jpg  \n",
            "  inflating: Geo Fossils-I Dataset/Ammonites/Ammonite200.jpg  \n",
            "  inflating: Geo Fossils-I Dataset/Ammonites/Ammonite21.jpg  \n",
            "  inflating: Geo Fossils-I Dataset/Ammonites/Ammonite22.jpg  \n",
            "  inflating: Geo Fossils-I Dataset/Ammonites/Ammonite23.jpg  \n",
            "  inflating: Geo Fossils-I Dataset/Ammonites/Ammonite24.jpg  \n",
            "  inflating: Geo Fossils-I Dataset/Ammonites/Ammonite25.jpg  \n",
            "  inflating: Geo Fossils-I Dataset/Ammonites/Ammonite26.jpg  \n",
            "  inflating: Geo Fossils-I Dataset/Ammonites/Ammonite27.jpg  \n",
            "  inflating: Geo Fossils-I Dataset/Ammonites/Ammonite28.jpg  \n",
            "  inflating: Geo Fossils-I Dataset/Ammonites/Ammonite29.jpg  \n",
            "  inflating: Geo Fossils-I Dataset/Ammonites/Ammonite3.jpg  \n",
            "  inflating: Geo Fossils-I Dataset/Ammonites/Ammonite30.jpg  \n",
            "  inflating: Geo Fossils-I Dataset/Ammonites/Ammonite31.jpg  \n",
            "  inflating: Geo Fossils-I Dataset/Ammonites/Ammonite32.jpg  \n",
            "  inflating: Geo Fossils-I Dataset/Ammonites/Ammonite33.jpg  \n",
            "  inflating: Geo Fossils-I Dataset/Ammonites/Ammonite34.jpg  \n",
            "  inflating: Geo Fossils-I Dataset/Ammonites/Ammonite35.jpg  \n",
            "  inflating: Geo Fossils-I Dataset/Ammonites/Ammonite36.jpg  \n",
            "  inflating: Geo Fossils-I Dataset/Ammonites/Ammonite37.jpg  \n",
            "  inflating: Geo Fossils-I Dataset/Ammonites/Ammonite38.jpg  \n",
            "  inflating: Geo Fossils-I Dataset/Ammonites/Ammonite39.jpg  \n",
            "  inflating: Geo Fossils-I Dataset/Ammonites/Ammonite4.jpg  \n",
            "  inflating: Geo Fossils-I Dataset/Ammonites/Ammonite40.jpg  \n",
            "  inflating: Geo Fossils-I Dataset/Ammonites/Ammonite41.jpg  \n",
            "  inflating: Geo Fossils-I Dataset/Ammonites/Ammonite42.jpg  \n",
            "  inflating: Geo Fossils-I Dataset/Ammonites/Ammonite43.jpg  \n",
            "  inflating: Geo Fossils-I Dataset/Ammonites/Ammonite44.jpg  \n",
            "  inflating: Geo Fossils-I Dataset/Ammonites/Ammonite45.jpg  \n",
            "  inflating: Geo Fossils-I Dataset/Ammonites/Ammonite46.jpg  \n",
            "  inflating: Geo Fossils-I Dataset/Ammonites/Ammonite47.jpg  \n",
            "  inflating: Geo Fossils-I Dataset/Ammonites/Ammonite48.jpg  \n",
            "  inflating: Geo Fossils-I Dataset/Ammonites/Ammonite49.jpg  \n",
            "  inflating: Geo Fossils-I Dataset/Ammonites/Ammonite5.jpg  \n",
            "  inflating: Geo Fossils-I Dataset/Ammonites/Ammonite50.jpg  \n",
            "  inflating: Geo Fossils-I Dataset/Ammonites/Ammonite51.jpg  \n",
            "  inflating: Geo Fossils-I Dataset/Ammonites/Ammonite52.jpg  \n",
            "  inflating: Geo Fossils-I Dataset/Ammonites/Ammonite53.jpg  \n",
            "  inflating: Geo Fossils-I Dataset/Ammonites/Ammonite54.jpg  \n",
            "  inflating: Geo Fossils-I Dataset/Ammonites/Ammonite55.jpg  \n",
            "  inflating: Geo Fossils-I Dataset/Ammonites/Ammonite56.jpg  \n",
            "  inflating: Geo Fossils-I Dataset/Ammonites/Ammonite57.jpg  \n",
            "  inflating: Geo Fossils-I Dataset/Ammonites/Ammonite58.jpg  \n",
            "  inflating: Geo Fossils-I Dataset/Ammonites/Ammonite59.jpg  \n",
            "  inflating: Geo Fossils-I Dataset/Ammonites/Ammonite6.jpg  \n",
            "  inflating: Geo Fossils-I Dataset/Ammonites/Ammonite60.jpg  \n",
            "  inflating: Geo Fossils-I Dataset/Ammonites/Ammonite61.jpg  \n",
            "  inflating: Geo Fossils-I Dataset/Ammonites/Ammonite62.jpg  \n",
            "  inflating: Geo Fossils-I Dataset/Ammonites/Ammonite63.jpg  \n",
            "  inflating: Geo Fossils-I Dataset/Ammonites/Ammonite64.jpg  \n",
            "  inflating: Geo Fossils-I Dataset/Ammonites/Ammonite65.jpg  \n",
            "  inflating: Geo Fossils-I Dataset/Ammonites/Ammonite66.jpg  \n",
            "  inflating: Geo Fossils-I Dataset/Ammonites/Ammonite67.jpg  \n",
            "  inflating: Geo Fossils-I Dataset/Ammonites/Ammonite68.jpg  \n",
            "  inflating: Geo Fossils-I Dataset/Ammonites/Ammonite69.jpg  \n",
            "  inflating: Geo Fossils-I Dataset/Ammonites/Ammonite7.jpg  \n",
            "  inflating: Geo Fossils-I Dataset/Ammonites/Ammonite70.jpg  \n",
            "  inflating: Geo Fossils-I Dataset/Ammonites/Ammonite71.jpg  \n",
            "  inflating: Geo Fossils-I Dataset/Ammonites/Ammonite72.jpg  \n",
            "  inflating: Geo Fossils-I Dataset/Ammonites/Ammonite73.jpg  \n",
            "  inflating: Geo Fossils-I Dataset/Ammonites/Ammonite74.jpg  \n",
            "  inflating: Geo Fossils-I Dataset/Ammonites/Ammonite75.jpg  \n",
            "  inflating: Geo Fossils-I Dataset/Ammonites/Ammonite76.jpg  \n",
            "  inflating: Geo Fossils-I Dataset/Ammonites/Ammonite77.jpg  \n",
            "  inflating: Geo Fossils-I Dataset/Ammonites/Ammonite78.jpg  \n",
            "  inflating: Geo Fossils-I Dataset/Ammonites/Ammonite79.jpg  \n",
            "  inflating: Geo Fossils-I Dataset/Ammonites/Ammonite8.jpg  \n",
            "  inflating: Geo Fossils-I Dataset/Ammonites/Ammonite80.jpg  \n",
            "  inflating: Geo Fossils-I Dataset/Ammonites/Ammonite81.jpg  \n",
            "  inflating: Geo Fossils-I Dataset/Ammonites/Ammonite82.jpg  \n",
            "  inflating: Geo Fossils-I Dataset/Ammonites/Ammonite83.jpg  \n",
            "  inflating: Geo Fossils-I Dataset/Ammonites/Ammonite84.jpg  \n",
            "  inflating: Geo Fossils-I Dataset/Ammonites/Ammonite85.jpg  \n",
            "  inflating: Geo Fossils-I Dataset/Ammonites/Ammonite86.jpg  \n",
            "  inflating: Geo Fossils-I Dataset/Ammonites/Ammonite87.jpg  \n",
            "  inflating: Geo Fossils-I Dataset/Ammonites/Ammonite88.jpg  \n",
            "  inflating: Geo Fossils-I Dataset/Ammonites/Ammonite89.jpg  \n",
            "  inflating: Geo Fossils-I Dataset/Ammonites/Ammonite9.jpg  \n",
            "  inflating: Geo Fossils-I Dataset/Ammonites/Ammonite90.jpg  \n",
            "  inflating: Geo Fossils-I Dataset/Ammonites/Ammonite91.jpg  \n",
            "  inflating: Geo Fossils-I Dataset/Ammonites/Ammonite92.jpg  \n",
            "  inflating: Geo Fossils-I Dataset/Ammonites/Ammonite93.jpg  \n",
            "  inflating: Geo Fossils-I Dataset/Ammonites/Ammonite94.jpg  \n",
            "  inflating: Geo Fossils-I Dataset/Ammonites/Ammonite95.jpg  \n",
            "  inflating: Geo Fossils-I Dataset/Ammonites/Ammonite96.jpg  \n",
            "  inflating: Geo Fossils-I Dataset/Ammonites/Ammonite97.jpg  \n",
            "  inflating: Geo Fossils-I Dataset/Ammonites/Ammonite98.jpg  \n",
            "  inflating: Geo Fossils-I Dataset/Ammonites/Ammonite99.jpg  \n",
            "  inflating: Geo Fossils-I Dataset/Belemnites/Belemnite1.jpg  \n",
            "  inflating: Geo Fossils-I Dataset/Belemnites/Belemnite10.jpg  \n",
            "  inflating: Geo Fossils-I Dataset/Belemnites/Belemnite100.jpg  \n",
            "  inflating: Geo Fossils-I Dataset/Belemnites/Belemnite101.jpg  \n",
            "  inflating: Geo Fossils-I Dataset/Belemnites/Belemnite102.jpg  \n",
            "  inflating: Geo Fossils-I Dataset/Belemnites/Belemnite103.jpg  \n",
            "  inflating: Geo Fossils-I Dataset/Belemnites/Belemnite104.jpg  \n",
            "  inflating: Geo Fossils-I Dataset/Belemnites/Belemnite105.jpg  \n",
            "  inflating: Geo Fossils-I Dataset/Belemnites/Belemnite106.jpg  \n",
            "  inflating: Geo Fossils-I Dataset/Belemnites/Belemnite107.jpg  \n",
            "  inflating: Geo Fossils-I Dataset/Belemnites/Belemnite108.jpg  \n",
            "  inflating: Geo Fossils-I Dataset/Belemnites/Belemnite109.jpg  \n",
            "  inflating: Geo Fossils-I Dataset/Belemnites/Belemnite11.jpg  \n",
            "  inflating: Geo Fossils-I Dataset/Belemnites/Belemnite110.jpg  \n",
            "  inflating: Geo Fossils-I Dataset/Belemnites/Belemnite111.jpg  \n",
            "  inflating: Geo Fossils-I Dataset/Belemnites/Belemnite112.jpg  \n",
            "  inflating: Geo Fossils-I Dataset/Belemnites/Belemnite113.jpg  \n",
            "  inflating: Geo Fossils-I Dataset/Belemnites/Belemnite114.jpg  \n",
            "  inflating: Geo Fossils-I Dataset/Belemnites/Belemnite115.jpg  \n",
            "  inflating: Geo Fossils-I Dataset/Belemnites/Belemnite116.jpg  \n",
            "  inflating: Geo Fossils-I Dataset/Belemnites/Belemnite117.jpg  \n",
            "  inflating: Geo Fossils-I Dataset/Belemnites/Belemnite118.jpg  \n",
            "  inflating: Geo Fossils-I Dataset/Belemnites/Belemnite119.jpg  \n",
            "  inflating: Geo Fossils-I Dataset/Belemnites/Belemnite12.jpg  \n",
            "  inflating: Geo Fossils-I Dataset/Belemnites/Belemnite120.jpg  \n",
            "  inflating: Geo Fossils-I Dataset/Belemnites/Belemnite121.jpg  \n",
            "  inflating: Geo Fossils-I Dataset/Belemnites/Belemnite122.jpg  \n",
            "  inflating: Geo Fossils-I Dataset/Belemnites/Belemnite123.jpg  \n",
            "  inflating: Geo Fossils-I Dataset/Belemnites/Belemnite124.jpg  \n",
            "  inflating: Geo Fossils-I Dataset/Belemnites/Belemnite125.jpg  \n",
            "  inflating: Geo Fossils-I Dataset/Belemnites/Belemnite126.jpg  \n",
            "  inflating: Geo Fossils-I Dataset/Belemnites/Belemnite127.jpg  \n",
            "  inflating: Geo Fossils-I Dataset/Belemnites/Belemnite128.jpg  \n",
            "  inflating: Geo Fossils-I Dataset/Belemnites/Belemnite129.jpg  \n",
            "  inflating: Geo Fossils-I Dataset/Belemnites/Belemnite13.jpg  \n",
            "  inflating: Geo Fossils-I Dataset/Belemnites/Belemnite130.jpg  \n",
            "  inflating: Geo Fossils-I Dataset/Belemnites/Belemnite131.jpg  \n",
            "  inflating: Geo Fossils-I Dataset/Belemnites/Belemnite132.jpg  \n",
            "  inflating: Geo Fossils-I Dataset/Belemnites/Belemnite133.jpg  \n",
            "  inflating: Geo Fossils-I Dataset/Belemnites/Belemnite134.jpg  \n",
            "  inflating: Geo Fossils-I Dataset/Belemnites/Belemnite135.jpg  \n",
            "  inflating: Geo Fossils-I Dataset/Belemnites/Belemnite136.jpg  \n",
            "  inflating: Geo Fossils-I Dataset/Belemnites/Belemnite137.jpg  \n",
            "  inflating: Geo Fossils-I Dataset/Belemnites/Belemnite138.jpg  \n",
            "  inflating: Geo Fossils-I Dataset/Belemnites/Belemnite139.jpg  \n",
            "  inflating: Geo Fossils-I Dataset/Belemnites/Belemnite14.jpg  \n",
            "  inflating: Geo Fossils-I Dataset/Belemnites/Belemnite140.jpg  \n",
            "  inflating: Geo Fossils-I Dataset/Belemnites/Belemnite141.jpg  \n",
            "  inflating: Geo Fossils-I Dataset/Belemnites/Belemnite142.jpg  \n",
            "  inflating: Geo Fossils-I Dataset/Belemnites/Belemnite143.jpg  \n",
            "  inflating: Geo Fossils-I Dataset/Belemnites/Belemnite144.jpg  \n",
            "  inflating: Geo Fossils-I Dataset/Belemnites/Belemnite145.jpg  \n",
            "  inflating: Geo Fossils-I Dataset/Belemnites/Belemnite146.jpg  \n",
            "  inflating: Geo Fossils-I Dataset/Belemnites/Belemnite147.jpg  \n",
            "  inflating: Geo Fossils-I Dataset/Belemnites/Belemnite148.jpg  \n",
            "  inflating: Geo Fossils-I Dataset/Belemnites/Belemnite149.jpg  \n",
            "  inflating: Geo Fossils-I Dataset/Belemnites/Belemnite15.jpg  \n",
            "  inflating: Geo Fossils-I Dataset/Belemnites/Belemnite150.jpg  \n",
            "  inflating: Geo Fossils-I Dataset/Belemnites/Belemnite151.jpg  \n",
            "  inflating: Geo Fossils-I Dataset/Belemnites/Belemnite152.jpg  \n",
            "  inflating: Geo Fossils-I Dataset/Belemnites/Belemnite153.jpg  \n",
            "  inflating: Geo Fossils-I Dataset/Belemnites/Belemnite154.jpg  \n",
            "  inflating: Geo Fossils-I Dataset/Belemnites/Belemnite155.jpg  \n",
            "  inflating: Geo Fossils-I Dataset/Belemnites/Belemnite156.jpg  \n",
            "  inflating: Geo Fossils-I Dataset/Belemnites/Belemnite157.jpg  \n",
            "  inflating: Geo Fossils-I Dataset/Belemnites/Belemnite158.jpg  \n",
            "  inflating: Geo Fossils-I Dataset/Belemnites/Belemnite159.jpg  \n",
            "  inflating: Geo Fossils-I Dataset/Belemnites/Belemnite16.jpg  \n",
            "  inflating: Geo Fossils-I Dataset/Belemnites/Belemnite160.jpg  \n",
            "  inflating: Geo Fossils-I Dataset/Belemnites/Belemnite161.jpg  \n",
            "  inflating: Geo Fossils-I Dataset/Belemnites/Belemnite162.jpg  \n",
            "  inflating: Geo Fossils-I Dataset/Belemnites/Belemnite163.jpg  \n",
            "  inflating: Geo Fossils-I Dataset/Belemnites/Belemnite164.jpg  \n",
            "  inflating: Geo Fossils-I Dataset/Belemnites/Belemnite165.jpg  \n",
            "  inflating: Geo Fossils-I Dataset/Belemnites/Belemnite166.jpg  \n",
            "  inflating: Geo Fossils-I Dataset/Belemnites/Belemnite167.jpg  \n",
            "  inflating: Geo Fossils-I Dataset/Belemnites/Belemnite168.jpg  \n",
            "  inflating: Geo Fossils-I Dataset/Belemnites/Belemnite169.jpg  \n",
            "  inflating: Geo Fossils-I Dataset/Belemnites/Belemnite17.jpg  \n",
            "  inflating: Geo Fossils-I Dataset/Belemnites/Belemnite170.jpg  \n",
            "  inflating: Geo Fossils-I Dataset/Belemnites/Belemnite171.jpg  \n",
            "  inflating: Geo Fossils-I Dataset/Belemnites/Belemnite172.jpg  \n",
            "  inflating: Geo Fossils-I Dataset/Belemnites/Belemnite173.jpg  \n",
            "  inflating: Geo Fossils-I Dataset/Belemnites/Belemnite174.jpg  \n",
            "  inflating: Geo Fossils-I Dataset/Belemnites/Belemnite175.jpg  \n",
            "  inflating: Geo Fossils-I Dataset/Belemnites/Belemnite176.jpg  \n",
            "  inflating: Geo Fossils-I Dataset/Belemnites/Belemnite177.jpg  \n",
            "  inflating: Geo Fossils-I Dataset/Belemnites/Belemnite178.jpg  \n",
            "  inflating: Geo Fossils-I Dataset/Belemnites/Belemnite179.jpg  \n",
            "  inflating: Geo Fossils-I Dataset/Belemnites/Belemnite18.jpg  \n",
            "  inflating: Geo Fossils-I Dataset/Belemnites/Belemnite180.jpg  \n",
            "  inflating: Geo Fossils-I Dataset/Belemnites/Belemnite181.jpg  \n",
            "  inflating: Geo Fossils-I Dataset/Belemnites/Belemnite182.jpg  \n",
            "  inflating: Geo Fossils-I Dataset/Belemnites/Belemnite183.jpg  \n",
            "  inflating: Geo Fossils-I Dataset/Belemnites/Belemnite184.jpg  \n",
            "  inflating: Geo Fossils-I Dataset/Belemnites/Belemnite185.jpg  \n",
            "  inflating: Geo Fossils-I Dataset/Belemnites/Belemnite186.jpg  \n",
            "  inflating: Geo Fossils-I Dataset/Belemnites/Belemnite187.jpg  \n",
            "  inflating: Geo Fossils-I Dataset/Belemnites/Belemnite188.jpg  \n",
            "  inflating: Geo Fossils-I Dataset/Belemnites/Belemnite189.jpg  \n",
            "  inflating: Geo Fossils-I Dataset/Belemnites/Belemnite19.jpg  \n",
            "  inflating: Geo Fossils-I Dataset/Belemnites/Belemnite190.jpg  \n",
            "  inflating: Geo Fossils-I Dataset/Belemnites/Belemnite191.jpg  \n",
            "  inflating: Geo Fossils-I Dataset/Belemnites/Belemnite192.jpg  \n",
            "  inflating: Geo Fossils-I Dataset/Belemnites/Belemnite193.jpg  \n",
            "  inflating: Geo Fossils-I Dataset/Belemnites/Belemnite194.jpg  \n",
            "  inflating: Geo Fossils-I Dataset/Belemnites/Belemnite195.jpg  \n",
            "  inflating: Geo Fossils-I Dataset/Belemnites/Belemnite196.jpg  \n",
            "  inflating: Geo Fossils-I Dataset/Belemnites/Belemnite197.jpg  \n",
            "  inflating: Geo Fossils-I Dataset/Belemnites/Belemnite198.jpg  \n",
            "  inflating: Geo Fossils-I Dataset/Belemnites/Belemnite199.jpg  \n",
            "  inflating: Geo Fossils-I Dataset/Belemnites/Belemnite2.jpg  \n",
            "  inflating: Geo Fossils-I Dataset/Belemnites/Belemnite20.jpg  \n",
            "  inflating: Geo Fossils-I Dataset/Belemnites/Belemnite200.jpg  \n",
            "  inflating: Geo Fossils-I Dataset/Belemnites/Belemnite21.jpg  \n",
            "  inflating: Geo Fossils-I Dataset/Belemnites/Belemnite22.jpg  \n",
            "  inflating: Geo Fossils-I Dataset/Belemnites/Belemnite23.jpg  \n",
            "  inflating: Geo Fossils-I Dataset/Belemnites/Belemnite24.jpg  \n",
            "  inflating: Geo Fossils-I Dataset/Belemnites/Belemnite25.jpg  \n",
            "  inflating: Geo Fossils-I Dataset/Belemnites/Belemnite26.jpg  \n",
            "  inflating: Geo Fossils-I Dataset/Belemnites/Belemnite27.jpg  \n",
            "  inflating: Geo Fossils-I Dataset/Belemnites/Belemnite28.jpg  \n",
            "  inflating: Geo Fossils-I Dataset/Belemnites/Belemnite29.jpg  \n",
            "  inflating: Geo Fossils-I Dataset/Belemnites/Belemnite3.jpg  \n",
            "  inflating: Geo Fossils-I Dataset/Belemnites/Belemnite30.jpg  \n",
            "  inflating: Geo Fossils-I Dataset/Belemnites/Belemnite31.jpg  \n",
            "  inflating: Geo Fossils-I Dataset/Belemnites/Belemnite32.jpg  \n",
            "  inflating: Geo Fossils-I Dataset/Belemnites/Belemnite33.jpg  \n",
            "  inflating: Geo Fossils-I Dataset/Belemnites/Belemnite34.jpg  \n",
            "  inflating: Geo Fossils-I Dataset/Belemnites/Belemnite35.jpg  \n",
            "  inflating: Geo Fossils-I Dataset/Belemnites/Belemnite36.jpg  \n",
            "  inflating: Geo Fossils-I Dataset/Belemnites/Belemnite37.jpg  \n",
            "  inflating: Geo Fossils-I Dataset/Belemnites/Belemnite38.jpg  \n",
            "  inflating: Geo Fossils-I Dataset/Belemnites/Belemnite39.jpg  \n",
            "  inflating: Geo Fossils-I Dataset/Belemnites/Belemnite4.jpg  \n",
            "  inflating: Geo Fossils-I Dataset/Belemnites/Belemnite40.jpg  \n",
            "  inflating: Geo Fossils-I Dataset/Belemnites/Belemnite41.jpg  \n",
            "  inflating: Geo Fossils-I Dataset/Belemnites/Belemnite42.jpg  \n",
            "  inflating: Geo Fossils-I Dataset/Belemnites/Belemnite43.jpg  \n",
            "  inflating: Geo Fossils-I Dataset/Belemnites/Belemnite44.jpg  \n",
            "  inflating: Geo Fossils-I Dataset/Belemnites/Belemnite45.jpg  \n",
            "  inflating: Geo Fossils-I Dataset/Belemnites/Belemnite46.jpg  \n",
            "  inflating: Geo Fossils-I Dataset/Belemnites/Belemnite47.jpg  \n",
            "  inflating: Geo Fossils-I Dataset/Belemnites/Belemnite48.jpg  \n",
            "  inflating: Geo Fossils-I Dataset/Belemnites/Belemnite49.jpg  \n",
            "  inflating: Geo Fossils-I Dataset/Belemnites/Belemnite5.jpg  \n",
            "  inflating: Geo Fossils-I Dataset/Belemnites/Belemnite50.jpg  \n",
            "  inflating: Geo Fossils-I Dataset/Belemnites/Belemnite51.jpg  \n",
            "  inflating: Geo Fossils-I Dataset/Belemnites/Belemnite52.jpg  \n",
            "  inflating: Geo Fossils-I Dataset/Belemnites/Belemnite53.jpg  \n",
            "  inflating: Geo Fossils-I Dataset/Belemnites/Belemnite54.jpg  \n",
            "  inflating: Geo Fossils-I Dataset/Belemnites/Belemnite55.jpg  \n",
            "  inflating: Geo Fossils-I Dataset/Belemnites/Belemnite56.jpg  \n",
            "  inflating: Geo Fossils-I Dataset/Belemnites/Belemnite57.jpg  \n",
            "  inflating: Geo Fossils-I Dataset/Belemnites/Belemnite58.jpg  \n",
            "  inflating: Geo Fossils-I Dataset/Belemnites/Belemnite59.jpg  \n",
            "  inflating: Geo Fossils-I Dataset/Belemnites/Belemnite6.jpg  \n",
            "  inflating: Geo Fossils-I Dataset/Belemnites/Belemnite60.jpg  \n",
            "  inflating: Geo Fossils-I Dataset/Belemnites/Belemnite61.jpg  \n",
            "  inflating: Geo Fossils-I Dataset/Belemnites/Belemnite62.jpg  \n",
            "  inflating: Geo Fossils-I Dataset/Belemnites/Belemnite63.jpg  \n",
            "  inflating: Geo Fossils-I Dataset/Belemnites/Belemnite64.jpg  \n",
            "  inflating: Geo Fossils-I Dataset/Belemnites/Belemnite65.jpg  \n",
            "  inflating: Geo Fossils-I Dataset/Belemnites/Belemnite66.jpg  \n",
            "  inflating: Geo Fossils-I Dataset/Belemnites/Belemnite67.jpg  \n",
            "  inflating: Geo Fossils-I Dataset/Belemnites/Belemnite68.jpg  \n",
            "  inflating: Geo Fossils-I Dataset/Belemnites/Belemnite69.jpg  \n",
            "  inflating: Geo Fossils-I Dataset/Belemnites/Belemnite7.jpg  \n",
            "  inflating: Geo Fossils-I Dataset/Belemnites/Belemnite70.jpg  \n",
            "  inflating: Geo Fossils-I Dataset/Belemnites/Belemnite71.jpg  \n",
            "  inflating: Geo Fossils-I Dataset/Belemnites/Belemnite72.jpg  \n",
            "  inflating: Geo Fossils-I Dataset/Belemnites/Belemnite73.jpg  \n",
            "  inflating: Geo Fossils-I Dataset/Belemnites/Belemnite74.jpg  \n",
            "  inflating: Geo Fossils-I Dataset/Belemnites/Belemnite75.jpg  \n",
            "  inflating: Geo Fossils-I Dataset/Belemnites/Belemnite76.jpg  \n",
            "  inflating: Geo Fossils-I Dataset/Belemnites/Belemnite77.jpg  \n",
            "  inflating: Geo Fossils-I Dataset/Belemnites/Belemnite78.jpg  \n",
            "  inflating: Geo Fossils-I Dataset/Belemnites/Belemnite79.jpg  \n",
            "  inflating: Geo Fossils-I Dataset/Belemnites/Belemnite8.jpg  \n",
            "  inflating: Geo Fossils-I Dataset/Belemnites/Belemnite80.jpg  \n",
            "  inflating: Geo Fossils-I Dataset/Belemnites/Belemnite81.jpg  \n",
            "  inflating: Geo Fossils-I Dataset/Belemnites/Belemnite82.jpg  \n",
            "  inflating: Geo Fossils-I Dataset/Belemnites/Belemnite83.jpg  \n",
            "  inflating: Geo Fossils-I Dataset/Belemnites/Belemnite84.jpg  \n",
            "  inflating: Geo Fossils-I Dataset/Belemnites/Belemnite85.jpg  \n",
            "  inflating: Geo Fossils-I Dataset/Belemnites/Belemnite86.jpg  \n",
            "  inflating: Geo Fossils-I Dataset/Belemnites/Belemnite87.jpg  \n",
            "  inflating: Geo Fossils-I Dataset/Belemnites/Belemnite88.jpg  \n",
            "  inflating: Geo Fossils-I Dataset/Belemnites/Belemnite89.jpg  \n",
            "  inflating: Geo Fossils-I Dataset/Belemnites/Belemnite9.jpg  \n",
            "  inflating: Geo Fossils-I Dataset/Belemnites/Belemnite90.jpg  \n",
            "  inflating: Geo Fossils-I Dataset/Belemnites/Belemnite91.jpg  \n",
            "  inflating: Geo Fossils-I Dataset/Belemnites/Belemnite92.jpg  \n",
            "  inflating: Geo Fossils-I Dataset/Belemnites/Belemnite93.jpg  \n",
            "  inflating: Geo Fossils-I Dataset/Belemnites/Belemnite94.jpg  \n",
            "  inflating: Geo Fossils-I Dataset/Belemnites/Belemnite95.jpg  \n",
            "  inflating: Geo Fossils-I Dataset/Belemnites/Belemnite96.jpg  \n",
            "  inflating: Geo Fossils-I Dataset/Belemnites/Belemnite97.jpg  \n",
            "  inflating: Geo Fossils-I Dataset/Belemnites/Belemnite98.jpg  \n",
            "  inflating: Geo Fossils-I Dataset/Belemnites/Belemnite99.jpg  \n",
            "  inflating: Geo Fossils-I Dataset/Corals/Coral1.jpg  \n",
            "  inflating: Geo Fossils-I Dataset/Corals/Coral10.jpg  \n",
            "  inflating: Geo Fossils-I Dataset/Corals/Coral100.jpg  \n",
            "  inflating: Geo Fossils-I Dataset/Corals/Coral101.jpg  \n",
            "  inflating: Geo Fossils-I Dataset/Corals/Coral102.jpg  \n",
            "  inflating: Geo Fossils-I Dataset/Corals/Coral103.jpg  \n",
            "  inflating: Geo Fossils-I Dataset/Corals/Coral104.jpg  \n",
            "  inflating: Geo Fossils-I Dataset/Corals/Coral105.jpg  \n",
            "  inflating: Geo Fossils-I Dataset/Corals/Coral106.jpg  \n",
            "  inflating: Geo Fossils-I Dataset/Corals/Coral107.jpg  \n",
            "  inflating: Geo Fossils-I Dataset/Corals/Coral108.jpg  \n",
            "  inflating: Geo Fossils-I Dataset/Corals/Coral109.jpg  \n",
            "  inflating: Geo Fossils-I Dataset/Corals/Coral11.jpg  \n",
            "  inflating: Geo Fossils-I Dataset/Corals/Coral110.jpg  \n",
            "  inflating: Geo Fossils-I Dataset/Corals/Coral111.jpg  \n",
            "  inflating: Geo Fossils-I Dataset/Corals/Coral112.jpg  \n",
            "  inflating: Geo Fossils-I Dataset/Corals/Coral113.jpg  \n",
            "  inflating: Geo Fossils-I Dataset/Corals/Coral114.jpg  \n",
            "  inflating: Geo Fossils-I Dataset/Corals/Coral115.jpg  \n",
            "  inflating: Geo Fossils-I Dataset/Corals/Coral116.jpg  \n",
            "  inflating: Geo Fossils-I Dataset/Corals/Coral117.jpg  \n",
            "  inflating: Geo Fossils-I Dataset/Corals/Coral118.jpg  \n",
            "  inflating: Geo Fossils-I Dataset/Corals/Coral119.jpg  \n",
            "  inflating: Geo Fossils-I Dataset/Corals/Coral12.jpg  \n",
            "  inflating: Geo Fossils-I Dataset/Corals/Coral120.jpg  \n",
            "  inflating: Geo Fossils-I Dataset/Corals/Coral121.jpg  \n",
            "  inflating: Geo Fossils-I Dataset/Corals/Coral122.jpg  \n",
            "  inflating: Geo Fossils-I Dataset/Corals/Coral123.jpg  \n",
            "  inflating: Geo Fossils-I Dataset/Corals/Coral124.jpg  \n",
            "  inflating: Geo Fossils-I Dataset/Corals/Coral125.jpg  \n",
            "  inflating: Geo Fossils-I Dataset/Corals/Coral126.jpg  \n",
            "  inflating: Geo Fossils-I Dataset/Corals/Coral127.jpg  \n",
            "  inflating: Geo Fossils-I Dataset/Corals/Coral128.jpg  \n",
            "  inflating: Geo Fossils-I Dataset/Corals/Coral129.jpg  \n",
            "  inflating: Geo Fossils-I Dataset/Corals/Coral13.jpg  \n",
            "  inflating: Geo Fossils-I Dataset/Corals/Coral130.jpg  \n",
            "  inflating: Geo Fossils-I Dataset/Corals/Coral131.jpg  \n",
            "  inflating: Geo Fossils-I Dataset/Corals/Coral132.jpg  \n",
            "  inflating: Geo Fossils-I Dataset/Corals/Coral133.jpg  \n",
            "  inflating: Geo Fossils-I Dataset/Corals/Coral134.jpg  \n",
            "  inflating: Geo Fossils-I Dataset/Corals/Coral135.jpg  \n",
            "  inflating: Geo Fossils-I Dataset/Corals/Coral136.jpg  \n",
            "  inflating: Geo Fossils-I Dataset/Corals/Coral137.jpg  \n",
            "  inflating: Geo Fossils-I Dataset/Corals/Coral138.jpg  \n",
            "  inflating: Geo Fossils-I Dataset/Corals/Coral139.jpg  \n",
            "  inflating: Geo Fossils-I Dataset/Corals/Coral14.jpg  \n",
            "  inflating: Geo Fossils-I Dataset/Corals/Coral140.jpg  \n",
            "  inflating: Geo Fossils-I Dataset/Corals/Coral141.jpg  \n",
            "  inflating: Geo Fossils-I Dataset/Corals/Coral142.jpg  \n",
            "  inflating: Geo Fossils-I Dataset/Corals/Coral143.jpg  \n",
            "  inflating: Geo Fossils-I Dataset/Corals/Coral144.jpg  \n",
            "  inflating: Geo Fossils-I Dataset/Corals/Coral145.jpg  \n",
            "  inflating: Geo Fossils-I Dataset/Corals/Coral146.jpg  \n",
            "  inflating: Geo Fossils-I Dataset/Corals/Coral147.jpg  \n",
            "  inflating: Geo Fossils-I Dataset/Corals/Coral148.jpg  \n",
            "  inflating: Geo Fossils-I Dataset/Corals/Coral149.jpg  \n",
            "  inflating: Geo Fossils-I Dataset/Corals/Coral15.jpg  \n",
            "  inflating: Geo Fossils-I Dataset/Corals/Coral150.jpg  \n",
            "  inflating: Geo Fossils-I Dataset/Corals/Coral151.jpg  \n",
            "  inflating: Geo Fossils-I Dataset/Corals/Coral152.jpg  \n",
            "  inflating: Geo Fossils-I Dataset/Corals/Coral153.jpg  \n",
            "  inflating: Geo Fossils-I Dataset/Corals/Coral154.jpg  \n",
            "  inflating: Geo Fossils-I Dataset/Corals/Coral155.jpg  \n",
            "  inflating: Geo Fossils-I Dataset/Corals/Coral156.jpg  \n",
            "  inflating: Geo Fossils-I Dataset/Corals/Coral157.jpg  \n",
            "  inflating: Geo Fossils-I Dataset/Corals/Coral158.jpg  \n",
            "  inflating: Geo Fossils-I Dataset/Corals/Coral159.jpg  \n",
            "  inflating: Geo Fossils-I Dataset/Corals/Coral16.jpg  \n",
            "  inflating: Geo Fossils-I Dataset/Corals/Coral160.jpg  \n",
            "  inflating: Geo Fossils-I Dataset/Corals/Coral161.jpg  \n",
            "  inflating: Geo Fossils-I Dataset/Corals/Coral162.jpg  \n",
            "  inflating: Geo Fossils-I Dataset/Corals/Coral163.jpg  \n",
            "  inflating: Geo Fossils-I Dataset/Corals/Coral164.jpg  \n",
            "  inflating: Geo Fossils-I Dataset/Corals/Coral165.jpg  \n",
            "  inflating: Geo Fossils-I Dataset/Corals/Coral166.jpg  \n",
            "  inflating: Geo Fossils-I Dataset/Corals/Coral167.jpg  \n",
            "  inflating: Geo Fossils-I Dataset/Corals/Coral168.jpg  \n",
            "  inflating: Geo Fossils-I Dataset/Corals/Coral169.jpg  \n",
            "  inflating: Geo Fossils-I Dataset/Corals/Coral17.jpg  \n",
            "  inflating: Geo Fossils-I Dataset/Corals/Coral170.jpg  \n",
            "  inflating: Geo Fossils-I Dataset/Corals/Coral171.jpg  \n",
            "  inflating: Geo Fossils-I Dataset/Corals/Coral172.jpg  \n",
            "  inflating: Geo Fossils-I Dataset/Corals/Coral173.jpg  \n",
            "  inflating: Geo Fossils-I Dataset/Corals/Coral174.jpg  \n",
            "  inflating: Geo Fossils-I Dataset/Corals/Coral175.jpg  \n",
            "  inflating: Geo Fossils-I Dataset/Corals/Coral176.jpg  \n",
            "  inflating: Geo Fossils-I Dataset/Corals/Coral177.jpg  \n",
            "  inflating: Geo Fossils-I Dataset/Corals/Coral178.jpg  \n",
            "  inflating: Geo Fossils-I Dataset/Corals/Coral179.jpg  \n",
            "  inflating: Geo Fossils-I Dataset/Corals/Coral18.jpg  \n",
            "  inflating: Geo Fossils-I Dataset/Corals/Coral180.jpg  \n",
            "  inflating: Geo Fossils-I Dataset/Corals/Coral181.jpg  \n",
            "  inflating: Geo Fossils-I Dataset/Corals/Coral182.jpg  \n",
            "  inflating: Geo Fossils-I Dataset/Corals/Coral183.jpg  \n",
            "  inflating: Geo Fossils-I Dataset/Corals/Coral184.jpg  \n",
            "  inflating: Geo Fossils-I Dataset/Corals/Coral185.jpg  \n",
            "  inflating: Geo Fossils-I Dataset/Corals/Coral186.jpg  \n",
            "  inflating: Geo Fossils-I Dataset/Corals/Coral187.jpg  \n",
            "  inflating: Geo Fossils-I Dataset/Corals/Coral188.jpg  \n",
            "  inflating: Geo Fossils-I Dataset/Corals/Coral189.jpg  \n",
            "  inflating: Geo Fossils-I Dataset/Corals/Coral19.jpg  \n",
            "  inflating: Geo Fossils-I Dataset/Corals/Coral190.jpg  \n",
            "  inflating: Geo Fossils-I Dataset/Corals/Coral191.jpg  \n",
            "  inflating: Geo Fossils-I Dataset/Corals/Coral192.jpg  \n",
            "  inflating: Geo Fossils-I Dataset/Corals/Coral193.jpg  \n",
            "  inflating: Geo Fossils-I Dataset/Corals/Coral194.jpg  \n",
            "  inflating: Geo Fossils-I Dataset/Corals/Coral195.jpg  \n",
            "  inflating: Geo Fossils-I Dataset/Corals/Coral196.jpg  \n",
            "  inflating: Geo Fossils-I Dataset/Corals/Coral197.jpg  \n",
            "  inflating: Geo Fossils-I Dataset/Corals/Coral198.jpg  \n",
            "  inflating: Geo Fossils-I Dataset/Corals/Coral199.jpg  \n",
            "  inflating: Geo Fossils-I Dataset/Corals/Coral2.jpg  \n",
            "  inflating: Geo Fossils-I Dataset/Corals/Coral20.jpg  \n",
            "  inflating: Geo Fossils-I Dataset/Corals/Coral200.jpg  \n",
            "  inflating: Geo Fossils-I Dataset/Corals/Coral21.jpg  \n",
            "  inflating: Geo Fossils-I Dataset/Corals/Coral22.jpg  \n",
            "  inflating: Geo Fossils-I Dataset/Corals/Coral23.jpg  \n",
            "  inflating: Geo Fossils-I Dataset/Corals/Coral24.jpg  \n",
            "  inflating: Geo Fossils-I Dataset/Corals/Coral25.jpg  \n",
            "  inflating: Geo Fossils-I Dataset/Corals/Coral26.jpg  \n",
            "  inflating: Geo Fossils-I Dataset/Corals/Coral27.jpg  \n",
            "  inflating: Geo Fossils-I Dataset/Corals/Coral28.jpg  \n",
            "  inflating: Geo Fossils-I Dataset/Corals/Coral29.jpg  \n",
            "  inflating: Geo Fossils-I Dataset/Corals/Coral3.jpg  \n",
            "  inflating: Geo Fossils-I Dataset/Corals/Coral30.jpg  \n",
            "  inflating: Geo Fossils-I Dataset/Corals/Coral31.jpg  \n",
            "  inflating: Geo Fossils-I Dataset/Corals/Coral32.jpg  \n",
            "  inflating: Geo Fossils-I Dataset/Corals/Coral33.jpg  \n",
            "  inflating: Geo Fossils-I Dataset/Corals/Coral34.jpg  \n",
            "  inflating: Geo Fossils-I Dataset/Corals/Coral35.jpg  \n",
            "  inflating: Geo Fossils-I Dataset/Corals/Coral36.jpg  \n",
            "  inflating: Geo Fossils-I Dataset/Corals/Coral37.jpg  \n",
            "  inflating: Geo Fossils-I Dataset/Corals/Coral38.jpg  \n",
            "  inflating: Geo Fossils-I Dataset/Corals/Coral39.jpg  \n",
            "  inflating: Geo Fossils-I Dataset/Corals/Coral4.jpg  \n",
            "  inflating: Geo Fossils-I Dataset/Corals/Coral40.jpg  \n",
            "  inflating: Geo Fossils-I Dataset/Corals/Coral41.jpg  \n",
            "  inflating: Geo Fossils-I Dataset/Corals/Coral42.jpg  \n",
            "  inflating: Geo Fossils-I Dataset/Corals/Coral43.jpg  \n",
            "  inflating: Geo Fossils-I Dataset/Corals/Coral44.jpg  \n",
            "  inflating: Geo Fossils-I Dataset/Corals/Coral45.jpg  \n",
            "  inflating: Geo Fossils-I Dataset/Corals/Coral46.jpg  \n",
            "  inflating: Geo Fossils-I Dataset/Corals/Coral47.jpg  \n",
            "  inflating: Geo Fossils-I Dataset/Corals/Coral48.jpg  \n",
            "  inflating: Geo Fossils-I Dataset/Corals/Coral49.jpg  \n",
            "  inflating: Geo Fossils-I Dataset/Corals/Coral5.jpg  \n",
            "  inflating: Geo Fossils-I Dataset/Corals/Coral50.jpg  \n",
            "  inflating: Geo Fossils-I Dataset/Corals/Coral51.jpg  \n",
            "  inflating: Geo Fossils-I Dataset/Corals/Coral52.jpg  \n",
            "  inflating: Geo Fossils-I Dataset/Corals/Coral53.jpg  \n",
            "  inflating: Geo Fossils-I Dataset/Corals/Coral54.jpg  \n",
            "  inflating: Geo Fossils-I Dataset/Corals/Coral55.jpg  \n",
            "  inflating: Geo Fossils-I Dataset/Corals/Coral56.jpg  \n",
            "  inflating: Geo Fossils-I Dataset/Corals/Coral57.jpg  \n",
            "  inflating: Geo Fossils-I Dataset/Corals/Coral58.jpg  \n",
            "  inflating: Geo Fossils-I Dataset/Corals/Coral59.jpg  \n",
            "  inflating: Geo Fossils-I Dataset/Corals/Coral6.jpg  \n",
            "  inflating: Geo Fossils-I Dataset/Corals/Coral60.jpg  \n",
            "  inflating: Geo Fossils-I Dataset/Corals/Coral61.jpg  \n",
            "  inflating: Geo Fossils-I Dataset/Corals/Coral62.jpg  \n",
            "  inflating: Geo Fossils-I Dataset/Corals/Coral63.jpg  \n",
            "  inflating: Geo Fossils-I Dataset/Corals/Coral64.jpg  \n",
            "  inflating: Geo Fossils-I Dataset/Corals/Coral65.jpg  \n",
            "  inflating: Geo Fossils-I Dataset/Corals/Coral66.jpg  \n",
            "  inflating: Geo Fossils-I Dataset/Corals/Coral67.jpg  \n",
            "  inflating: Geo Fossils-I Dataset/Corals/Coral68.jpg  \n",
            "  inflating: Geo Fossils-I Dataset/Corals/Coral69.jpg  \n",
            "  inflating: Geo Fossils-I Dataset/Corals/Coral7.jpg  \n",
            "  inflating: Geo Fossils-I Dataset/Corals/Coral70.jpg  \n",
            "  inflating: Geo Fossils-I Dataset/Corals/Coral71.jpg  \n",
            "  inflating: Geo Fossils-I Dataset/Corals/Coral72.jpg  \n",
            "  inflating: Geo Fossils-I Dataset/Corals/Coral73.jpg  \n",
            "  inflating: Geo Fossils-I Dataset/Corals/Coral74.jpg  \n",
            "  inflating: Geo Fossils-I Dataset/Corals/Coral75.jpg  \n",
            "  inflating: Geo Fossils-I Dataset/Corals/Coral76.jpg  \n",
            "  inflating: Geo Fossils-I Dataset/Corals/Coral77.jpg  \n",
            "  inflating: Geo Fossils-I Dataset/Corals/Coral78.jpg  \n",
            "  inflating: Geo Fossils-I Dataset/Corals/Coral79.jpg  \n",
            "  inflating: Geo Fossils-I Dataset/Corals/Coral8.jpg  \n",
            "  inflating: Geo Fossils-I Dataset/Corals/Coral80.jpg  \n",
            "  inflating: Geo Fossils-I Dataset/Corals/Coral81.jpg  \n",
            "  inflating: Geo Fossils-I Dataset/Corals/Coral82.jpg  \n",
            "  inflating: Geo Fossils-I Dataset/Corals/Coral83.jpg  \n",
            "  inflating: Geo Fossils-I Dataset/Corals/Coral84.jpg  \n",
            "  inflating: Geo Fossils-I Dataset/Corals/Coral85.jpg  \n",
            "  inflating: Geo Fossils-I Dataset/Corals/Coral86.jpg  \n",
            "  inflating: Geo Fossils-I Dataset/Corals/Coral87.jpg  \n",
            "  inflating: Geo Fossils-I Dataset/Corals/Coral88.jpg  \n",
            "  inflating: Geo Fossils-I Dataset/Corals/Coral89.jpg  \n",
            "  inflating: Geo Fossils-I Dataset/Corals/Coral9.jpg  \n",
            "  inflating: Geo Fossils-I Dataset/Corals/Coral90.jpg  \n",
            "  inflating: Geo Fossils-I Dataset/Corals/Coral91.jpg  \n",
            "  inflating: Geo Fossils-I Dataset/Corals/Coral92.jpg  \n",
            "  inflating: Geo Fossils-I Dataset/Corals/Coral93.jpg  \n",
            "  inflating: Geo Fossils-I Dataset/Corals/Coral94.jpg  \n",
            "  inflating: Geo Fossils-I Dataset/Corals/Coral95.jpg  \n",
            "  inflating: Geo Fossils-I Dataset/Corals/Coral96.jpg  \n",
            "  inflating: Geo Fossils-I Dataset/Corals/Coral97.jpg  \n",
            "  inflating: Geo Fossils-I Dataset/Corals/Coral98.jpg  \n",
            "  inflating: Geo Fossils-I Dataset/Corals/Coral99.jpg  \n",
            "  inflating: Geo Fossils-I Dataset/Crinoids/Crinoid1.jpg  \n",
            "  inflating: Geo Fossils-I Dataset/Crinoids/Crinoid10.jpg  \n",
            "  inflating: Geo Fossils-I Dataset/Crinoids/Crinoid100.jpg  \n",
            "  inflating: Geo Fossils-I Dataset/Crinoids/Crinoid101.jpg  \n",
            "  inflating: Geo Fossils-I Dataset/Crinoids/Crinoid102.jpg  \n",
            "  inflating: Geo Fossils-I Dataset/Crinoids/Crinoid103.jpg  \n",
            "  inflating: Geo Fossils-I Dataset/Crinoids/Crinoid104.jpg  \n",
            "  inflating: Geo Fossils-I Dataset/Crinoids/Crinoid105.jpg  \n",
            "  inflating: Geo Fossils-I Dataset/Crinoids/Crinoid106.jpg  \n",
            "  inflating: Geo Fossils-I Dataset/Crinoids/Crinoid107.jpg  \n",
            "  inflating: Geo Fossils-I Dataset/Crinoids/Crinoid108.jpg  \n",
            "  inflating: Geo Fossils-I Dataset/Crinoids/Crinoid109.jpg  \n",
            "  inflating: Geo Fossils-I Dataset/Crinoids/Crinoid11.jpg  \n",
            "  inflating: Geo Fossils-I Dataset/Crinoids/Crinoid110.jpg  \n",
            "  inflating: Geo Fossils-I Dataset/Crinoids/Crinoid111.jpg  \n",
            "  inflating: Geo Fossils-I Dataset/Crinoids/Crinoid112.jpg  \n",
            "  inflating: Geo Fossils-I Dataset/Crinoids/Crinoid113.jpg  \n",
            "  inflating: Geo Fossils-I Dataset/Crinoids/Crinoid114.jpg  \n",
            "  inflating: Geo Fossils-I Dataset/Crinoids/Crinoid115.jpg  \n",
            "  inflating: Geo Fossils-I Dataset/Crinoids/Crinoid116.jpg  \n",
            "  inflating: Geo Fossils-I Dataset/Crinoids/Crinoid117.jpg  \n",
            "  inflating: Geo Fossils-I Dataset/Crinoids/Crinoid118.jpg  \n",
            "  inflating: Geo Fossils-I Dataset/Crinoids/Crinoid119.jpg  \n",
            "  inflating: Geo Fossils-I Dataset/Crinoids/Crinoid12.jpg  \n",
            "  inflating: Geo Fossils-I Dataset/Crinoids/Crinoid120.jpg  \n",
            "  inflating: Geo Fossils-I Dataset/Crinoids/Crinoid121.jpg  \n",
            "  inflating: Geo Fossils-I Dataset/Crinoids/Crinoid122.jpg  \n",
            "  inflating: Geo Fossils-I Dataset/Crinoids/Crinoid123.jpg  \n",
            "  inflating: Geo Fossils-I Dataset/Crinoids/Crinoid124.jpg  \n",
            "  inflating: Geo Fossils-I Dataset/Crinoids/Crinoid125.jpg  \n",
            "  inflating: Geo Fossils-I Dataset/Crinoids/Crinoid126.jpg  \n",
            "  inflating: Geo Fossils-I Dataset/Crinoids/Crinoid127.jpg  \n",
            "  inflating: Geo Fossils-I Dataset/Crinoids/Crinoid128.jpg  \n",
            "  inflating: Geo Fossils-I Dataset/Crinoids/Crinoid129.jpg  \n",
            "  inflating: Geo Fossils-I Dataset/Crinoids/Crinoid13.jpg  \n",
            "  inflating: Geo Fossils-I Dataset/Crinoids/Crinoid130.jpg  \n",
            "  inflating: Geo Fossils-I Dataset/Crinoids/Crinoid131.jpg  \n",
            "  inflating: Geo Fossils-I Dataset/Crinoids/Crinoid132.jpg  \n",
            "  inflating: Geo Fossils-I Dataset/Crinoids/Crinoid133.jpg  \n",
            "  inflating: Geo Fossils-I Dataset/Crinoids/Crinoid134.jpg  \n",
            "  inflating: Geo Fossils-I Dataset/Crinoids/Crinoid135.jpg  \n",
            "  inflating: Geo Fossils-I Dataset/Crinoids/Crinoid136.jpg  \n",
            "  inflating: Geo Fossils-I Dataset/Crinoids/Crinoid137.jpg  \n",
            "  inflating: Geo Fossils-I Dataset/Crinoids/Crinoid138.jpg  \n",
            "  inflating: Geo Fossils-I Dataset/Crinoids/Crinoid139.jpg  \n",
            "  inflating: Geo Fossils-I Dataset/Crinoids/Crinoid14.jpg  \n",
            "  inflating: Geo Fossils-I Dataset/Crinoids/Crinoid140.jpg  \n",
            "  inflating: Geo Fossils-I Dataset/Crinoids/Crinoid141.jpg  \n",
            "  inflating: Geo Fossils-I Dataset/Crinoids/Crinoid142.jpg  \n",
            "  inflating: Geo Fossils-I Dataset/Crinoids/Crinoid143.jpg  \n",
            "  inflating: Geo Fossils-I Dataset/Crinoids/Crinoid144.jpg  \n",
            "  inflating: Geo Fossils-I Dataset/Crinoids/Crinoid145.jpg  \n",
            "  inflating: Geo Fossils-I Dataset/Crinoids/Crinoid146.jpg  \n",
            "  inflating: Geo Fossils-I Dataset/Crinoids/Crinoid147.jpg  \n",
            "  inflating: Geo Fossils-I Dataset/Crinoids/Crinoid148.jpg  \n",
            "  inflating: Geo Fossils-I Dataset/Crinoids/Crinoid149.jpg  \n",
            "  inflating: Geo Fossils-I Dataset/Crinoids/Crinoid15.jpg  \n",
            "  inflating: Geo Fossils-I Dataset/Crinoids/Crinoid150.jpg  \n",
            "  inflating: Geo Fossils-I Dataset/Crinoids/Crinoid151.jpg  \n",
            "  inflating: Geo Fossils-I Dataset/Crinoids/Crinoid152.jpg  \n",
            "  inflating: Geo Fossils-I Dataset/Crinoids/Crinoid153.jpg  \n",
            "  inflating: Geo Fossils-I Dataset/Crinoids/Crinoid154.jpg  \n",
            "  inflating: Geo Fossils-I Dataset/Crinoids/Crinoid155.jpg  \n",
            "  inflating: Geo Fossils-I Dataset/Crinoids/Crinoid156.jpg  \n",
            "  inflating: Geo Fossils-I Dataset/Crinoids/Crinoid157.jpg  \n",
            "  inflating: Geo Fossils-I Dataset/Crinoids/Crinoid158.jpg  \n",
            "  inflating: Geo Fossils-I Dataset/Crinoids/Crinoid159.jpg  \n",
            "  inflating: Geo Fossils-I Dataset/Crinoids/Crinoid16.jpg  \n",
            "  inflating: Geo Fossils-I Dataset/Crinoids/Crinoid160.jpg  \n",
            "  inflating: Geo Fossils-I Dataset/Crinoids/Crinoid161.jpg  \n",
            "  inflating: Geo Fossils-I Dataset/Crinoids/Crinoid162.jpg  \n",
            "  inflating: Geo Fossils-I Dataset/Crinoids/Crinoid163.jpg  \n",
            "  inflating: Geo Fossils-I Dataset/Crinoids/Crinoid164.jpg  \n",
            "  inflating: Geo Fossils-I Dataset/Crinoids/Crinoid165.jpg  \n",
            "  inflating: Geo Fossils-I Dataset/Crinoids/Crinoid166.jpg  \n",
            "  inflating: Geo Fossils-I Dataset/Crinoids/Crinoid167.jpg  \n",
            "  inflating: Geo Fossils-I Dataset/Crinoids/Crinoid168.jpg  \n",
            "  inflating: Geo Fossils-I Dataset/Crinoids/Crinoid169.jpg  \n",
            "  inflating: Geo Fossils-I Dataset/Crinoids/Crinoid17.jpg  \n",
            "  inflating: Geo Fossils-I Dataset/Crinoids/Crinoid170.jpg  \n",
            "  inflating: Geo Fossils-I Dataset/Crinoids/Crinoid171.jpg  \n",
            "  inflating: Geo Fossils-I Dataset/Crinoids/Crinoid172.jpg  \n",
            "  inflating: Geo Fossils-I Dataset/Crinoids/Crinoid173.jpg  \n",
            "  inflating: Geo Fossils-I Dataset/Crinoids/Crinoid174.jpg  \n",
            "  inflating: Geo Fossils-I Dataset/Crinoids/Crinoid175.jpg  \n",
            "  inflating: Geo Fossils-I Dataset/Crinoids/Crinoid176.jpg  \n",
            "  inflating: Geo Fossils-I Dataset/Crinoids/Crinoid177.jpg  \n",
            "  inflating: Geo Fossils-I Dataset/Crinoids/Crinoid178.jpg  \n",
            "  inflating: Geo Fossils-I Dataset/Crinoids/Crinoid179.jpg  \n",
            "  inflating: Geo Fossils-I Dataset/Crinoids/Crinoid18.jpg  \n",
            "  inflating: Geo Fossils-I Dataset/Crinoids/Crinoid180.jpg  \n",
            "  inflating: Geo Fossils-I Dataset/Crinoids/Crinoid181.jpg  \n",
            "  inflating: Geo Fossils-I Dataset/Crinoids/Crinoid182.jpg  \n",
            "  inflating: Geo Fossils-I Dataset/Crinoids/Crinoid183.jpg  \n",
            "  inflating: Geo Fossils-I Dataset/Crinoids/Crinoid184.jpg  \n",
            "  inflating: Geo Fossils-I Dataset/Crinoids/Crinoid185.jpg  \n",
            "  inflating: Geo Fossils-I Dataset/Crinoids/Crinoid186.jpg  \n",
            "  inflating: Geo Fossils-I Dataset/Crinoids/Crinoid187.jpg  \n",
            "  inflating: Geo Fossils-I Dataset/Crinoids/Crinoid188.jpg  \n",
            "  inflating: Geo Fossils-I Dataset/Crinoids/Crinoid189.jpg  \n",
            "  inflating: Geo Fossils-I Dataset/Crinoids/Crinoid19.jpg  \n",
            "  inflating: Geo Fossils-I Dataset/Crinoids/Crinoid190.jpg  \n",
            "  inflating: Geo Fossils-I Dataset/Crinoids/Crinoid191.jpg  \n",
            "  inflating: Geo Fossils-I Dataset/Crinoids/Crinoid192.jpg  \n",
            "  inflating: Geo Fossils-I Dataset/Crinoids/Crinoid193.jpg  \n",
            "  inflating: Geo Fossils-I Dataset/Crinoids/Crinoid194.jpg  \n",
            "  inflating: Geo Fossils-I Dataset/Crinoids/Crinoid195.jpg  \n",
            "  inflating: Geo Fossils-I Dataset/Crinoids/Crinoid196.jpg  \n",
            "  inflating: Geo Fossils-I Dataset/Crinoids/Crinoid197.jpg  \n",
            "  inflating: Geo Fossils-I Dataset/Crinoids/Crinoid198.jpg  \n",
            "  inflating: Geo Fossils-I Dataset/Crinoids/Crinoid199.jpg  \n",
            "  inflating: Geo Fossils-I Dataset/Crinoids/Crinoid2.jpg  \n",
            "  inflating: Geo Fossils-I Dataset/Crinoids/Crinoid20.jpg  \n",
            "  inflating: Geo Fossils-I Dataset/Crinoids/Crinoid200.jpg  \n",
            "  inflating: Geo Fossils-I Dataset/Crinoids/Crinoid21.jpg  \n",
            "  inflating: Geo Fossils-I Dataset/Crinoids/Crinoid22.jpg  \n",
            "  inflating: Geo Fossils-I Dataset/Crinoids/Crinoid23.jpg  \n",
            "  inflating: Geo Fossils-I Dataset/Crinoids/Crinoid24.jpg  \n",
            "  inflating: Geo Fossils-I Dataset/Crinoids/Crinoid25.jpg  \n",
            "  inflating: Geo Fossils-I Dataset/Crinoids/Crinoid26.jpg  \n",
            "  inflating: Geo Fossils-I Dataset/Crinoids/Crinoid27.jpg  \n",
            "  inflating: Geo Fossils-I Dataset/Crinoids/Crinoid28.jpg  \n",
            "  inflating: Geo Fossils-I Dataset/Crinoids/Crinoid29.jpg  \n",
            "  inflating: Geo Fossils-I Dataset/Crinoids/Crinoid3.jpg  \n",
            "  inflating: Geo Fossils-I Dataset/Crinoids/Crinoid30.jpg  \n",
            "  inflating: Geo Fossils-I Dataset/Crinoids/Crinoid31.jpg  \n",
            "  inflating: Geo Fossils-I Dataset/Crinoids/Crinoid32.jpg  \n",
            "  inflating: Geo Fossils-I Dataset/Crinoids/Crinoid33.jpg  \n",
            "  inflating: Geo Fossils-I Dataset/Crinoids/Crinoid34.jpg  \n",
            "  inflating: Geo Fossils-I Dataset/Crinoids/Crinoid35.jpg  \n",
            "  inflating: Geo Fossils-I Dataset/Crinoids/Crinoid36.jpg  \n",
            "  inflating: Geo Fossils-I Dataset/Crinoids/Crinoid37.jpg  \n",
            "  inflating: Geo Fossils-I Dataset/Crinoids/Crinoid38.jpg  \n",
            "  inflating: Geo Fossils-I Dataset/Crinoids/Crinoid39.jpg  \n",
            "  inflating: Geo Fossils-I Dataset/Crinoids/Crinoid4.jpg  \n",
            "  inflating: Geo Fossils-I Dataset/Crinoids/Crinoid40.jpg  \n",
            "  inflating: Geo Fossils-I Dataset/Crinoids/Crinoid41.jpg  \n",
            "  inflating: Geo Fossils-I Dataset/Crinoids/Crinoid42.jpg  \n",
            "  inflating: Geo Fossils-I Dataset/Crinoids/Crinoid43.jpg  \n",
            "  inflating: Geo Fossils-I Dataset/Crinoids/Crinoid44.jpg  \n",
            "  inflating: Geo Fossils-I Dataset/Crinoids/Crinoid45.jpg  \n",
            "  inflating: Geo Fossils-I Dataset/Crinoids/Crinoid46.jpg  \n",
            "  inflating: Geo Fossils-I Dataset/Crinoids/Crinoid47.jpg  \n",
            "  inflating: Geo Fossils-I Dataset/Crinoids/Crinoid48.jpg  \n",
            "  inflating: Geo Fossils-I Dataset/Crinoids/Crinoid49.jpg  \n",
            "  inflating: Geo Fossils-I Dataset/Crinoids/Crinoid5.jpg  \n",
            "  inflating: Geo Fossils-I Dataset/Crinoids/Crinoid50.jpg  \n",
            "  inflating: Geo Fossils-I Dataset/Crinoids/Crinoid51.jpg  \n",
            "  inflating: Geo Fossils-I Dataset/Crinoids/Crinoid52.jpg  \n",
            "  inflating: Geo Fossils-I Dataset/Crinoids/Crinoid53.jpg  \n",
            "  inflating: Geo Fossils-I Dataset/Crinoids/Crinoid54.jpg  \n",
            "  inflating: Geo Fossils-I Dataset/Crinoids/Crinoid55.jpg  \n",
            "  inflating: Geo Fossils-I Dataset/Crinoids/Crinoid56.jpg  \n",
            "  inflating: Geo Fossils-I Dataset/Crinoids/Crinoid57.jpg  \n",
            "  inflating: Geo Fossils-I Dataset/Crinoids/Crinoid58.jpg  \n",
            "  inflating: Geo Fossils-I Dataset/Crinoids/Crinoid59.jpg  \n",
            "  inflating: Geo Fossils-I Dataset/Crinoids/Crinoid6.jpg  \n",
            "  inflating: Geo Fossils-I Dataset/Crinoids/Crinoid60.jpg  \n",
            "  inflating: Geo Fossils-I Dataset/Crinoids/Crinoid61.jpg  \n",
            "  inflating: Geo Fossils-I Dataset/Crinoids/Crinoid62.jpg  \n",
            "  inflating: Geo Fossils-I Dataset/Crinoids/Crinoid63.jpg  \n",
            "  inflating: Geo Fossils-I Dataset/Crinoids/Crinoid64.jpg  \n",
            "  inflating: Geo Fossils-I Dataset/Crinoids/Crinoid65.jpg  \n",
            "  inflating: Geo Fossils-I Dataset/Crinoids/Crinoid66.jpg  \n",
            "  inflating: Geo Fossils-I Dataset/Crinoids/Crinoid67.jpg  \n",
            "  inflating: Geo Fossils-I Dataset/Crinoids/Crinoid68.jpg  \n",
            "  inflating: Geo Fossils-I Dataset/Crinoids/Crinoid69.jpg  \n",
            "  inflating: Geo Fossils-I Dataset/Crinoids/Crinoid7.jpg  \n",
            "  inflating: Geo Fossils-I Dataset/Crinoids/Crinoid70.jpg  \n",
            "  inflating: Geo Fossils-I Dataset/Crinoids/Crinoid71.jpg  \n",
            "  inflating: Geo Fossils-I Dataset/Crinoids/Crinoid72.jpg  \n",
            "  inflating: Geo Fossils-I Dataset/Crinoids/Crinoid73.jpg  \n",
            "  inflating: Geo Fossils-I Dataset/Crinoids/Crinoid74.jpg  \n",
            "  inflating: Geo Fossils-I Dataset/Crinoids/Crinoid75.jpg  \n",
            "  inflating: Geo Fossils-I Dataset/Crinoids/Crinoid76.jpg  \n",
            "  inflating: Geo Fossils-I Dataset/Crinoids/Crinoid77.jpg  \n",
            "  inflating: Geo Fossils-I Dataset/Crinoids/Crinoid78.jpg  \n",
            "  inflating: Geo Fossils-I Dataset/Crinoids/Crinoid79.jpg  \n",
            "  inflating: Geo Fossils-I Dataset/Crinoids/Crinoid8.jpg  \n",
            "  inflating: Geo Fossils-I Dataset/Crinoids/Crinoid80.jpg  \n",
            "  inflating: Geo Fossils-I Dataset/Crinoids/Crinoid81.jpg  \n",
            "  inflating: Geo Fossils-I Dataset/Crinoids/Crinoid82.jpg  \n",
            "  inflating: Geo Fossils-I Dataset/Crinoids/Crinoid83.jpg  \n",
            "  inflating: Geo Fossils-I Dataset/Crinoids/Crinoid84.jpg  \n",
            "  inflating: Geo Fossils-I Dataset/Crinoids/Crinoid85.jpg  \n",
            "  inflating: Geo Fossils-I Dataset/Crinoids/Crinoid86.jpg  \n",
            "  inflating: Geo Fossils-I Dataset/Crinoids/Crinoid87.jpg  \n",
            "  inflating: Geo Fossils-I Dataset/Crinoids/Crinoid88.jpg  \n",
            "  inflating: Geo Fossils-I Dataset/Crinoids/Crinoid89.jpg  \n",
            "  inflating: Geo Fossils-I Dataset/Crinoids/Crinoid9.jpg  \n",
            "  inflating: Geo Fossils-I Dataset/Crinoids/Crinoid90.jpg  \n",
            "  inflating: Geo Fossils-I Dataset/Crinoids/Crinoid91.jpg  \n",
            "  inflating: Geo Fossils-I Dataset/Crinoids/Crinoid92.jpg  \n",
            "  inflating: Geo Fossils-I Dataset/Crinoids/Crinoid93.jpg  \n",
            "  inflating: Geo Fossils-I Dataset/Crinoids/Crinoid94.jpg  \n",
            "  inflating: Geo Fossils-I Dataset/Crinoids/Crinoid95.jpg  \n",
            "  inflating: Geo Fossils-I Dataset/Crinoids/Crinoid96.jpg  \n",
            "  inflating: Geo Fossils-I Dataset/Crinoids/Crinoid97.jpg  \n",
            "  inflating: Geo Fossils-I Dataset/Crinoids/Crinoid98.jpg  \n",
            "  inflating: Geo Fossils-I Dataset/Crinoids/Crinoid99.jpg  \n",
            "  inflating: Geo Fossils-I Dataset/Leaf fossils/Leaf fossil1.jpg  \n",
            "  inflating: Geo Fossils-I Dataset/Leaf fossils/Leaf fossil10.jpg  \n",
            "  inflating: Geo Fossils-I Dataset/Leaf fossils/Leaf fossil100.jpg  \n",
            "  inflating: Geo Fossils-I Dataset/Leaf fossils/Leaf fossil101.jpg  \n",
            "  inflating: Geo Fossils-I Dataset/Leaf fossils/Leaf fossil102.jpg  \n",
            "  inflating: Geo Fossils-I Dataset/Leaf fossils/Leaf fossil103.jpg  \n",
            "  inflating: Geo Fossils-I Dataset/Leaf fossils/Leaf fossil104.jpg  \n",
            "  inflating: Geo Fossils-I Dataset/Leaf fossils/Leaf fossil105.jpg  \n",
            "  inflating: Geo Fossils-I Dataset/Leaf fossils/Leaf fossil106.jpg  \n",
            "  inflating: Geo Fossils-I Dataset/Leaf fossils/Leaf fossil107.jpg  \n",
            "  inflating: Geo Fossils-I Dataset/Leaf fossils/Leaf fossil108.jpg  \n",
            "  inflating: Geo Fossils-I Dataset/Leaf fossils/Leaf fossil109.jpg  \n",
            "  inflating: Geo Fossils-I Dataset/Leaf fossils/Leaf fossil11.jpg  \n",
            "  inflating: Geo Fossils-I Dataset/Leaf fossils/Leaf fossil110.jpg  \n",
            "  inflating: Geo Fossils-I Dataset/Leaf fossils/Leaf fossil111.jpg  \n",
            "  inflating: Geo Fossils-I Dataset/Leaf fossils/Leaf fossil112.jpg  \n",
            "  inflating: Geo Fossils-I Dataset/Leaf fossils/Leaf fossil113.jpg  \n",
            "  inflating: Geo Fossils-I Dataset/Leaf fossils/Leaf fossil114.jpg  \n",
            "  inflating: Geo Fossils-I Dataset/Leaf fossils/Leaf fossil115.jpg  \n",
            "  inflating: Geo Fossils-I Dataset/Leaf fossils/Leaf fossil116.jpg  \n",
            "  inflating: Geo Fossils-I Dataset/Leaf fossils/Leaf fossil117.jpg  \n",
            "  inflating: Geo Fossils-I Dataset/Leaf fossils/Leaf fossil118.jpg  \n",
            "  inflating: Geo Fossils-I Dataset/Leaf fossils/Leaf fossil119.jpg  \n",
            "  inflating: Geo Fossils-I Dataset/Leaf fossils/Leaf fossil12.jpg  \n",
            "  inflating: Geo Fossils-I Dataset/Leaf fossils/Leaf fossil120.jpg  \n",
            "  inflating: Geo Fossils-I Dataset/Leaf fossils/Leaf fossil121.jpg  \n",
            "  inflating: Geo Fossils-I Dataset/Leaf fossils/Leaf fossil122.jpg  \n",
            "  inflating: Geo Fossils-I Dataset/Leaf fossils/Leaf fossil123.jpg  \n",
            "  inflating: Geo Fossils-I Dataset/Leaf fossils/Leaf fossil124.jpg  \n",
            "  inflating: Geo Fossils-I Dataset/Leaf fossils/Leaf fossil125.jpg  \n",
            "  inflating: Geo Fossils-I Dataset/Leaf fossils/Leaf fossil126.jpg  \n",
            "  inflating: Geo Fossils-I Dataset/Leaf fossils/Leaf fossil127.jpg  \n",
            "  inflating: Geo Fossils-I Dataset/Leaf fossils/Leaf fossil128.jpg  \n",
            "  inflating: Geo Fossils-I Dataset/Leaf fossils/Leaf fossil129.jpg  \n",
            "  inflating: Geo Fossils-I Dataset/Leaf fossils/Leaf fossil13.jpg  \n",
            "  inflating: Geo Fossils-I Dataset/Leaf fossils/Leaf fossil130.jpg  \n",
            "  inflating: Geo Fossils-I Dataset/Leaf fossils/Leaf fossil131.jpg  \n",
            "  inflating: Geo Fossils-I Dataset/Leaf fossils/Leaf fossil132.jpg  \n",
            "  inflating: Geo Fossils-I Dataset/Leaf fossils/Leaf fossil133.jpg  \n",
            "  inflating: Geo Fossils-I Dataset/Leaf fossils/Leaf fossil134.jpg  \n",
            "  inflating: Geo Fossils-I Dataset/Leaf fossils/Leaf fossil135.jpg  \n",
            "  inflating: Geo Fossils-I Dataset/Leaf fossils/Leaf fossil136.jpg  \n",
            "  inflating: Geo Fossils-I Dataset/Leaf fossils/Leaf fossil137.jpg  \n",
            "  inflating: Geo Fossils-I Dataset/Leaf fossils/Leaf fossil138.jpg  \n",
            "  inflating: Geo Fossils-I Dataset/Leaf fossils/Leaf fossil139.jpg  \n",
            "  inflating: Geo Fossils-I Dataset/Leaf fossils/Leaf fossil14.jpg  \n",
            "  inflating: Geo Fossils-I Dataset/Leaf fossils/Leaf fossil140.jpg  \n",
            "  inflating: Geo Fossils-I Dataset/Leaf fossils/Leaf fossil141.jpg  \n",
            "  inflating: Geo Fossils-I Dataset/Leaf fossils/Leaf fossil142.jpg  \n",
            "  inflating: Geo Fossils-I Dataset/Leaf fossils/Leaf fossil143.jpg  \n",
            "  inflating: Geo Fossils-I Dataset/Leaf fossils/Leaf fossil144.jpg  \n",
            "  inflating: Geo Fossils-I Dataset/Leaf fossils/Leaf fossil145.jpg  \n",
            "  inflating: Geo Fossils-I Dataset/Leaf fossils/Leaf fossil146.jpg  \n",
            "  inflating: Geo Fossils-I Dataset/Leaf fossils/Leaf fossil147.jpg  \n",
            "  inflating: Geo Fossils-I Dataset/Leaf fossils/Leaf fossil148.jpg  \n",
            "  inflating: Geo Fossils-I Dataset/Leaf fossils/Leaf fossil149.jpg  \n",
            "  inflating: Geo Fossils-I Dataset/Leaf fossils/Leaf fossil15.jpg  \n",
            "  inflating: Geo Fossils-I Dataset/Leaf fossils/Leaf fossil150.jpg  \n",
            "  inflating: Geo Fossils-I Dataset/Leaf fossils/Leaf fossil151.jpg  \n",
            "  inflating: Geo Fossils-I Dataset/Leaf fossils/Leaf fossil152.jpg  \n",
            "  inflating: Geo Fossils-I Dataset/Leaf fossils/Leaf fossil153.jpg  \n",
            "  inflating: Geo Fossils-I Dataset/Leaf fossils/Leaf fossil154.jpg  \n",
            "  inflating: Geo Fossils-I Dataset/Leaf fossils/Leaf fossil155.jpg  \n",
            "  inflating: Geo Fossils-I Dataset/Leaf fossils/Leaf fossil156.jpg  \n",
            "  inflating: Geo Fossils-I Dataset/Leaf fossils/Leaf fossil157.jpg  \n",
            "  inflating: Geo Fossils-I Dataset/Leaf fossils/Leaf fossil158.jpg  \n",
            "  inflating: Geo Fossils-I Dataset/Leaf fossils/Leaf fossil159.jpg  \n",
            "  inflating: Geo Fossils-I Dataset/Leaf fossils/Leaf fossil16.jpg  \n",
            "  inflating: Geo Fossils-I Dataset/Leaf fossils/Leaf fossil160.jpg  \n",
            "  inflating: Geo Fossils-I Dataset/Leaf fossils/Leaf fossil161.jpg  \n",
            "  inflating: Geo Fossils-I Dataset/Leaf fossils/Leaf fossil162.jpg  \n",
            "  inflating: Geo Fossils-I Dataset/Leaf fossils/Leaf fossil163.jpg  \n",
            "  inflating: Geo Fossils-I Dataset/Leaf fossils/Leaf fossil164.jpg  \n",
            "  inflating: Geo Fossils-I Dataset/Leaf fossils/Leaf fossil165.jpg  \n",
            "  inflating: Geo Fossils-I Dataset/Leaf fossils/Leaf fossil166.jpg  \n",
            "  inflating: Geo Fossils-I Dataset/Leaf fossils/Leaf fossil167.jpg  \n",
            "  inflating: Geo Fossils-I Dataset/Leaf fossils/Leaf fossil168.jpg  \n",
            "  inflating: Geo Fossils-I Dataset/Leaf fossils/Leaf fossil169.jpg  \n",
            "  inflating: Geo Fossils-I Dataset/Leaf fossils/Leaf fossil17.jpg  \n",
            "  inflating: Geo Fossils-I Dataset/Leaf fossils/Leaf fossil170.jpg  \n",
            "  inflating: Geo Fossils-I Dataset/Leaf fossils/Leaf fossil171.jpg  \n",
            "  inflating: Geo Fossils-I Dataset/Leaf fossils/Leaf fossil172.jpg  \n",
            "  inflating: Geo Fossils-I Dataset/Leaf fossils/Leaf fossil173.jpg  \n",
            "  inflating: Geo Fossils-I Dataset/Leaf fossils/Leaf fossil174.jpg  \n",
            "  inflating: Geo Fossils-I Dataset/Leaf fossils/Leaf fossil175.jpg  \n",
            "  inflating: Geo Fossils-I Dataset/Leaf fossils/Leaf fossil176.jpg  \n",
            "  inflating: Geo Fossils-I Dataset/Leaf fossils/Leaf fossil177.jpg  \n",
            "  inflating: Geo Fossils-I Dataset/Leaf fossils/Leaf fossil178.jpg  \n",
            "  inflating: Geo Fossils-I Dataset/Leaf fossils/Leaf fossil179.jpg  \n",
            "  inflating: Geo Fossils-I Dataset/Leaf fossils/Leaf fossil18.jpg  \n",
            "  inflating: Geo Fossils-I Dataset/Leaf fossils/Leaf fossil180.jpg  \n",
            "  inflating: Geo Fossils-I Dataset/Leaf fossils/Leaf fossil181.jpg  \n",
            "  inflating: Geo Fossils-I Dataset/Leaf fossils/Leaf fossil182.jpg  \n",
            "  inflating: Geo Fossils-I Dataset/Leaf fossils/Leaf fossil183.jpg  \n",
            "  inflating: Geo Fossils-I Dataset/Leaf fossils/Leaf fossil184.jpg  \n",
            "  inflating: Geo Fossils-I Dataset/Leaf fossils/Leaf fossil185.jpg  \n",
            "  inflating: Geo Fossils-I Dataset/Leaf fossils/Leaf fossil186.jpg  \n",
            "  inflating: Geo Fossils-I Dataset/Leaf fossils/Leaf fossil187.jpg  \n",
            "  inflating: Geo Fossils-I Dataset/Leaf fossils/Leaf fossil188.jpg  \n",
            "  inflating: Geo Fossils-I Dataset/Leaf fossils/Leaf fossil189.jpg  \n",
            "  inflating: Geo Fossils-I Dataset/Leaf fossils/Leaf fossil19.jpg  \n",
            "  inflating: Geo Fossils-I Dataset/Leaf fossils/Leaf fossil190.jpg  \n",
            "  inflating: Geo Fossils-I Dataset/Leaf fossils/Leaf fossil191.jpg  \n",
            "  inflating: Geo Fossils-I Dataset/Leaf fossils/Leaf fossil192.jpg  \n",
            "  inflating: Geo Fossils-I Dataset/Leaf fossils/Leaf fossil193.jpg  \n",
            "  inflating: Geo Fossils-I Dataset/Leaf fossils/Leaf fossil194.jpg  \n",
            "  inflating: Geo Fossils-I Dataset/Leaf fossils/Leaf fossil195.jpg  \n",
            "  inflating: Geo Fossils-I Dataset/Leaf fossils/Leaf fossil196.jpg  \n",
            "  inflating: Geo Fossils-I Dataset/Leaf fossils/Leaf fossil197.jpg  \n",
            "  inflating: Geo Fossils-I Dataset/Leaf fossils/Leaf fossil198.jpg  \n",
            "  inflating: Geo Fossils-I Dataset/Leaf fossils/Leaf fossil199.jpg  \n",
            "  inflating: Geo Fossils-I Dataset/Leaf fossils/Leaf fossil2.jpg  \n",
            "  inflating: Geo Fossils-I Dataset/Leaf fossils/Leaf fossil20.jpg  \n",
            "  inflating: Geo Fossils-I Dataset/Leaf fossils/Leaf fossil200.jpg  \n",
            "  inflating: Geo Fossils-I Dataset/Leaf fossils/Leaf fossil21.jpg  \n",
            "  inflating: Geo Fossils-I Dataset/Leaf fossils/Leaf fossil22.jpg  \n",
            "  inflating: Geo Fossils-I Dataset/Leaf fossils/Leaf fossil23.jpg  \n",
            "  inflating: Geo Fossils-I Dataset/Leaf fossils/Leaf fossil24.jpg  \n",
            "  inflating: Geo Fossils-I Dataset/Leaf fossils/Leaf fossil25.jpg  \n",
            "  inflating: Geo Fossils-I Dataset/Leaf fossils/Leaf fossil26.jpg  \n",
            "  inflating: Geo Fossils-I Dataset/Leaf fossils/Leaf fossil27.jpg  \n",
            "  inflating: Geo Fossils-I Dataset/Leaf fossils/Leaf fossil28.jpg  \n",
            "  inflating: Geo Fossils-I Dataset/Leaf fossils/Leaf fossil29.jpg  \n",
            "  inflating: Geo Fossils-I Dataset/Leaf fossils/Leaf fossil3.jpg  \n",
            "  inflating: Geo Fossils-I Dataset/Leaf fossils/Leaf fossil30.jpg  \n",
            "  inflating: Geo Fossils-I Dataset/Leaf fossils/Leaf fossil31.jpg  \n",
            "  inflating: Geo Fossils-I Dataset/Leaf fossils/Leaf fossil32.jpg  \n",
            "  inflating: Geo Fossils-I Dataset/Leaf fossils/Leaf fossil33.jpg  \n",
            "  inflating: Geo Fossils-I Dataset/Leaf fossils/Leaf fossil34.jpg  \n",
            "  inflating: Geo Fossils-I Dataset/Leaf fossils/Leaf fossil35.jpg  \n",
            "  inflating: Geo Fossils-I Dataset/Leaf fossils/Leaf fossil36.jpg  \n",
            "  inflating: Geo Fossils-I Dataset/Leaf fossils/Leaf fossil37.jpg  \n",
            "  inflating: Geo Fossils-I Dataset/Leaf fossils/Leaf fossil38.jpg  \n",
            "  inflating: Geo Fossils-I Dataset/Leaf fossils/Leaf fossil39.jpg  \n",
            "  inflating: Geo Fossils-I Dataset/Leaf fossils/Leaf fossil4.jpg  \n",
            "  inflating: Geo Fossils-I Dataset/Leaf fossils/Leaf fossil40.jpg  \n",
            "  inflating: Geo Fossils-I Dataset/Leaf fossils/Leaf fossil41.jpg  \n",
            "  inflating: Geo Fossils-I Dataset/Leaf fossils/Leaf fossil42.jpg  \n",
            "  inflating: Geo Fossils-I Dataset/Leaf fossils/Leaf fossil43.jpg  \n",
            "  inflating: Geo Fossils-I Dataset/Leaf fossils/Leaf fossil44.jpg  \n",
            "  inflating: Geo Fossils-I Dataset/Leaf fossils/Leaf fossil45.jpg  \n",
            "  inflating: Geo Fossils-I Dataset/Leaf fossils/Leaf fossil46.jpg  \n",
            "  inflating: Geo Fossils-I Dataset/Leaf fossils/Leaf fossil47.jpg  \n",
            "  inflating: Geo Fossils-I Dataset/Leaf fossils/Leaf fossil48.jpg  \n",
            "  inflating: Geo Fossils-I Dataset/Leaf fossils/Leaf fossil49.jpg  \n",
            "  inflating: Geo Fossils-I Dataset/Leaf fossils/Leaf fossil5.jpg  \n",
            "  inflating: Geo Fossils-I Dataset/Leaf fossils/Leaf fossil50.jpg  \n",
            "  inflating: Geo Fossils-I Dataset/Leaf fossils/Leaf fossil51.jpg  \n",
            "  inflating: Geo Fossils-I Dataset/Leaf fossils/Leaf fossil52.jpg  \n",
            "  inflating: Geo Fossils-I Dataset/Leaf fossils/Leaf fossil53.jpg  \n",
            "  inflating: Geo Fossils-I Dataset/Leaf fossils/Leaf fossil54.jpg  \n",
            "  inflating: Geo Fossils-I Dataset/Leaf fossils/Leaf fossil55.jpg  \n",
            "  inflating: Geo Fossils-I Dataset/Leaf fossils/Leaf fossil56.jpg  \n",
            "  inflating: Geo Fossils-I Dataset/Leaf fossils/Leaf fossil57.jpg  \n",
            "  inflating: Geo Fossils-I Dataset/Leaf fossils/Leaf fossil58.jpg  \n",
            "  inflating: Geo Fossils-I Dataset/Leaf fossils/Leaf fossil59.jpg  \n",
            "  inflating: Geo Fossils-I Dataset/Leaf fossils/Leaf fossil6.jpg  \n",
            "  inflating: Geo Fossils-I Dataset/Leaf fossils/Leaf fossil60.jpg  \n",
            "  inflating: Geo Fossils-I Dataset/Leaf fossils/Leaf fossil61.jpg  \n",
            "  inflating: Geo Fossils-I Dataset/Leaf fossils/Leaf fossil62.jpg  \n",
            "  inflating: Geo Fossils-I Dataset/Leaf fossils/Leaf fossil63.jpg  \n",
            "  inflating: Geo Fossils-I Dataset/Leaf fossils/Leaf fossil64.jpg  \n",
            "  inflating: Geo Fossils-I Dataset/Leaf fossils/Leaf fossil65.jpg  \n",
            "  inflating: Geo Fossils-I Dataset/Leaf fossils/Leaf fossil66.jpg  \n",
            "  inflating: Geo Fossils-I Dataset/Leaf fossils/Leaf fossil67.jpg  \n",
            "  inflating: Geo Fossils-I Dataset/Leaf fossils/Leaf fossil68.jpg  \n",
            "  inflating: Geo Fossils-I Dataset/Leaf fossils/Leaf fossil69.jpg  \n",
            "  inflating: Geo Fossils-I Dataset/Leaf fossils/Leaf fossil7.jpg  \n",
            "  inflating: Geo Fossils-I Dataset/Leaf fossils/Leaf fossil70.jpg  \n",
            "  inflating: Geo Fossils-I Dataset/Leaf fossils/Leaf fossil71.jpg  \n",
            "  inflating: Geo Fossils-I Dataset/Leaf fossils/Leaf fossil72.jpg  \n",
            "  inflating: Geo Fossils-I Dataset/Leaf fossils/Leaf fossil73.jpg  \n",
            "  inflating: Geo Fossils-I Dataset/Leaf fossils/Leaf fossil74.jpg  \n",
            "  inflating: Geo Fossils-I Dataset/Leaf fossils/Leaf fossil75.jpg  \n",
            "  inflating: Geo Fossils-I Dataset/Leaf fossils/Leaf fossil76.jpg  \n",
            "  inflating: Geo Fossils-I Dataset/Leaf fossils/Leaf fossil77.jpg  \n",
            "  inflating: Geo Fossils-I Dataset/Leaf fossils/Leaf fossil78.jpg  \n",
            "  inflating: Geo Fossils-I Dataset/Leaf fossils/Leaf fossil79.jpg  \n",
            "  inflating: Geo Fossils-I Dataset/Leaf fossils/Leaf fossil8.jpg  \n",
            "  inflating: Geo Fossils-I Dataset/Leaf fossils/Leaf fossil80.jpg  \n",
            "  inflating: Geo Fossils-I Dataset/Leaf fossils/Leaf fossil81.jpg  \n",
            "  inflating: Geo Fossils-I Dataset/Leaf fossils/Leaf fossil82.jpg  \n",
            "  inflating: Geo Fossils-I Dataset/Leaf fossils/Leaf fossil83.jpg  \n",
            "  inflating: Geo Fossils-I Dataset/Leaf fossils/Leaf fossil84.jpg  \n",
            "  inflating: Geo Fossils-I Dataset/Leaf fossils/Leaf fossil85.jpg  \n",
            "  inflating: Geo Fossils-I Dataset/Leaf fossils/Leaf fossil86.jpg  \n",
            "  inflating: Geo Fossils-I Dataset/Leaf fossils/Leaf fossil87.jpg  \n",
            "  inflating: Geo Fossils-I Dataset/Leaf fossils/Leaf fossil88.jpg  \n",
            "  inflating: Geo Fossils-I Dataset/Leaf fossils/Leaf fossil89.jpg  \n",
            "  inflating: Geo Fossils-I Dataset/Leaf fossils/Leaf fossil9.jpg  \n",
            "  inflating: Geo Fossils-I Dataset/Leaf fossils/Leaf fossil90.jpg  \n",
            "  inflating: Geo Fossils-I Dataset/Leaf fossils/Leaf fossil91.jpg  \n",
            "  inflating: Geo Fossils-I Dataset/Leaf fossils/Leaf fossil92.jpg  \n",
            "  inflating: Geo Fossils-I Dataset/Leaf fossils/Leaf fossil93.jpg  \n",
            "  inflating: Geo Fossils-I Dataset/Leaf fossils/Leaf fossil94.jpg  \n",
            "  inflating: Geo Fossils-I Dataset/Leaf fossils/Leaf fossil95.jpg  \n",
            "  inflating: Geo Fossils-I Dataset/Leaf fossils/Leaf fossil96.jpg  \n",
            "  inflating: Geo Fossils-I Dataset/Leaf fossils/Leaf fossil97.jpg  \n",
            "  inflating: Geo Fossils-I Dataset/Leaf fossils/Leaf fossil98.jpg  \n",
            "  inflating: Geo Fossils-I Dataset/Leaf fossils/Leaf fossil99.jpg  \n",
            "  inflating: Geo Fossils-I Dataset/Trilobites/Trilobite1.jpg  \n",
            "  inflating: Geo Fossils-I Dataset/Trilobites/Trilobite10.jpg  \n",
            "  inflating: Geo Fossils-I Dataset/Trilobites/Trilobite100.jpg  \n",
            "  inflating: Geo Fossils-I Dataset/Trilobites/Trilobite101.jpg  \n",
            "  inflating: Geo Fossils-I Dataset/Trilobites/Trilobite102.jpg  \n",
            "  inflating: Geo Fossils-I Dataset/Trilobites/Trilobite103.jpg  \n",
            "  inflating: Geo Fossils-I Dataset/Trilobites/Trilobite104.jpg  \n",
            "  inflating: Geo Fossils-I Dataset/Trilobites/Trilobite105.jpg  \n",
            "  inflating: Geo Fossils-I Dataset/Trilobites/Trilobite106.jpg  \n",
            "  inflating: Geo Fossils-I Dataset/Trilobites/Trilobite107.jpg  \n",
            "  inflating: Geo Fossils-I Dataset/Trilobites/Trilobite108.jpg  \n",
            "  inflating: Geo Fossils-I Dataset/Trilobites/Trilobite109.jpg  \n",
            "  inflating: Geo Fossils-I Dataset/Trilobites/Trilobite11.jpg  \n",
            "  inflating: Geo Fossils-I Dataset/Trilobites/Trilobite110.jpg  \n",
            "  inflating: Geo Fossils-I Dataset/Trilobites/Trilobite111.jpg  \n",
            "  inflating: Geo Fossils-I Dataset/Trilobites/Trilobite112.jpg  \n",
            "  inflating: Geo Fossils-I Dataset/Trilobites/Trilobite113.jpg  \n",
            "  inflating: Geo Fossils-I Dataset/Trilobites/Trilobite114.jpg  \n",
            "  inflating: Geo Fossils-I Dataset/Trilobites/Trilobite115.jpg  \n",
            "  inflating: Geo Fossils-I Dataset/Trilobites/Trilobite116.jpg  \n",
            "  inflating: Geo Fossils-I Dataset/Trilobites/Trilobite117.jpg  \n",
            "  inflating: Geo Fossils-I Dataset/Trilobites/Trilobite118.jpg  \n",
            "  inflating: Geo Fossils-I Dataset/Trilobites/Trilobite119.jpg  \n",
            "  inflating: Geo Fossils-I Dataset/Trilobites/Trilobite12.jpg  \n",
            "  inflating: Geo Fossils-I Dataset/Trilobites/Trilobite120.jpg  \n",
            "  inflating: Geo Fossils-I Dataset/Trilobites/Trilobite121.jpg  \n",
            "  inflating: Geo Fossils-I Dataset/Trilobites/Trilobite122.jpg  \n",
            "  inflating: Geo Fossils-I Dataset/Trilobites/Trilobite123.jpg  \n",
            "  inflating: Geo Fossils-I Dataset/Trilobites/Trilobite124.jpg  \n",
            "  inflating: Geo Fossils-I Dataset/Trilobites/Trilobite125.jpg  \n",
            "  inflating: Geo Fossils-I Dataset/Trilobites/Trilobite126.jpg  \n",
            "  inflating: Geo Fossils-I Dataset/Trilobites/Trilobite127.jpg  \n",
            "  inflating: Geo Fossils-I Dataset/Trilobites/Trilobite128.jpg  \n",
            "  inflating: Geo Fossils-I Dataset/Trilobites/Trilobite129.jpg  \n",
            "  inflating: Geo Fossils-I Dataset/Trilobites/Trilobite13.jpg  \n",
            "  inflating: Geo Fossils-I Dataset/Trilobites/Trilobite130.jpg  \n",
            "  inflating: Geo Fossils-I Dataset/Trilobites/Trilobite131.jpg  \n",
            "  inflating: Geo Fossils-I Dataset/Trilobites/Trilobite132.jpg  \n",
            "  inflating: Geo Fossils-I Dataset/Trilobites/Trilobite133.jpg  \n",
            "  inflating: Geo Fossils-I Dataset/Trilobites/Trilobite134.jpg  \n",
            "  inflating: Geo Fossils-I Dataset/Trilobites/Trilobite135.jpg  \n",
            "  inflating: Geo Fossils-I Dataset/Trilobites/Trilobite136.jpg  \n",
            "  inflating: Geo Fossils-I Dataset/Trilobites/Trilobite137.jpg  \n",
            "  inflating: Geo Fossils-I Dataset/Trilobites/Trilobite138.jpg  \n",
            "  inflating: Geo Fossils-I Dataset/Trilobites/Trilobite139.jpg  \n",
            "  inflating: Geo Fossils-I Dataset/Trilobites/Trilobite14.jpg  \n",
            "  inflating: Geo Fossils-I Dataset/Trilobites/Trilobite140.jpg  \n",
            "  inflating: Geo Fossils-I Dataset/Trilobites/Trilobite141.jpg  \n",
            "  inflating: Geo Fossils-I Dataset/Trilobites/Trilobite142.jpg  \n",
            "  inflating: Geo Fossils-I Dataset/Trilobites/Trilobite143.jpg  \n",
            "  inflating: Geo Fossils-I Dataset/Trilobites/Trilobite144.jpg  \n",
            "  inflating: Geo Fossils-I Dataset/Trilobites/Trilobite145.jpg  \n",
            "  inflating: Geo Fossils-I Dataset/Trilobites/Trilobite146.jpg  \n",
            "  inflating: Geo Fossils-I Dataset/Trilobites/Trilobite147.jpg  \n",
            "  inflating: Geo Fossils-I Dataset/Trilobites/Trilobite148.jpg  \n",
            "  inflating: Geo Fossils-I Dataset/Trilobites/Trilobite149.jpg  \n",
            "  inflating: Geo Fossils-I Dataset/Trilobites/Trilobite15.jpg  \n",
            "  inflating: Geo Fossils-I Dataset/Trilobites/Trilobite150.jpg  \n",
            "  inflating: Geo Fossils-I Dataset/Trilobites/Trilobite151.jpg  \n",
            "  inflating: Geo Fossils-I Dataset/Trilobites/Trilobite152.jpg  \n",
            "  inflating: Geo Fossils-I Dataset/Trilobites/Trilobite153.jpg  \n",
            "  inflating: Geo Fossils-I Dataset/Trilobites/Trilobite154.jpg  \n",
            "  inflating: Geo Fossils-I Dataset/Trilobites/Trilobite155.jpg  \n",
            "  inflating: Geo Fossils-I Dataset/Trilobites/Trilobite156.jpg  \n",
            "  inflating: Geo Fossils-I Dataset/Trilobites/Trilobite157.jpg  \n",
            "  inflating: Geo Fossils-I Dataset/Trilobites/Trilobite158.jpg  \n",
            "  inflating: Geo Fossils-I Dataset/Trilobites/Trilobite159.jpg  \n",
            "  inflating: Geo Fossils-I Dataset/Trilobites/Trilobite16.jpg  \n",
            "  inflating: Geo Fossils-I Dataset/Trilobites/Trilobite160.jpg  \n",
            "  inflating: Geo Fossils-I Dataset/Trilobites/Trilobite161.jpg  \n",
            "  inflating: Geo Fossils-I Dataset/Trilobites/Trilobite162.jpg  \n",
            "  inflating: Geo Fossils-I Dataset/Trilobites/Trilobite163.jpg  \n",
            "  inflating: Geo Fossils-I Dataset/Trilobites/Trilobite164.jpg  \n",
            "  inflating: Geo Fossils-I Dataset/Trilobites/Trilobite165.jpg  \n",
            "  inflating: Geo Fossils-I Dataset/Trilobites/Trilobite166.jpg  \n",
            "  inflating: Geo Fossils-I Dataset/Trilobites/Trilobite167.jpg  \n",
            "  inflating: Geo Fossils-I Dataset/Trilobites/Trilobite168.jpg  \n",
            "  inflating: Geo Fossils-I Dataset/Trilobites/Trilobite169.jpg  \n",
            "  inflating: Geo Fossils-I Dataset/Trilobites/Trilobite17.jpg  \n",
            "  inflating: Geo Fossils-I Dataset/Trilobites/Trilobite170.jpg  \n",
            "  inflating: Geo Fossils-I Dataset/Trilobites/Trilobite171.jpg  \n",
            "  inflating: Geo Fossils-I Dataset/Trilobites/Trilobite172.jpg  \n",
            "  inflating: Geo Fossils-I Dataset/Trilobites/Trilobite173.jpg  \n",
            "  inflating: Geo Fossils-I Dataset/Trilobites/Trilobite174.jpg  \n",
            "  inflating: Geo Fossils-I Dataset/Trilobites/Trilobite175.jpg  \n",
            "  inflating: Geo Fossils-I Dataset/Trilobites/Trilobite176.jpg  \n",
            "  inflating: Geo Fossils-I Dataset/Trilobites/Trilobite177.jpg  \n",
            "  inflating: Geo Fossils-I Dataset/Trilobites/Trilobite178.jpg  \n",
            "  inflating: Geo Fossils-I Dataset/Trilobites/Trilobite179.jpg  \n",
            "  inflating: Geo Fossils-I Dataset/Trilobites/Trilobite18.jpg  \n",
            "  inflating: Geo Fossils-I Dataset/Trilobites/Trilobite180.jpg  \n",
            "  inflating: Geo Fossils-I Dataset/Trilobites/Trilobite181.jpg  \n",
            "  inflating: Geo Fossils-I Dataset/Trilobites/Trilobite182.jpg  \n",
            "  inflating: Geo Fossils-I Dataset/Trilobites/Trilobite183.jpg  \n",
            "  inflating: Geo Fossils-I Dataset/Trilobites/Trilobite184.jpg  \n",
            "  inflating: Geo Fossils-I Dataset/Trilobites/Trilobite185.jpg  \n",
            "  inflating: Geo Fossils-I Dataset/Trilobites/Trilobite186.jpg  \n",
            "  inflating: Geo Fossils-I Dataset/Trilobites/Trilobite187.jpg  \n",
            "  inflating: Geo Fossils-I Dataset/Trilobites/Trilobite188.jpg  \n",
            "  inflating: Geo Fossils-I Dataset/Trilobites/Trilobite189.jpg  \n",
            "  inflating: Geo Fossils-I Dataset/Trilobites/Trilobite19.jpg  \n",
            "  inflating: Geo Fossils-I Dataset/Trilobites/Trilobite190.jpg  \n",
            "  inflating: Geo Fossils-I Dataset/Trilobites/Trilobite191.jpg  \n",
            "  inflating: Geo Fossils-I Dataset/Trilobites/Trilobite192.jpg  \n",
            "  inflating: Geo Fossils-I Dataset/Trilobites/Trilobite193.jpg  \n",
            "  inflating: Geo Fossils-I Dataset/Trilobites/Trilobite194.jpg  \n",
            "  inflating: Geo Fossils-I Dataset/Trilobites/Trilobite195.jpg  \n",
            "  inflating: Geo Fossils-I Dataset/Trilobites/Trilobite196.jpg  \n",
            "  inflating: Geo Fossils-I Dataset/Trilobites/Trilobite197.jpg  \n",
            "  inflating: Geo Fossils-I Dataset/Trilobites/Trilobite198.jpg  \n",
            "  inflating: Geo Fossils-I Dataset/Trilobites/Trilobite199.jpg  \n",
            "  inflating: Geo Fossils-I Dataset/Trilobites/Trilobite2.jpg  \n",
            "  inflating: Geo Fossils-I Dataset/Trilobites/Trilobite20.jpg  \n",
            "  inflating: Geo Fossils-I Dataset/Trilobites/Trilobite200.jpg  \n",
            "  inflating: Geo Fossils-I Dataset/Trilobites/Trilobite21.jpg  \n",
            "  inflating: Geo Fossils-I Dataset/Trilobites/Trilobite22.jpg  \n",
            "  inflating: Geo Fossils-I Dataset/Trilobites/Trilobite23.jpg  \n",
            "  inflating: Geo Fossils-I Dataset/Trilobites/Trilobite24.jpg  \n",
            "  inflating: Geo Fossils-I Dataset/Trilobites/Trilobite25.jpg  \n",
            "  inflating: Geo Fossils-I Dataset/Trilobites/Trilobite26.jpg  \n",
            "  inflating: Geo Fossils-I Dataset/Trilobites/Trilobite27.jpg  \n",
            "  inflating: Geo Fossils-I Dataset/Trilobites/Trilobite28.jpg  \n",
            "  inflating: Geo Fossils-I Dataset/Trilobites/Trilobite29.jpg  \n",
            "  inflating: Geo Fossils-I Dataset/Trilobites/Trilobite3.jpg  \n",
            "  inflating: Geo Fossils-I Dataset/Trilobites/Trilobite30.jpg  \n",
            "  inflating: Geo Fossils-I Dataset/Trilobites/Trilobite31.jpg  \n",
            "  inflating: Geo Fossils-I Dataset/Trilobites/Trilobite32.jpg  \n",
            "  inflating: Geo Fossils-I Dataset/Trilobites/Trilobite33.jpg  \n",
            "  inflating: Geo Fossils-I Dataset/Trilobites/Trilobite34.jpg  \n",
            "  inflating: Geo Fossils-I Dataset/Trilobites/Trilobite35.jpg  \n",
            "  inflating: Geo Fossils-I Dataset/Trilobites/Trilobite36.jpg  \n",
            "  inflating: Geo Fossils-I Dataset/Trilobites/Trilobite37.jpg  \n",
            "  inflating: Geo Fossils-I Dataset/Trilobites/Trilobite38.jpg  \n",
            "  inflating: Geo Fossils-I Dataset/Trilobites/Trilobite39.jpg  \n",
            "  inflating: Geo Fossils-I Dataset/Trilobites/Trilobite4.jpg  \n",
            "  inflating: Geo Fossils-I Dataset/Trilobites/Trilobite40.jpg  \n",
            "  inflating: Geo Fossils-I Dataset/Trilobites/Trilobite41.jpg  \n",
            "  inflating: Geo Fossils-I Dataset/Trilobites/Trilobite42.jpg  \n",
            "  inflating: Geo Fossils-I Dataset/Trilobites/Trilobite43.jpg  \n",
            "  inflating: Geo Fossils-I Dataset/Trilobites/Trilobite44.jpg  \n",
            "  inflating: Geo Fossils-I Dataset/Trilobites/Trilobite45.jpg  \n",
            "  inflating: Geo Fossils-I Dataset/Trilobites/Trilobite46.jpg  \n",
            "  inflating: Geo Fossils-I Dataset/Trilobites/Trilobite47.jpg  \n",
            "  inflating: Geo Fossils-I Dataset/Trilobites/Trilobite48.jpg  \n",
            "  inflating: Geo Fossils-I Dataset/Trilobites/Trilobite49.jpg  \n",
            "  inflating: Geo Fossils-I Dataset/Trilobites/Trilobite5.jpg  \n",
            "  inflating: Geo Fossils-I Dataset/Trilobites/Trilobite50.jpg  \n",
            "  inflating: Geo Fossils-I Dataset/Trilobites/Trilobite51.jpg  \n",
            "  inflating: Geo Fossils-I Dataset/Trilobites/Trilobite52.jpg  \n",
            "  inflating: Geo Fossils-I Dataset/Trilobites/Trilobite53.jpg  \n",
            "  inflating: Geo Fossils-I Dataset/Trilobites/Trilobite54.jpg  \n",
            "  inflating: Geo Fossils-I Dataset/Trilobites/Trilobite55.jpg  \n",
            "  inflating: Geo Fossils-I Dataset/Trilobites/Trilobite56.jpg  \n",
            "  inflating: Geo Fossils-I Dataset/Trilobites/Trilobite57.jpg  \n",
            "  inflating: Geo Fossils-I Dataset/Trilobites/Trilobite58.jpg  \n",
            "  inflating: Geo Fossils-I Dataset/Trilobites/Trilobite59.jpg  \n",
            "  inflating: Geo Fossils-I Dataset/Trilobites/Trilobite6.jpg  \n",
            "  inflating: Geo Fossils-I Dataset/Trilobites/Trilobite60.jpg  \n",
            "  inflating: Geo Fossils-I Dataset/Trilobites/Trilobite61.jpg  \n",
            "  inflating: Geo Fossils-I Dataset/Trilobites/Trilobite62.jpg  \n",
            "  inflating: Geo Fossils-I Dataset/Trilobites/Trilobite63.jpg  \n",
            "  inflating: Geo Fossils-I Dataset/Trilobites/Trilobite64.jpg  \n",
            "  inflating: Geo Fossils-I Dataset/Trilobites/Trilobite65.jpg  \n",
            "  inflating: Geo Fossils-I Dataset/Trilobites/Trilobite66.jpg  \n",
            "  inflating: Geo Fossils-I Dataset/Trilobites/Trilobite67.jpg  \n",
            "  inflating: Geo Fossils-I Dataset/Trilobites/Trilobite68.jpg  \n",
            "  inflating: Geo Fossils-I Dataset/Trilobites/Trilobite69.jpg  \n",
            "  inflating: Geo Fossils-I Dataset/Trilobites/Trilobite7.jpg  \n",
            "  inflating: Geo Fossils-I Dataset/Trilobites/Trilobite70.jpg  \n",
            "  inflating: Geo Fossils-I Dataset/Trilobites/Trilobite71.jpg  \n",
            "  inflating: Geo Fossils-I Dataset/Trilobites/Trilobite72.jpg  \n",
            "  inflating: Geo Fossils-I Dataset/Trilobites/Trilobite73.jpg  \n",
            "  inflating: Geo Fossils-I Dataset/Trilobites/Trilobite74.jpg  \n",
            "  inflating: Geo Fossils-I Dataset/Trilobites/Trilobite75.jpg  \n",
            "  inflating: Geo Fossils-I Dataset/Trilobites/Trilobite76.jpg  \n",
            "  inflating: Geo Fossils-I Dataset/Trilobites/Trilobite77.jpg  \n",
            "  inflating: Geo Fossils-I Dataset/Trilobites/Trilobite78.jpg  \n",
            "  inflating: Geo Fossils-I Dataset/Trilobites/Trilobite79.jpg  \n",
            "  inflating: Geo Fossils-I Dataset/Trilobites/Trilobite8.jpg  \n",
            "  inflating: Geo Fossils-I Dataset/Trilobites/Trilobite80.jpg  \n",
            "  inflating: Geo Fossils-I Dataset/Trilobites/Trilobite81.jpg  \n",
            "  inflating: Geo Fossils-I Dataset/Trilobites/Trilobite82.jpg  \n",
            "  inflating: Geo Fossils-I Dataset/Trilobites/Trilobite83.jpg  \n",
            "  inflating: Geo Fossils-I Dataset/Trilobites/Trilobite84.jpg  \n",
            "  inflating: Geo Fossils-I Dataset/Trilobites/Trilobite85.jpg  \n",
            "  inflating: Geo Fossils-I Dataset/Trilobites/Trilobite86.jpg  \n",
            "  inflating: Geo Fossils-I Dataset/Trilobites/Trilobite87.jpg  \n",
            "  inflating: Geo Fossils-I Dataset/Trilobites/Trilobite88.jpg  \n",
            "  inflating: Geo Fossils-I Dataset/Trilobites/Trilobite89.jpg  \n",
            "  inflating: Geo Fossils-I Dataset/Trilobites/Trilobite9.jpg  \n",
            "  inflating: Geo Fossils-I Dataset/Trilobites/Trilobite90.jpg  \n",
            "  inflating: Geo Fossils-I Dataset/Trilobites/Trilobite91.jpg  \n",
            "  inflating: Geo Fossils-I Dataset/Trilobites/Trilobite92.jpg  \n",
            "  inflating: Geo Fossils-I Dataset/Trilobites/Trilobite93.jpg  \n",
            "  inflating: Geo Fossils-I Dataset/Trilobites/Trilobite94.jpg  \n",
            "  inflating: Geo Fossils-I Dataset/Trilobites/Trilobite95.jpg  \n",
            "  inflating: Geo Fossils-I Dataset/Trilobites/Trilobite96.jpg  \n",
            "  inflating: Geo Fossils-I Dataset/Trilobites/Trilobite97.jpg  \n",
            "  inflating: Geo Fossils-I Dataset/Trilobites/Trilobite98.jpg  \n",
            "  inflating: Geo Fossils-I Dataset/Trilobites/Trilobite99.jpg  \n"
          ]
        }
      ],
      "source": [
        "!unzip /content/fossil-image.zip"
      ]
    },
    {
      "cell_type": "code",
      "execution_count": null,
      "metadata": {
        "id": "ibkbq2DszxQ2"
      },
      "outputs": [],
      "source": [
        "import os\n",
        "import shutil\n",
        "from tensorflow.keras.preprocessing.image import ImageDataGenerator\n",
        "from sklearn.model_selection import train_test_split\n",
        "import shutil\n",
        "from sklearn.model_selection import train_test_split\n",
        "from tensorflow.keras.applications.vgg16 import VGG16\n",
        "from tensorflow.keras.layers import Dense, Flatten\n",
        "from tensorflow.keras.models import Model\n",
        "from keras.optimizers import Adam\n",
        "from tensorflow.keras.applications.resnet50 import ResNet50\n",
        "from tensorflow.keras.layers import Dense, Flatten\n",
        "from tensorflow.keras.models import Model\n",
        "from keras.preprocessing import image\n",
        "from keras.applications.vgg16 import preprocess_input\n",
        "from tensorflow.keras.preprocessing.image import load_img, img_to_array"
      ]
    },
    {
      "cell_type": "markdown",
      "metadata": {
        "id": "Pfa_X3X1ieO5"
      },
      "source": [
        "### Deleting a folder"
      ]
    },
    {
      "cell_type": "code",
      "execution_count": null,
      "metadata": {
        "colab": {
          "base_uri": "https://localhost:8080/",
          "height": 70
        },
        "id": "Ky3EA7JBic_r",
        "outputId": "b3eb56a0-2883-4eee-b051-0329b0fbb915"
      },
      "outputs": [
        {
          "output_type": "execute_result",
          "data": {
            "text/plain": [
              "'import os\\nimport shutil\\n\\nfolder_to_delete = \"/content/Geo Fossils-I Dataset\"\\n\\n# Use shutil.rmtree to delete the folder and its contents\\nshutil.rmtree(folder_to_delete)\\n\\n# Verify that the folder has been deleted\\ntry:\\n    print(os.listdir(folder_to_delete))\\nexcept FileNotFoundError:\\n    print(f\"The folder {folder_to_delete} has been successfully deleted.\")'"
            ],
            "application/vnd.google.colaboratory.intrinsic+json": {
              "type": "string"
            }
          },
          "metadata": {},
          "execution_count": 7
        }
      ],
      "source": [
        "\"\"\"import os\n",
        "import shutil\n",
        "\n",
        "folder_to_delete = \"/content/Geo Fossils-I Dataset\"\n",
        "\n",
        "# Use shutil.rmtree to delete the folder and its contents\n",
        "shutil.rmtree(folder_to_delete)\n",
        "\n",
        "# Verify that the folder has been deleted\n",
        "try:\n",
        "    print(os.listdir(folder_to_delete))\n",
        "except FileNotFoundError:\n",
        "    print(f\"The folder {folder_to_delete} has been successfully deleted.\")\"\"\""
      ]
    },
    {
      "cell_type": "code",
      "source": [
        "import os\n",
        "\n",
        "# Define the current folder name and the new folder name\n",
        "current_folder_name = '/content/Geo Fossils-I Dataset'\n",
        "new_folder_name = '/content/Geo_Fossil_Dataset'\n",
        "\n",
        "# Use os.rename() to change the folder name\n",
        "os.rename(current_folder_name, new_folder_name)"
      ],
      "metadata": {
        "id": "NIuK3MO1AJFw"
      },
      "execution_count": null,
      "outputs": []
    },
    {
      "cell_type": "code",
      "source": [
        "import os\n",
        "import shutil\n",
        "from sklearn.model_selection import train_test_split\n",
        "\n",
        "# Define the path to your original image dataset\n",
        "dataset_path = '/content/Geo_Fossil_Dataset/'\n",
        "\n",
        "# Define the paths for the train, test, and valid folders\n",
        "train_path = '/content/train'\n",
        "test_path = '/content/test'\n",
        "valid_path = '/content/valid'\n",
        "\n",
        "# Create the train, test, and valid folders if they don't exist\n",
        "os.makedirs(train_path, exist_ok=True)\n",
        "os.makedirs(test_path, exist_ok=True)\n",
        "os.makedirs(valid_path, exist_ok=True)\n",
        "\n",
        "# Get the list of classes (subdirectories) in the dataset\n",
        "classes = os.listdir(dataset_path)\n",
        "\n",
        "# Iterate over each class\n",
        "for class_name in classes:\n",
        "    class_path = os.path.join(dataset_path, class_name)\n",
        "    class_images = [os.path.join(class_path, img) for img in os.listdir(class_path)]\n",
        "\n",
        "    # Split the images into training, testing, and validation sets\n",
        "    train_images, temp_images = train_test_split(class_images, test_size=0.2, random_state=42)\n",
        "    valid_images, test_images = train_test_split(temp_images, test_size=0.5, random_state=42)\n",
        "\n",
        "    # Define the paths for the train, test, and valid sets for the current class\n",
        "    train_class_path = os.path.join(train_path, class_name)\n",
        "    test_class_path = os.path.join(test_path, class_name)\n",
        "    valid_class_path = os.path.join(valid_path, class_name)\n",
        "\n",
        "    # Create the train, test, and valid class folders if they don't exist\n",
        "    os.makedirs(train_class_path, exist_ok=True)\n",
        "    os.makedirs(test_class_path, exist_ok=True)\n",
        "    os.makedirs(valid_class_path, exist_ok=True)\n",
        "\n",
        "    # Copy images to their respective folders\n",
        "    for img_path in train_images:\n",
        "        shutil.copy(img_path, os.path.join(train_class_path, os.path.basename(img_path)))\n",
        "\n",
        "    for img_path in test_images:\n",
        "        shutil.copy(img_path, os.path.join(test_class_path, os.path.basename(img_path)))\n",
        "\n",
        "    for img_path in valid_images:\n",
        "        shutil.copy(img_path, os.path.join(valid_class_path, os.path.basename(img_path)))"
      ],
      "metadata": {
        "id": "00fmCep69UmK"
      },
      "execution_count": null,
      "outputs": []
    },
    {
      "cell_type": "code",
      "execution_count": null,
      "metadata": {
        "id": "-L7xjbdE5EMc"
      },
      "outputs": [],
      "source": [
        "trainpath = '/content/train'\n",
        "testpath = '/content/test'"
      ]
    },
    {
      "cell_type": "code",
      "execution_count": null,
      "metadata": {
        "id": "EfECs5VV5EJ0"
      },
      "outputs": [],
      "source": [
        "train_datagen = ImageDataGenerator(rescale = 1./255,zoom_range= 0.2,shear_range= 0.2)\n",
        "test_datagen = ImageDataGenerator(rescale = 1./255)"
      ]
    },
    {
      "cell_type": "code",
      "execution_count": null,
      "metadata": {
        "colab": {
          "base_uri": "https://localhost:8080/"
        },
        "id": "ptsZ270o5EG_",
        "outputId": "0546eb11-37d7-4959-dc12-354d4cdfd18b"
      },
      "outputs": [
        {
          "output_type": "stream",
          "name": "stdout",
          "text": [
            "Found 960 images belonging to 6 classes.\n",
            "Found 120 images belonging to 6 classes.\n"
          ]
        }
      ],
      "source": [
        "train = train_datagen.flow_from_directory(trainpath,target_size =(224,224),batch_size = 16)\n",
        "test = test_datagen.flow_from_directory(testpath,target_size =(224,224),batch_size = 16)"
      ]
    },
    {
      "cell_type": "markdown",
      "metadata": {
        "id": "AmbfovKToIp0"
      },
      "source": [
        "## VGG 16"
      ]
    },
    {
      "cell_type": "code",
      "execution_count": null,
      "metadata": {
        "id": "w56abq7c5D_4"
      },
      "outputs": [],
      "source": [
        "from tensorflow.keras.applications.vgg16 import VGG16\n",
        "from tensorflow.keras.layers import Dense, Flatten\n",
        "from tensorflow.keras.models import Model"
      ]
    },
    {
      "cell_type": "code",
      "execution_count": null,
      "metadata": {
        "colab": {
          "base_uri": "https://localhost:8080/"
        },
        "id": "IGs95nOm5D84",
        "outputId": "89071374-c853-4be3-e2d7-67ede4c61c31"
      },
      "outputs": [
        {
          "output_type": "stream",
          "name": "stdout",
          "text": [
            "Downloading data from https://storage.googleapis.com/tensorflow/keras-applications/vgg16/vgg16_weights_tf_dim_ordering_tf_kernels_notop.h5\n",
            "58889256/58889256 [==============================] - 4s 0us/step\n"
          ]
        }
      ],
      "source": [
        "vgg = VGG16(include_top = False,input_shape = (224,224,3))"
      ]
    },
    {
      "cell_type": "code",
      "execution_count": null,
      "metadata": {
        "colab": {
          "base_uri": "https://localhost:8080/"
        },
        "id": "V1X6CIA75D6l",
        "outputId": "065efeda-5ca5-4122-9dd3-79d45055cc99"
      },
      "outputs": [
        {
          "output_type": "stream",
          "name": "stdout",
          "text": [
            "<keras.src.engine.input_layer.InputLayer object at 0x7d598b364190>\n",
            "<keras.src.layers.convolutional.conv2d.Conv2D object at 0x7d598b927b20>\n",
            "<keras.src.layers.convolutional.conv2d.Conv2D object at 0x7d5a0f585c60>\n",
            "<keras.src.layers.pooling.max_pooling2d.MaxPooling2D object at 0x7d5989274880>\n",
            "<keras.src.layers.convolutional.conv2d.Conv2D object at 0x7d5a0f585480>\n",
            "<keras.src.layers.convolutional.conv2d.Conv2D object at 0x7d5989275450>\n",
            "<keras.src.layers.pooling.max_pooling2d.MaxPooling2D object at 0x7d5989275750>\n",
            "<keras.src.layers.convolutional.conv2d.Conv2D object at 0x7d5989276ec0>\n",
            "<keras.src.layers.convolutional.conv2d.Conv2D object at 0x7d5989277fa0>\n",
            "<keras.src.layers.convolutional.conv2d.Conv2D object at 0x7d5a0f584a30>\n",
            "<keras.src.layers.pooling.max_pooling2d.MaxPooling2D object at 0x7d59892f0850>\n",
            "<keras.src.layers.convolutional.conv2d.Conv2D object at 0x7d59892749d0>\n",
            "<keras.src.layers.convolutional.conv2d.Conv2D object at 0x7d59892f1360>\n",
            "<keras.src.layers.convolutional.conv2d.Conv2D object at 0x7d59892f1bd0>\n",
            "<keras.src.layers.pooling.max_pooling2d.MaxPooling2D object at 0x7d59892f3370>\n",
            "<keras.src.layers.convolutional.conv2d.Conv2D object at 0x7d59892f3be0>\n",
            "<keras.src.layers.convolutional.conv2d.Conv2D object at 0x7d59892f0df0>\n",
            "<keras.src.layers.convolutional.conv2d.Conv2D object at 0x7d59892f3190>\n",
            "<keras.src.layers.pooling.max_pooling2d.MaxPooling2D object at 0x7d5988e95ae0>\n"
          ]
        }
      ],
      "source": [
        "for layer in vgg.layers:\n",
        "  print(layer)"
      ]
    },
    {
      "cell_type": "code",
      "execution_count": null,
      "metadata": {
        "colab": {
          "base_uri": "https://localhost:8080/"
        },
        "id": "p5UxK4Ac5D4g",
        "outputId": "fa4d6de5-6aae-47ae-963a-fb0b6ce0cc2c"
      },
      "outputs": [
        {
          "output_type": "execute_result",
          "data": {
            "text/plain": [
              "19"
            ]
          },
          "metadata": {},
          "execution_count": 16
        }
      ],
      "source": [
        "len(vgg.layers)"
      ]
    },
    {
      "cell_type": "code",
      "execution_count": null,
      "metadata": {
        "id": "ynswQzGQ5Dzh"
      },
      "outputs": [],
      "source": [
        "for layer in vgg.layers:\n",
        "  layer.trainable = False"
      ]
    },
    {
      "cell_type": "code",
      "execution_count": null,
      "metadata": {
        "id": "Wm0D6x2T5DxY"
      },
      "outputs": [],
      "source": [
        "x= Flatten()(vgg.output)"
      ]
    },
    {
      "cell_type": "code",
      "execution_count": null,
      "metadata": {
        "id": "kVGuTbHW5Du8"
      },
      "outputs": [],
      "source": [
        "output = Dense(6, activation ='softmax')(x)"
      ]
    },
    {
      "cell_type": "code",
      "execution_count": null,
      "metadata": {
        "id": "5u9RPoEa5DsY"
      },
      "outputs": [],
      "source": [
        "vgg16 = Model(vgg.input,output)"
      ]
    },
    {
      "cell_type": "code",
      "execution_count": null,
      "metadata": {
        "colab": {
          "base_uri": "https://localhost:8080/"
        },
        "id": "gjEwbrmxo3wE",
        "outputId": "b4838e89-0bfe-40fb-a5aa-e2a06657edf0"
      },
      "outputs": [
        {
          "output_type": "stream",
          "name": "stdout",
          "text": [
            "Model: \"model\"\n",
            "_________________________________________________________________\n",
            " Layer (type)                Output Shape              Param #   \n",
            "=================================================================\n",
            " input_1 (InputLayer)        [(None, 224, 224, 3)]     0         \n",
            "                                                                 \n",
            " block1_conv1 (Conv2D)       (None, 224, 224, 64)      1792      \n",
            "                                                                 \n",
            " block1_conv2 (Conv2D)       (None, 224, 224, 64)      36928     \n",
            "                                                                 \n",
            " block1_pool (MaxPooling2D)  (None, 112, 112, 64)      0         \n",
            "                                                                 \n",
            " block2_conv1 (Conv2D)       (None, 112, 112, 128)     73856     \n",
            "                                                                 \n",
            " block2_conv2 (Conv2D)       (None, 112, 112, 128)     147584    \n",
            "                                                                 \n",
            " block2_pool (MaxPooling2D)  (None, 56, 56, 128)       0         \n",
            "                                                                 \n",
            " block3_conv1 (Conv2D)       (None, 56, 56, 256)       295168    \n",
            "                                                                 \n",
            " block3_conv2 (Conv2D)       (None, 56, 56, 256)       590080    \n",
            "                                                                 \n",
            " block3_conv3 (Conv2D)       (None, 56, 56, 256)       590080    \n",
            "                                                                 \n",
            " block3_pool (MaxPooling2D)  (None, 28, 28, 256)       0         \n",
            "                                                                 \n",
            " block4_conv1 (Conv2D)       (None, 28, 28, 512)       1180160   \n",
            "                                                                 \n",
            " block4_conv2 (Conv2D)       (None, 28, 28, 512)       2359808   \n",
            "                                                                 \n",
            " block4_conv3 (Conv2D)       (None, 28, 28, 512)       2359808   \n",
            "                                                                 \n",
            " block4_pool (MaxPooling2D)  (None, 14, 14, 512)       0         \n",
            "                                                                 \n",
            " block5_conv1 (Conv2D)       (None, 14, 14, 512)       2359808   \n",
            "                                                                 \n",
            " block5_conv2 (Conv2D)       (None, 14, 14, 512)       2359808   \n",
            "                                                                 \n",
            " block5_conv3 (Conv2D)       (None, 14, 14, 512)       2359808   \n",
            "                                                                 \n",
            " block5_pool (MaxPooling2D)  (None, 7, 7, 512)         0         \n",
            "                                                                 \n",
            " flatten (Flatten)           (None, 25088)             0         \n",
            "                                                                 \n",
            " dense (Dense)               (None, 6)                 150534    \n",
            "                                                                 \n",
            "=================================================================\n",
            "Total params: 14865222 (56.71 MB)\n",
            "Trainable params: 150534 (588.02 KB)\n",
            "Non-trainable params: 14714688 (56.13 MB)\n",
            "_________________________________________________________________\n"
          ]
        }
      ],
      "source": [
        "vgg16.summary()"
      ]
    },
    {
      "cell_type": "code",
      "execution_count": null,
      "metadata": {
        "id": "YmF2cubXo6Bg"
      },
      "outputs": [],
      "source": [
        "from keras.optimizers import Adam\n",
        "#opt = Adam(lr=0.001)\n",
        "\n",
        "vgg16.compile(loss = 'categorical_crossentropy' , metrics =['accuracy'])"
      ]
    },
    {
      "cell_type": "code",
      "source": [
        "from keras.optimizers import Adam\n",
        "#opt = Adam(lr=0.001)\n",
        "#model.compile(optimizer=opt, loss=keras.losses.categorical_crossentropy, metrics=['accuracy'])"
      ],
      "metadata": {
        "id": "r6hxoObwJ2lA"
      },
      "execution_count": null,
      "outputs": []
    },
    {
      "cell_type": "code",
      "execution_count": null,
      "metadata": {
        "colab": {
          "base_uri": "https://localhost:8080/"
        },
        "id": "S2NgH0xfpWC9",
        "outputId": "5f1d122b-61a5-49bf-a4c1-98cefb6d2aae"
      },
      "outputs": [
        {
          "output_type": "stream",
          "name": "stdout",
          "text": [
            "Epoch 1/10\n",
            "60/60 [==============================] - 40s 492ms/step - loss: 1.0540 - accuracy: 0.7281 - val_loss: 0.1382 - val_accuracy: 0.9583\n",
            "Epoch 2/10\n",
            "60/60 [==============================] - 29s 480ms/step - loss: 0.2369 - accuracy: 0.9219 - val_loss: 0.0997 - val_accuracy: 0.9583\n",
            "Epoch 3/10\n",
            "60/60 [==============================] - 29s 491ms/step - loss: 0.1544 - accuracy: 0.9531 - val_loss: 0.0950 - val_accuracy: 0.9583\n",
            "Epoch 4/10\n",
            "60/60 [==============================] - 28s 465ms/step - loss: 0.1183 - accuracy: 0.9635 - val_loss: 0.6423 - val_accuracy: 0.7833\n",
            "Epoch 5/10\n",
            "60/60 [==============================] - 25s 417ms/step - loss: 0.0698 - accuracy: 0.9760 - val_loss: 0.2270 - val_accuracy: 0.9500\n",
            "Epoch 6/10\n",
            "60/60 [==============================] - 24s 404ms/step - loss: 0.0587 - accuracy: 0.9823 - val_loss: 0.0627 - val_accuracy: 0.9667\n",
            "Epoch 7/10\n",
            "60/60 [==============================] - 26s 430ms/step - loss: 0.0495 - accuracy: 0.9833 - val_loss: 0.0417 - val_accuracy: 0.9833\n",
            "Epoch 8/10\n",
            "60/60 [==============================] - 26s 429ms/step - loss: 0.0263 - accuracy: 0.9927 - val_loss: 0.0585 - val_accuracy: 0.9833\n",
            "Epoch 9/10\n",
            "60/60 [==============================] - 28s 463ms/step - loss: 0.0391 - accuracy: 0.9875 - val_loss: 0.0228 - val_accuracy: 0.9917\n",
            "Epoch 10/10\n",
            "60/60 [==============================] - 26s 427ms/step - loss: 0.0131 - accuracy: 0.9969 - val_loss: 0.1297 - val_accuracy: 0.9583\n"
          ]
        },
        {
          "output_type": "execute_result",
          "data": {
            "text/plain": [
              "<keras.src.callbacks.History at 0x7d5988f79f60>"
            ]
          },
          "metadata": {},
          "execution_count": 24
        }
      ],
      "source": [
        "vgg16.fit(train,validation_data=test,epochs=10,steps_per_epoch=len(train),validation_steps =len(test))"
      ]
    },
    {
      "cell_type": "code",
      "execution_count": null,
      "metadata": {
        "colab": {
          "base_uri": "https://localhost:8080/"
        },
        "id": "GGwSVyg8pbKx",
        "outputId": "42fbf6c9-6f89-4b91-97cc-10cf466ca4cc"
      },
      "outputs": [
        {
          "output_type": "execute_result",
          "data": {
            "text/plain": [
              "60"
            ]
          },
          "metadata": {},
          "execution_count": 25
        }
      ],
      "source": [
        "len(train)"
      ]
    },
    {
      "cell_type": "code",
      "execution_count": null,
      "metadata": {
        "colab": {
          "base_uri": "https://localhost:8080/"
        },
        "id": "Pk_Xp1berhDZ",
        "outputId": "6c52e41b-dfeb-4cc2-c378-c85d1b695c4c"
      },
      "outputs": [
        {
          "output_type": "execute_result",
          "data": {
            "text/plain": [
              "8"
            ]
          },
          "metadata": {},
          "execution_count": 26
        }
      ],
      "source": [
        "len(test)"
      ]
    },
    {
      "cell_type": "markdown",
      "metadata": {
        "id": "Ob4DMcAezdRH"
      },
      "source": [
        "## Resnet50"
      ]
    },
    {
      "cell_type": "code",
      "execution_count": null,
      "metadata": {
        "id": "L5X_JZ_dtf2A"
      },
      "outputs": [],
      "source": [
        "from tensorflow.keras.applications.resnet50 import ResNet50\n",
        "from tensorflow.keras.layers import Dense, Flatten\n",
        "from tensorflow.keras.models import Model"
      ]
    },
    {
      "cell_type": "code",
      "execution_count": null,
      "metadata": {
        "colab": {
          "base_uri": "https://localhost:8080/"
        },
        "id": "iMwXKx8Tzhlx",
        "outputId": "6085f558-dbf8-4cd6-8d17-3855ff56c380"
      },
      "outputs": [
        {
          "output_type": "stream",
          "name": "stdout",
          "text": [
            "Downloading data from https://storage.googleapis.com/tensorflow/keras-applications/resnet/resnet50_weights_tf_dim_ordering_tf_kernels_notop.h5\n",
            "94765736/94765736 [==============================] - 5s 0us/step\n"
          ]
        }
      ],
      "source": [
        "resnet50 = ResNet50(include_top = False,input_shape = (224,224,3))"
      ]
    },
    {
      "cell_type": "code",
      "execution_count": null,
      "metadata": {
        "colab": {
          "base_uri": "https://localhost:8080/"
        },
        "id": "b2EkMCBMzwfZ",
        "outputId": "4d99232e-4703-4774-fa9d-f8aa4bac28c8"
      },
      "outputs": [
        {
          "output_type": "stream",
          "name": "stdout",
          "text": [
            "<keras.src.engine.input_layer.InputLayer object at 0x7d5970777280>\n",
            "<keras.src.layers.reshaping.zero_padding2d.ZeroPadding2D object at 0x7d5970776a10>\n",
            "<keras.src.layers.convolutional.conv2d.Conv2D object at 0x7d5988f7a020>\n",
            "<keras.src.layers.normalization.batch_normalization.BatchNormalization object at 0x7d5970777ee0>\n",
            "<keras.src.layers.core.activation.Activation object at 0x7d598ba93130>\n",
            "<keras.src.layers.reshaping.zero_padding2d.ZeroPadding2D object at 0x7d598ba931f0>\n",
            "<keras.src.layers.pooling.max_pooling2d.MaxPooling2D object at 0x7d597078e6e0>\n",
            "<keras.src.layers.convolutional.conv2d.Conv2D object at 0x7d597078f520>\n",
            "<keras.src.layers.normalization.batch_normalization.BatchNormalization object at 0x7d597078fb20>\n",
            "<keras.src.layers.core.activation.Activation object at 0x7d597078fee0>\n",
            "<keras.src.layers.convolutional.conv2d.Conv2D object at 0x7d59707b9ab0>\n",
            "<keras.src.layers.normalization.batch_normalization.BatchNormalization object at 0x7d59707ba800>\n",
            "<keras.src.layers.core.activation.Activation object at 0x7d59707b89d0>\n",
            "<keras.src.layers.convolutional.conv2d.Conv2D object at 0x7d597078cca0>\n",
            "<keras.src.layers.convolutional.conv2d.Conv2D object at 0x7d59707bab60>\n",
            "<keras.src.layers.normalization.batch_normalization.BatchNormalization object at 0x7d597078f820>\n",
            "<keras.src.layers.normalization.batch_normalization.BatchNormalization object at 0x7d59707bbd00>\n",
            "<keras.src.layers.merging.add.Add object at 0x7d59707b8ac0>\n",
            "<keras.src.layers.core.activation.Activation object at 0x7d59707b8d30>\n",
            "<keras.src.layers.convolutional.conv2d.Conv2D object at 0x7d59707d4c40>\n",
            "<keras.src.layers.normalization.batch_normalization.BatchNormalization object at 0x7d59707bad70>\n",
            "<keras.src.layers.core.activation.Activation object at 0x7d59707d4b20>\n",
            "<keras.src.layers.convolutional.conv2d.Conv2D object at 0x7d59707d59f0>\n",
            "<keras.src.layers.normalization.batch_normalization.BatchNormalization object at 0x7d59707d7160>\n",
            "<keras.src.layers.core.activation.Activation object at 0x7d59707d6b30>\n",
            "<keras.src.layers.convolutional.conv2d.Conv2D object at 0x7d59707d6b00>\n",
            "<keras.src.layers.normalization.batch_normalization.BatchNormalization object at 0x7d59707d7610>\n",
            "<keras.src.layers.merging.add.Add object at 0x7d59707d5990>\n",
            "<keras.src.layers.core.activation.Activation object at 0x7d59707fcc10>\n",
            "<keras.src.layers.convolutional.conv2d.Conv2D object at 0x7d59707fcf10>\n",
            "<keras.src.layers.normalization.batch_normalization.BatchNormalization object at 0x7d59707fe3b0>\n",
            "<keras.src.layers.core.activation.Activation object at 0x7d59707fea40>\n",
            "<keras.src.layers.convolutional.conv2d.Conv2D object at 0x7d59707ffc70>\n",
            "<keras.src.layers.normalization.batch_normalization.BatchNormalization object at 0x7d59707fd600>\n",
            "<keras.src.layers.core.activation.Activation object at 0x7d59707fce20>\n",
            "<keras.src.layers.convolutional.conv2d.Conv2D object at 0x7d5970619bd0>\n",
            "<keras.src.layers.normalization.batch_normalization.BatchNormalization object at 0x7d59707ffbe0>\n",
            "<keras.src.layers.merging.add.Add object at 0x7d5970777d00>\n",
            "<keras.src.layers.core.activation.Activation object at 0x7d59707ffe80>\n",
            "<keras.src.layers.convolutional.conv2d.Conv2D object at 0x7d59707fc580>\n",
            "<keras.src.layers.normalization.batch_normalization.BatchNormalization object at 0x7d597078f760>\n",
            "<keras.src.layers.core.activation.Activation object at 0x7d59707bbfd0>\n",
            "<keras.src.layers.convolutional.conv2d.Conv2D object at 0x7d597078fd60>\n",
            "<keras.src.layers.normalization.batch_normalization.BatchNormalization object at 0x7d59707fc5b0>\n",
            "<keras.src.layers.core.activation.Activation object at 0x7d59707fdd80>\n",
            "<keras.src.layers.convolutional.conv2d.Conv2D object at 0x7d5970619270>\n",
            "<keras.src.layers.convolutional.conv2d.Conv2D object at 0x7d5970619480>\n",
            "<keras.src.layers.normalization.batch_normalization.BatchNormalization object at 0x7d59707ffd60>\n",
            "<keras.src.layers.normalization.batch_normalization.BatchNormalization object at 0x7d59706198a0>\n",
            "<keras.src.layers.merging.add.Add object at 0x7d59707ba380>\n",
            "<keras.src.layers.core.activation.Activation object at 0x7d597064cf70>\n",
            "<keras.src.layers.convolutional.conv2d.Conv2D object at 0x7d597064e110>\n",
            "<keras.src.layers.normalization.batch_normalization.BatchNormalization object at 0x7d597064e080>\n",
            "<keras.src.layers.core.activation.Activation object at 0x7d597064e500>\n",
            "<keras.src.layers.convolutional.conv2d.Conv2D object at 0x7d597064c1f0>\n",
            "<keras.src.layers.normalization.batch_normalization.BatchNormalization object at 0x7d597064eef0>\n",
            "<keras.src.layers.core.activation.Activation object at 0x7d597064f070>\n",
            "<keras.src.layers.convolutional.conv2d.Conv2D object at 0x7d597064fa90>\n",
            "<keras.src.layers.normalization.batch_normalization.BatchNormalization object at 0x7d597064e800>\n",
            "<keras.src.layers.merging.add.Add object at 0x7d597064c100>\n",
            "<keras.src.layers.core.activation.Activation object at 0x7d597065c190>\n",
            "<keras.src.layers.convolutional.conv2d.Conv2D object at 0x7d597065c370>\n",
            "<keras.src.layers.normalization.batch_normalization.BatchNormalization object at 0x7d597065ecb0>\n",
            "<keras.src.layers.core.activation.Activation object at 0x7d597065f580>\n",
            "<keras.src.layers.convolutional.conv2d.Conv2D object at 0x7d597065faf0>\n",
            "<keras.src.layers.normalization.batch_normalization.BatchNormalization object at 0x7d597065c550>\n",
            "<keras.src.layers.core.activation.Activation object at 0x7d597065f010>\n",
            "<keras.src.layers.convolutional.conv2d.Conv2D object at 0x7d5970681c90>\n",
            "<keras.src.layers.normalization.batch_normalization.BatchNormalization object at 0x7d59706829e0>\n",
            "<keras.src.layers.merging.add.Add object at 0x7d597065dff0>\n",
            "<keras.src.layers.core.activation.Activation object at 0x7d59706823b0>\n",
            "<keras.src.layers.convolutional.conv2d.Conv2D object at 0x7d5970683400>\n",
            "<keras.src.layers.normalization.batch_normalization.BatchNormalization object at 0x7d59706838b0>\n",
            "<keras.src.layers.core.activation.Activation object at 0x7d5970683010>\n",
            "<keras.src.layers.convolutional.conv2d.Conv2D object at 0x7d5970683850>\n",
            "<keras.src.layers.normalization.batch_normalization.BatchNormalization object at 0x7d5970682ef0>\n",
            "<keras.src.layers.core.activation.Activation object at 0x7d5970699060>\n",
            "<keras.src.layers.convolutional.conv2d.Conv2D object at 0x7d5970699db0>\n",
            "<keras.src.layers.normalization.batch_normalization.BatchNormalization object at 0x7d5970683820>\n",
            "<keras.src.layers.merging.add.Add object at 0x7d5970682230>\n",
            "<keras.src.layers.core.activation.Activation object at 0x7d5970680ee0>\n",
            "<keras.src.layers.convolutional.conv2d.Conv2D object at 0x7d5970681060>\n",
            "<keras.src.layers.normalization.batch_normalization.BatchNormalization object at 0x7d597065c5e0>\n",
            "<keras.src.layers.core.activation.Activation object at 0x7d597069bb20>\n",
            "<keras.src.layers.convolutional.conv2d.Conv2D object at 0x7d597069bdc0>\n",
            "<keras.src.layers.normalization.batch_normalization.BatchNormalization object at 0x7d5970699b10>\n",
            "<keras.src.layers.core.activation.Activation object at 0x7d597065f400>\n",
            "<keras.src.layers.convolutional.conv2d.Conv2D object at 0x7d597064caf0>\n",
            "<keras.src.layers.convolutional.conv2d.Conv2D object at 0x7d59707f0460>\n",
            "<keras.src.layers.normalization.batch_normalization.BatchNormalization object at 0x7d59707bbd30>\n",
            "<keras.src.layers.normalization.batch_normalization.BatchNormalization object at 0x7d59707f25c0>\n",
            "<keras.src.layers.merging.add.Add object at 0x7d597069a0b0>\n",
            "<keras.src.layers.core.activation.Activation object at 0x7d59707f2d10>\n",
            "<keras.src.layers.convolutional.conv2d.Conv2D object at 0x7d59707f36a0>\n",
            "<keras.src.layers.normalization.batch_normalization.BatchNormalization object at 0x7d59707f28f0>\n",
            "<keras.src.layers.core.activation.Activation object at 0x7d59707f12a0>\n",
            "<keras.src.layers.convolutional.conv2d.Conv2D object at 0x7d59707f2aa0>\n",
            "<keras.src.layers.normalization.batch_normalization.BatchNormalization object at 0x7d59707f1de0>\n",
            "<keras.src.layers.core.activation.Activation object at 0x7d59706c5210>\n",
            "<keras.src.layers.convolutional.conv2d.Conv2D object at 0x7d59706c4b20>\n",
            "<keras.src.layers.normalization.batch_normalization.BatchNormalization object at 0x7d59706c75e0>\n",
            "<keras.src.layers.merging.add.Add object at 0x7d59706c4640>\n",
            "<keras.src.layers.core.activation.Activation object at 0x7d59706c7c10>\n",
            "<keras.src.layers.convolutional.conv2d.Conv2D object at 0x7d59706c5f90>\n",
            "<keras.src.layers.normalization.batch_normalization.BatchNormalization object at 0x7d59706c4ac0>\n",
            "<keras.src.layers.core.activation.Activation object at 0x7d59706c48e0>\n",
            "<keras.src.layers.convolutional.conv2d.Conv2D object at 0x7d59706e8580>\n",
            "<keras.src.layers.normalization.batch_normalization.BatchNormalization object at 0x7d59706ea9b0>\n",
            "<keras.src.layers.core.activation.Activation object at 0x7d59706ea2f0>\n",
            "<keras.src.layers.convolutional.conv2d.Conv2D object at 0x7d59706ea050>\n",
            "<keras.src.layers.normalization.batch_normalization.BatchNormalization object at 0x7d59706e8610>\n",
            "<keras.src.layers.merging.add.Add object at 0x7d59706c7df0>\n",
            "<keras.src.layers.core.activation.Activation object at 0x7d59706ebb80>\n",
            "<keras.src.layers.convolutional.conv2d.Conv2D object at 0x7d595ff04280>\n",
            "<keras.src.layers.normalization.batch_normalization.BatchNormalization object at 0x7d59706e9000>\n",
            "<keras.src.layers.core.activation.Activation object at 0x7d595ff05000>\n",
            "<keras.src.layers.convolutional.conv2d.Conv2D object at 0x7d595ff05e40>\n",
            "<keras.src.layers.normalization.batch_normalization.BatchNormalization object at 0x7d59706ebf70>\n",
            "<keras.src.layers.core.activation.Activation object at 0x7d59706ea890>\n",
            "<keras.src.layers.convolutional.conv2d.Conv2D object at 0x7d59706c4b80>\n",
            "<keras.src.layers.normalization.batch_normalization.BatchNormalization object at 0x7d59707f2410>\n",
            "<keras.src.layers.merging.add.Add object at 0x7d597065fbe0>\n",
            "<keras.src.layers.core.activation.Activation object at 0x7d59707bb880>\n",
            "<keras.src.layers.convolutional.conv2d.Conv2D object at 0x7d597061a2c0>\n",
            "<keras.src.layers.normalization.batch_normalization.BatchNormalization object at 0x7d597069b640>\n",
            "<keras.src.layers.core.activation.Activation object at 0x7d59706c5ba0>\n",
            "<keras.src.layers.convolutional.conv2d.Conv2D object at 0x7d595ff05ff0>\n",
            "<keras.src.layers.normalization.batch_normalization.BatchNormalization object at 0x7d595ff06050>\n",
            "<keras.src.layers.core.activation.Activation object at 0x7d595ff06c20>\n",
            "<keras.src.layers.convolutional.conv2d.Conv2D object at 0x7d595ff25d50>\n",
            "<keras.src.layers.normalization.batch_normalization.BatchNormalization object at 0x7d595ff26aa0>\n",
            "<keras.src.layers.merging.add.Add object at 0x7d59706c75b0>\n",
            "<keras.src.layers.core.activation.Activation object at 0x7d595ff26890>\n",
            "<keras.src.layers.convolutional.conv2d.Conv2D object at 0x7d595ff274c0>\n",
            "<keras.src.layers.normalization.batch_normalization.BatchNormalization object at 0x7d595ff24b80>\n",
            "<keras.src.layers.core.activation.Activation object at 0x7d595ff26560>\n",
            "<keras.src.layers.convolutional.conv2d.Conv2D object at 0x7d595ff27d60>\n",
            "<keras.src.layers.normalization.batch_normalization.BatchNormalization object at 0x7d595ff27d30>\n",
            "<keras.src.layers.core.activation.Activation object at 0x7d595ff25570>\n",
            "<keras.src.layers.convolutional.conv2d.Conv2D object at 0x7d595ff34be0>\n",
            "<keras.src.layers.normalization.batch_normalization.BatchNormalization object at 0x7d595ff357e0>\n",
            "<keras.src.layers.merging.add.Add object at 0x7d595ff34100>\n",
            "<keras.src.layers.core.activation.Activation object at 0x7d595ff36770>\n",
            "<keras.src.layers.convolutional.conv2d.Conv2D object at 0x7d595ff37df0>\n",
            "<keras.src.layers.normalization.batch_normalization.BatchNormalization object at 0x7d595ff37760>\n",
            "<keras.src.layers.core.activation.Activation object at 0x7d595ff361d0>\n",
            "<keras.src.layers.convolutional.conv2d.Conv2D object at 0x7d595ff56980>\n",
            "<keras.src.layers.normalization.batch_normalization.BatchNormalization object at 0x7d595ff57160>\n",
            "<keras.src.layers.core.activation.Activation object at 0x7d595ff57f40>\n",
            "<keras.src.layers.convolutional.conv2d.Conv2D object at 0x7d595ff35330>\n",
            "<keras.src.layers.convolutional.conv2d.Conv2D object at 0x7d595ff573a0>\n",
            "<keras.src.layers.normalization.batch_normalization.BatchNormalization object at 0x7d595ff364a0>\n",
            "<keras.src.layers.normalization.batch_normalization.BatchNormalization object at 0x7d595ff57be0>\n",
            "<keras.src.layers.merging.add.Add object at 0x7d595ff56560>\n",
            "<keras.src.layers.core.activation.Activation object at 0x7d595ff54f40>\n",
            "<keras.src.layers.convolutional.conv2d.Conv2D object at 0x7d595ff54040>\n",
            "<keras.src.layers.normalization.batch_normalization.BatchNormalization object at 0x7d595ff36b60>\n",
            "<keras.src.layers.core.activation.Activation object at 0x7d595ff24dc0>\n",
            "<keras.src.layers.convolutional.conv2d.Conv2D object at 0x7d595ff07910>\n",
            "<keras.src.layers.normalization.batch_normalization.BatchNormalization object at 0x7d595ff54f10>\n",
            "<keras.src.layers.core.activation.Activation object at 0x7d595ff37c70>\n",
            "<keras.src.layers.convolutional.conv2d.Conv2D object at 0x7d59707f10f0>\n",
            "<keras.src.layers.normalization.batch_normalization.BatchNormalization object at 0x7d5970698220>\n",
            "<keras.src.layers.merging.add.Add object at 0x7d595ff279a0>\n",
            "<keras.src.layers.core.activation.Activation object at 0x7d595ff73c10>\n",
            "<keras.src.layers.convolutional.conv2d.Conv2D object at 0x7d595ff73670>\n",
            "<keras.src.layers.normalization.batch_normalization.BatchNormalization object at 0x7d595ff70970>\n",
            "<keras.src.layers.core.activation.Activation object at 0x7d595ff24f10>\n",
            "<keras.src.layers.convolutional.conv2d.Conv2D object at 0x7d595ff98c70>\n",
            "<keras.src.layers.normalization.batch_normalization.BatchNormalization object at 0x7d595ff9af80>\n",
            "<keras.src.layers.core.activation.Activation object at 0x7d595ff9a9b0>\n",
            "<keras.src.layers.convolutional.conv2d.Conv2D object at 0x7d595ff9b5e0>\n",
            "<keras.src.layers.normalization.batch_normalization.BatchNormalization object at 0x7d595ff98670>\n",
            "<keras.src.layers.merging.add.Add object at 0x7d595ff99870>\n",
            "<keras.src.layers.core.activation.Activation object at 0x7d595ffac310>\n"
          ]
        }
      ],
      "source": [
        "for layer in resnet50.layers:\n",
        "  print(layer)"
      ]
    },
    {
      "cell_type": "code",
      "execution_count": null,
      "metadata": {
        "colab": {
          "base_uri": "https://localhost:8080/"
        },
        "id": "W2GH8SGTzyxK",
        "outputId": "57c2cc23-ed5b-4cbe-fa5f-245c3206acd2"
      },
      "outputs": [
        {
          "output_type": "execute_result",
          "data": {
            "text/plain": [
              "175"
            ]
          },
          "metadata": {},
          "execution_count": 30
        }
      ],
      "source": [
        "len(resnet50.layers)"
      ]
    },
    {
      "cell_type": "code",
      "execution_count": null,
      "metadata": {
        "id": "ZLnRTkDoz2T1"
      },
      "outputs": [],
      "source": [
        "for layer in resnet50.layers:\n",
        "  layer.trainable = False"
      ]
    },
    {
      "cell_type": "code",
      "execution_count": null,
      "metadata": {
        "id": "LLSMNzY6z5Bf"
      },
      "outputs": [],
      "source": [
        "x = Flatten()(resnet50.output)"
      ]
    },
    {
      "cell_type": "code",
      "execution_count": null,
      "metadata": {
        "id": "iBSUhNFbz7d-"
      },
      "outputs": [],
      "source": [
        "output = Dense(6,activation = 'softmax')(x)"
      ]
    },
    {
      "cell_type": "code",
      "execution_count": null,
      "metadata": {
        "id": "1ndvkwotz9ve"
      },
      "outputs": [],
      "source": [
        "resnet50 =Model(resnet50.input,output)"
      ]
    },
    {
      "cell_type": "code",
      "execution_count": null,
      "metadata": {
        "colab": {
          "base_uri": "https://localhost:8080/"
        },
        "id": "xwgvF6Sx0Afe",
        "outputId": "3078375f-9a72-40ff-c4fe-683fe2fe3bd8"
      },
      "outputs": [
        {
          "output_type": "stream",
          "name": "stdout",
          "text": [
            "Model: \"model_1\"\n",
            "__________________________________________________________________________________________________\n",
            " Layer (type)                Output Shape                 Param #   Connected to                  \n",
            "==================================================================================================\n",
            " input_2 (InputLayer)        [(None, 224, 224, 3)]        0         []                            \n",
            "                                                                                                  \n",
            " conv1_pad (ZeroPadding2D)   (None, 230, 230, 3)          0         ['input_2[0][0]']             \n",
            "                                                                                                  \n",
            " conv1_conv (Conv2D)         (None, 112, 112, 64)         9472      ['conv1_pad[0][0]']           \n",
            "                                                                                                  \n",
            " conv1_bn (BatchNormalizati  (None, 112, 112, 64)         256       ['conv1_conv[0][0]']          \n",
            " on)                                                                                              \n",
            "                                                                                                  \n",
            " conv1_relu (Activation)     (None, 112, 112, 64)         0         ['conv1_bn[0][0]']            \n",
            "                                                                                                  \n",
            " pool1_pad (ZeroPadding2D)   (None, 114, 114, 64)         0         ['conv1_relu[0][0]']          \n",
            "                                                                                                  \n",
            " pool1_pool (MaxPooling2D)   (None, 56, 56, 64)           0         ['pool1_pad[0][0]']           \n",
            "                                                                                                  \n",
            " conv2_block1_1_conv (Conv2  (None, 56, 56, 64)           4160      ['pool1_pool[0][0]']          \n",
            " D)                                                                                               \n",
            "                                                                                                  \n",
            " conv2_block1_1_bn (BatchNo  (None, 56, 56, 64)           256       ['conv2_block1_1_conv[0][0]'] \n",
            " rmalization)                                                                                     \n",
            "                                                                                                  \n",
            " conv2_block1_1_relu (Activ  (None, 56, 56, 64)           0         ['conv2_block1_1_bn[0][0]']   \n",
            " ation)                                                                                           \n",
            "                                                                                                  \n",
            " conv2_block1_2_conv (Conv2  (None, 56, 56, 64)           36928     ['conv2_block1_1_relu[0][0]'] \n",
            " D)                                                                                               \n",
            "                                                                                                  \n",
            " conv2_block1_2_bn (BatchNo  (None, 56, 56, 64)           256       ['conv2_block1_2_conv[0][0]'] \n",
            " rmalization)                                                                                     \n",
            "                                                                                                  \n",
            " conv2_block1_2_relu (Activ  (None, 56, 56, 64)           0         ['conv2_block1_2_bn[0][0]']   \n",
            " ation)                                                                                           \n",
            "                                                                                                  \n",
            " conv2_block1_0_conv (Conv2  (None, 56, 56, 256)          16640     ['pool1_pool[0][0]']          \n",
            " D)                                                                                               \n",
            "                                                                                                  \n",
            " conv2_block1_3_conv (Conv2  (None, 56, 56, 256)          16640     ['conv2_block1_2_relu[0][0]'] \n",
            " D)                                                                                               \n",
            "                                                                                                  \n",
            " conv2_block1_0_bn (BatchNo  (None, 56, 56, 256)          1024      ['conv2_block1_0_conv[0][0]'] \n",
            " rmalization)                                                                                     \n",
            "                                                                                                  \n",
            " conv2_block1_3_bn (BatchNo  (None, 56, 56, 256)          1024      ['conv2_block1_3_conv[0][0]'] \n",
            " rmalization)                                                                                     \n",
            "                                                                                                  \n",
            " conv2_block1_add (Add)      (None, 56, 56, 256)          0         ['conv2_block1_0_bn[0][0]',   \n",
            "                                                                     'conv2_block1_3_bn[0][0]']   \n",
            "                                                                                                  \n",
            " conv2_block1_out (Activati  (None, 56, 56, 256)          0         ['conv2_block1_add[0][0]']    \n",
            " on)                                                                                              \n",
            "                                                                                                  \n",
            " conv2_block2_1_conv (Conv2  (None, 56, 56, 64)           16448     ['conv2_block1_out[0][0]']    \n",
            " D)                                                                                               \n",
            "                                                                                                  \n",
            " conv2_block2_1_bn (BatchNo  (None, 56, 56, 64)           256       ['conv2_block2_1_conv[0][0]'] \n",
            " rmalization)                                                                                     \n",
            "                                                                                                  \n",
            " conv2_block2_1_relu (Activ  (None, 56, 56, 64)           0         ['conv2_block2_1_bn[0][0]']   \n",
            " ation)                                                                                           \n",
            "                                                                                                  \n",
            " conv2_block2_2_conv (Conv2  (None, 56, 56, 64)           36928     ['conv2_block2_1_relu[0][0]'] \n",
            " D)                                                                                               \n",
            "                                                                                                  \n",
            " conv2_block2_2_bn (BatchNo  (None, 56, 56, 64)           256       ['conv2_block2_2_conv[0][0]'] \n",
            " rmalization)                                                                                     \n",
            "                                                                                                  \n",
            " conv2_block2_2_relu (Activ  (None, 56, 56, 64)           0         ['conv2_block2_2_bn[0][0]']   \n",
            " ation)                                                                                           \n",
            "                                                                                                  \n",
            " conv2_block2_3_conv (Conv2  (None, 56, 56, 256)          16640     ['conv2_block2_2_relu[0][0]'] \n",
            " D)                                                                                               \n",
            "                                                                                                  \n",
            " conv2_block2_3_bn (BatchNo  (None, 56, 56, 256)          1024      ['conv2_block2_3_conv[0][0]'] \n",
            " rmalization)                                                                                     \n",
            "                                                                                                  \n",
            " conv2_block2_add (Add)      (None, 56, 56, 256)          0         ['conv2_block1_out[0][0]',    \n",
            "                                                                     'conv2_block2_3_bn[0][0]']   \n",
            "                                                                                                  \n",
            " conv2_block2_out (Activati  (None, 56, 56, 256)          0         ['conv2_block2_add[0][0]']    \n",
            " on)                                                                                              \n",
            "                                                                                                  \n",
            " conv2_block3_1_conv (Conv2  (None, 56, 56, 64)           16448     ['conv2_block2_out[0][0]']    \n",
            " D)                                                                                               \n",
            "                                                                                                  \n",
            " conv2_block3_1_bn (BatchNo  (None, 56, 56, 64)           256       ['conv2_block3_1_conv[0][0]'] \n",
            " rmalization)                                                                                     \n",
            "                                                                                                  \n",
            " conv2_block3_1_relu (Activ  (None, 56, 56, 64)           0         ['conv2_block3_1_bn[0][0]']   \n",
            " ation)                                                                                           \n",
            "                                                                                                  \n",
            " conv2_block3_2_conv (Conv2  (None, 56, 56, 64)           36928     ['conv2_block3_1_relu[0][0]'] \n",
            " D)                                                                                               \n",
            "                                                                                                  \n",
            " conv2_block3_2_bn (BatchNo  (None, 56, 56, 64)           256       ['conv2_block3_2_conv[0][0]'] \n",
            " rmalization)                                                                                     \n",
            "                                                                                                  \n",
            " conv2_block3_2_relu (Activ  (None, 56, 56, 64)           0         ['conv2_block3_2_bn[0][0]']   \n",
            " ation)                                                                                           \n",
            "                                                                                                  \n",
            " conv2_block3_3_conv (Conv2  (None, 56, 56, 256)          16640     ['conv2_block3_2_relu[0][0]'] \n",
            " D)                                                                                               \n",
            "                                                                                                  \n",
            " conv2_block3_3_bn (BatchNo  (None, 56, 56, 256)          1024      ['conv2_block3_3_conv[0][0]'] \n",
            " rmalization)                                                                                     \n",
            "                                                                                                  \n",
            " conv2_block3_add (Add)      (None, 56, 56, 256)          0         ['conv2_block2_out[0][0]',    \n",
            "                                                                     'conv2_block3_3_bn[0][0]']   \n",
            "                                                                                                  \n",
            " conv2_block3_out (Activati  (None, 56, 56, 256)          0         ['conv2_block3_add[0][0]']    \n",
            " on)                                                                                              \n",
            "                                                                                                  \n",
            " conv3_block1_1_conv (Conv2  (None, 28, 28, 128)          32896     ['conv2_block3_out[0][0]']    \n",
            " D)                                                                                               \n",
            "                                                                                                  \n",
            " conv3_block1_1_bn (BatchNo  (None, 28, 28, 128)          512       ['conv3_block1_1_conv[0][0]'] \n",
            " rmalization)                                                                                     \n",
            "                                                                                                  \n",
            " conv3_block1_1_relu (Activ  (None, 28, 28, 128)          0         ['conv3_block1_1_bn[0][0]']   \n",
            " ation)                                                                                           \n",
            "                                                                                                  \n",
            " conv3_block1_2_conv (Conv2  (None, 28, 28, 128)          147584    ['conv3_block1_1_relu[0][0]'] \n",
            " D)                                                                                               \n",
            "                                                                                                  \n",
            " conv3_block1_2_bn (BatchNo  (None, 28, 28, 128)          512       ['conv3_block1_2_conv[0][0]'] \n",
            " rmalization)                                                                                     \n",
            "                                                                                                  \n",
            " conv3_block1_2_relu (Activ  (None, 28, 28, 128)          0         ['conv3_block1_2_bn[0][0]']   \n",
            " ation)                                                                                           \n",
            "                                                                                                  \n",
            " conv3_block1_0_conv (Conv2  (None, 28, 28, 512)          131584    ['conv2_block3_out[0][0]']    \n",
            " D)                                                                                               \n",
            "                                                                                                  \n",
            " conv3_block1_3_conv (Conv2  (None, 28, 28, 512)          66048     ['conv3_block1_2_relu[0][0]'] \n",
            " D)                                                                                               \n",
            "                                                                                                  \n",
            " conv3_block1_0_bn (BatchNo  (None, 28, 28, 512)          2048      ['conv3_block1_0_conv[0][0]'] \n",
            " rmalization)                                                                                     \n",
            "                                                                                                  \n",
            " conv3_block1_3_bn (BatchNo  (None, 28, 28, 512)          2048      ['conv3_block1_3_conv[0][0]'] \n",
            " rmalization)                                                                                     \n",
            "                                                                                                  \n",
            " conv3_block1_add (Add)      (None, 28, 28, 512)          0         ['conv3_block1_0_bn[0][0]',   \n",
            "                                                                     'conv3_block1_3_bn[0][0]']   \n",
            "                                                                                                  \n",
            " conv3_block1_out (Activati  (None, 28, 28, 512)          0         ['conv3_block1_add[0][0]']    \n",
            " on)                                                                                              \n",
            "                                                                                                  \n",
            " conv3_block2_1_conv (Conv2  (None, 28, 28, 128)          65664     ['conv3_block1_out[0][0]']    \n",
            " D)                                                                                               \n",
            "                                                                                                  \n",
            " conv3_block2_1_bn (BatchNo  (None, 28, 28, 128)          512       ['conv3_block2_1_conv[0][0]'] \n",
            " rmalization)                                                                                     \n",
            "                                                                                                  \n",
            " conv3_block2_1_relu (Activ  (None, 28, 28, 128)          0         ['conv3_block2_1_bn[0][0]']   \n",
            " ation)                                                                                           \n",
            "                                                                                                  \n",
            " conv3_block2_2_conv (Conv2  (None, 28, 28, 128)          147584    ['conv3_block2_1_relu[0][0]'] \n",
            " D)                                                                                               \n",
            "                                                                                                  \n",
            " conv3_block2_2_bn (BatchNo  (None, 28, 28, 128)          512       ['conv3_block2_2_conv[0][0]'] \n",
            " rmalization)                                                                                     \n",
            "                                                                                                  \n",
            " conv3_block2_2_relu (Activ  (None, 28, 28, 128)          0         ['conv3_block2_2_bn[0][0]']   \n",
            " ation)                                                                                           \n",
            "                                                                                                  \n",
            " conv3_block2_3_conv (Conv2  (None, 28, 28, 512)          66048     ['conv3_block2_2_relu[0][0]'] \n",
            " D)                                                                                               \n",
            "                                                                                                  \n",
            " conv3_block2_3_bn (BatchNo  (None, 28, 28, 512)          2048      ['conv3_block2_3_conv[0][0]'] \n",
            " rmalization)                                                                                     \n",
            "                                                                                                  \n",
            " conv3_block2_add (Add)      (None, 28, 28, 512)          0         ['conv3_block1_out[0][0]',    \n",
            "                                                                     'conv3_block2_3_bn[0][0]']   \n",
            "                                                                                                  \n",
            " conv3_block2_out (Activati  (None, 28, 28, 512)          0         ['conv3_block2_add[0][0]']    \n",
            " on)                                                                                              \n",
            "                                                                                                  \n",
            " conv3_block3_1_conv (Conv2  (None, 28, 28, 128)          65664     ['conv3_block2_out[0][0]']    \n",
            " D)                                                                                               \n",
            "                                                                                                  \n",
            " conv3_block3_1_bn (BatchNo  (None, 28, 28, 128)          512       ['conv3_block3_1_conv[0][0]'] \n",
            " rmalization)                                                                                     \n",
            "                                                                                                  \n",
            " conv3_block3_1_relu (Activ  (None, 28, 28, 128)          0         ['conv3_block3_1_bn[0][0]']   \n",
            " ation)                                                                                           \n",
            "                                                                                                  \n",
            " conv3_block3_2_conv (Conv2  (None, 28, 28, 128)          147584    ['conv3_block3_1_relu[0][0]'] \n",
            " D)                                                                                               \n",
            "                                                                                                  \n",
            " conv3_block3_2_bn (BatchNo  (None, 28, 28, 128)          512       ['conv3_block3_2_conv[0][0]'] \n",
            " rmalization)                                                                                     \n",
            "                                                                                                  \n",
            " conv3_block3_2_relu (Activ  (None, 28, 28, 128)          0         ['conv3_block3_2_bn[0][0]']   \n",
            " ation)                                                                                           \n",
            "                                                                                                  \n",
            " conv3_block3_3_conv (Conv2  (None, 28, 28, 512)          66048     ['conv3_block3_2_relu[0][0]'] \n",
            " D)                                                                                               \n",
            "                                                                                                  \n",
            " conv3_block3_3_bn (BatchNo  (None, 28, 28, 512)          2048      ['conv3_block3_3_conv[0][0]'] \n",
            " rmalization)                                                                                     \n",
            "                                                                                                  \n",
            " conv3_block3_add (Add)      (None, 28, 28, 512)          0         ['conv3_block2_out[0][0]',    \n",
            "                                                                     'conv3_block3_3_bn[0][0]']   \n",
            "                                                                                                  \n",
            " conv3_block3_out (Activati  (None, 28, 28, 512)          0         ['conv3_block3_add[0][0]']    \n",
            " on)                                                                                              \n",
            "                                                                                                  \n",
            " conv3_block4_1_conv (Conv2  (None, 28, 28, 128)          65664     ['conv3_block3_out[0][0]']    \n",
            " D)                                                                                               \n",
            "                                                                                                  \n",
            " conv3_block4_1_bn (BatchNo  (None, 28, 28, 128)          512       ['conv3_block4_1_conv[0][0]'] \n",
            " rmalization)                                                                                     \n",
            "                                                                                                  \n",
            " conv3_block4_1_relu (Activ  (None, 28, 28, 128)          0         ['conv3_block4_1_bn[0][0]']   \n",
            " ation)                                                                                           \n",
            "                                                                                                  \n",
            " conv3_block4_2_conv (Conv2  (None, 28, 28, 128)          147584    ['conv3_block4_1_relu[0][0]'] \n",
            " D)                                                                                               \n",
            "                                                                                                  \n",
            " conv3_block4_2_bn (BatchNo  (None, 28, 28, 128)          512       ['conv3_block4_2_conv[0][0]'] \n",
            " rmalization)                                                                                     \n",
            "                                                                                                  \n",
            " conv3_block4_2_relu (Activ  (None, 28, 28, 128)          0         ['conv3_block4_2_bn[0][0]']   \n",
            " ation)                                                                                           \n",
            "                                                                                                  \n",
            " conv3_block4_3_conv (Conv2  (None, 28, 28, 512)          66048     ['conv3_block4_2_relu[0][0]'] \n",
            " D)                                                                                               \n",
            "                                                                                                  \n",
            " conv3_block4_3_bn (BatchNo  (None, 28, 28, 512)          2048      ['conv3_block4_3_conv[0][0]'] \n",
            " rmalization)                                                                                     \n",
            "                                                                                                  \n",
            " conv3_block4_add (Add)      (None, 28, 28, 512)          0         ['conv3_block3_out[0][0]',    \n",
            "                                                                     'conv3_block4_3_bn[0][0]']   \n",
            "                                                                                                  \n",
            " conv3_block4_out (Activati  (None, 28, 28, 512)          0         ['conv3_block4_add[0][0]']    \n",
            " on)                                                                                              \n",
            "                                                                                                  \n",
            " conv4_block1_1_conv (Conv2  (None, 14, 14, 256)          131328    ['conv3_block4_out[0][0]']    \n",
            " D)                                                                                               \n",
            "                                                                                                  \n",
            " conv4_block1_1_bn (BatchNo  (None, 14, 14, 256)          1024      ['conv4_block1_1_conv[0][0]'] \n",
            " rmalization)                                                                                     \n",
            "                                                                                                  \n",
            " conv4_block1_1_relu (Activ  (None, 14, 14, 256)          0         ['conv4_block1_1_bn[0][0]']   \n",
            " ation)                                                                                           \n",
            "                                                                                                  \n",
            " conv4_block1_2_conv (Conv2  (None, 14, 14, 256)          590080    ['conv4_block1_1_relu[0][0]'] \n",
            " D)                                                                                               \n",
            "                                                                                                  \n",
            " conv4_block1_2_bn (BatchNo  (None, 14, 14, 256)          1024      ['conv4_block1_2_conv[0][0]'] \n",
            " rmalization)                                                                                     \n",
            "                                                                                                  \n",
            " conv4_block1_2_relu (Activ  (None, 14, 14, 256)          0         ['conv4_block1_2_bn[0][0]']   \n",
            " ation)                                                                                           \n",
            "                                                                                                  \n",
            " conv4_block1_0_conv (Conv2  (None, 14, 14, 1024)         525312    ['conv3_block4_out[0][0]']    \n",
            " D)                                                                                               \n",
            "                                                                                                  \n",
            " conv4_block1_3_conv (Conv2  (None, 14, 14, 1024)         263168    ['conv4_block1_2_relu[0][0]'] \n",
            " D)                                                                                               \n",
            "                                                                                                  \n",
            " conv4_block1_0_bn (BatchNo  (None, 14, 14, 1024)         4096      ['conv4_block1_0_conv[0][0]'] \n",
            " rmalization)                                                                                     \n",
            "                                                                                                  \n",
            " conv4_block1_3_bn (BatchNo  (None, 14, 14, 1024)         4096      ['conv4_block1_3_conv[0][0]'] \n",
            " rmalization)                                                                                     \n",
            "                                                                                                  \n",
            " conv4_block1_add (Add)      (None, 14, 14, 1024)         0         ['conv4_block1_0_bn[0][0]',   \n",
            "                                                                     'conv4_block1_3_bn[0][0]']   \n",
            "                                                                                                  \n",
            " conv4_block1_out (Activati  (None, 14, 14, 1024)         0         ['conv4_block1_add[0][0]']    \n",
            " on)                                                                                              \n",
            "                                                                                                  \n",
            " conv4_block2_1_conv (Conv2  (None, 14, 14, 256)          262400    ['conv4_block1_out[0][0]']    \n",
            " D)                                                                                               \n",
            "                                                                                                  \n",
            " conv4_block2_1_bn (BatchNo  (None, 14, 14, 256)          1024      ['conv4_block2_1_conv[0][0]'] \n",
            " rmalization)                                                                                     \n",
            "                                                                                                  \n",
            " conv4_block2_1_relu (Activ  (None, 14, 14, 256)          0         ['conv4_block2_1_bn[0][0]']   \n",
            " ation)                                                                                           \n",
            "                                                                                                  \n",
            " conv4_block2_2_conv (Conv2  (None, 14, 14, 256)          590080    ['conv4_block2_1_relu[0][0]'] \n",
            " D)                                                                                               \n",
            "                                                                                                  \n",
            " conv4_block2_2_bn (BatchNo  (None, 14, 14, 256)          1024      ['conv4_block2_2_conv[0][0]'] \n",
            " rmalization)                                                                                     \n",
            "                                                                                                  \n",
            " conv4_block2_2_relu (Activ  (None, 14, 14, 256)          0         ['conv4_block2_2_bn[0][0]']   \n",
            " ation)                                                                                           \n",
            "                                                                                                  \n",
            " conv4_block2_3_conv (Conv2  (None, 14, 14, 1024)         263168    ['conv4_block2_2_relu[0][0]'] \n",
            " D)                                                                                               \n",
            "                                                                                                  \n",
            " conv4_block2_3_bn (BatchNo  (None, 14, 14, 1024)         4096      ['conv4_block2_3_conv[0][0]'] \n",
            " rmalization)                                                                                     \n",
            "                                                                                                  \n",
            " conv4_block2_add (Add)      (None, 14, 14, 1024)         0         ['conv4_block1_out[0][0]',    \n",
            "                                                                     'conv4_block2_3_bn[0][0]']   \n",
            "                                                                                                  \n",
            " conv4_block2_out (Activati  (None, 14, 14, 1024)         0         ['conv4_block2_add[0][0]']    \n",
            " on)                                                                                              \n",
            "                                                                                                  \n",
            " conv4_block3_1_conv (Conv2  (None, 14, 14, 256)          262400    ['conv4_block2_out[0][0]']    \n",
            " D)                                                                                               \n",
            "                                                                                                  \n",
            " conv4_block3_1_bn (BatchNo  (None, 14, 14, 256)          1024      ['conv4_block3_1_conv[0][0]'] \n",
            " rmalization)                                                                                     \n",
            "                                                                                                  \n",
            " conv4_block3_1_relu (Activ  (None, 14, 14, 256)          0         ['conv4_block3_1_bn[0][0]']   \n",
            " ation)                                                                                           \n",
            "                                                                                                  \n",
            " conv4_block3_2_conv (Conv2  (None, 14, 14, 256)          590080    ['conv4_block3_1_relu[0][0]'] \n",
            " D)                                                                                               \n",
            "                                                                                                  \n",
            " conv4_block3_2_bn (BatchNo  (None, 14, 14, 256)          1024      ['conv4_block3_2_conv[0][0]'] \n",
            " rmalization)                                                                                     \n",
            "                                                                                                  \n",
            " conv4_block3_2_relu (Activ  (None, 14, 14, 256)          0         ['conv4_block3_2_bn[0][0]']   \n",
            " ation)                                                                                           \n",
            "                                                                                                  \n",
            " conv4_block3_3_conv (Conv2  (None, 14, 14, 1024)         263168    ['conv4_block3_2_relu[0][0]'] \n",
            " D)                                                                                               \n",
            "                                                                                                  \n",
            " conv4_block3_3_bn (BatchNo  (None, 14, 14, 1024)         4096      ['conv4_block3_3_conv[0][0]'] \n",
            " rmalization)                                                                                     \n",
            "                                                                                                  \n",
            " conv4_block3_add (Add)      (None, 14, 14, 1024)         0         ['conv4_block2_out[0][0]',    \n",
            "                                                                     'conv4_block3_3_bn[0][0]']   \n",
            "                                                                                                  \n",
            " conv4_block3_out (Activati  (None, 14, 14, 1024)         0         ['conv4_block3_add[0][0]']    \n",
            " on)                                                                                              \n",
            "                                                                                                  \n",
            " conv4_block4_1_conv (Conv2  (None, 14, 14, 256)          262400    ['conv4_block3_out[0][0]']    \n",
            " D)                                                                                               \n",
            "                                                                                                  \n",
            " conv4_block4_1_bn (BatchNo  (None, 14, 14, 256)          1024      ['conv4_block4_1_conv[0][0]'] \n",
            " rmalization)                                                                                     \n",
            "                                                                                                  \n",
            " conv4_block4_1_relu (Activ  (None, 14, 14, 256)          0         ['conv4_block4_1_bn[0][0]']   \n",
            " ation)                                                                                           \n",
            "                                                                                                  \n",
            " conv4_block4_2_conv (Conv2  (None, 14, 14, 256)          590080    ['conv4_block4_1_relu[0][0]'] \n",
            " D)                                                                                               \n",
            "                                                                                                  \n",
            " conv4_block4_2_bn (BatchNo  (None, 14, 14, 256)          1024      ['conv4_block4_2_conv[0][0]'] \n",
            " rmalization)                                                                                     \n",
            "                                                                                                  \n",
            " conv4_block4_2_relu (Activ  (None, 14, 14, 256)          0         ['conv4_block4_2_bn[0][0]']   \n",
            " ation)                                                                                           \n",
            "                                                                                                  \n",
            " conv4_block4_3_conv (Conv2  (None, 14, 14, 1024)         263168    ['conv4_block4_2_relu[0][0]'] \n",
            " D)                                                                                               \n",
            "                                                                                                  \n",
            " conv4_block4_3_bn (BatchNo  (None, 14, 14, 1024)         4096      ['conv4_block4_3_conv[0][0]'] \n",
            " rmalization)                                                                                     \n",
            "                                                                                                  \n",
            " conv4_block4_add (Add)      (None, 14, 14, 1024)         0         ['conv4_block3_out[0][0]',    \n",
            "                                                                     'conv4_block4_3_bn[0][0]']   \n",
            "                                                                                                  \n",
            " conv4_block4_out (Activati  (None, 14, 14, 1024)         0         ['conv4_block4_add[0][0]']    \n",
            " on)                                                                                              \n",
            "                                                                                                  \n",
            " conv4_block5_1_conv (Conv2  (None, 14, 14, 256)          262400    ['conv4_block4_out[0][0]']    \n",
            " D)                                                                                               \n",
            "                                                                                                  \n",
            " conv4_block5_1_bn (BatchNo  (None, 14, 14, 256)          1024      ['conv4_block5_1_conv[0][0]'] \n",
            " rmalization)                                                                                     \n",
            "                                                                                                  \n",
            " conv4_block5_1_relu (Activ  (None, 14, 14, 256)          0         ['conv4_block5_1_bn[0][0]']   \n",
            " ation)                                                                                           \n",
            "                                                                                                  \n",
            " conv4_block5_2_conv (Conv2  (None, 14, 14, 256)          590080    ['conv4_block5_1_relu[0][0]'] \n",
            " D)                                                                                               \n",
            "                                                                                                  \n",
            " conv4_block5_2_bn (BatchNo  (None, 14, 14, 256)          1024      ['conv4_block5_2_conv[0][0]'] \n",
            " rmalization)                                                                                     \n",
            "                                                                                                  \n",
            " conv4_block5_2_relu (Activ  (None, 14, 14, 256)          0         ['conv4_block5_2_bn[0][0]']   \n",
            " ation)                                                                                           \n",
            "                                                                                                  \n",
            " conv4_block5_3_conv (Conv2  (None, 14, 14, 1024)         263168    ['conv4_block5_2_relu[0][0]'] \n",
            " D)                                                                                               \n",
            "                                                                                                  \n",
            " conv4_block5_3_bn (BatchNo  (None, 14, 14, 1024)         4096      ['conv4_block5_3_conv[0][0]'] \n",
            " rmalization)                                                                                     \n",
            "                                                                                                  \n",
            " conv4_block5_add (Add)      (None, 14, 14, 1024)         0         ['conv4_block4_out[0][0]',    \n",
            "                                                                     'conv4_block5_3_bn[0][0]']   \n",
            "                                                                                                  \n",
            " conv4_block5_out (Activati  (None, 14, 14, 1024)         0         ['conv4_block5_add[0][0]']    \n",
            " on)                                                                                              \n",
            "                                                                                                  \n",
            " conv4_block6_1_conv (Conv2  (None, 14, 14, 256)          262400    ['conv4_block5_out[0][0]']    \n",
            " D)                                                                                               \n",
            "                                                                                                  \n",
            " conv4_block6_1_bn (BatchNo  (None, 14, 14, 256)          1024      ['conv4_block6_1_conv[0][0]'] \n",
            " rmalization)                                                                                     \n",
            "                                                                                                  \n",
            " conv4_block6_1_relu (Activ  (None, 14, 14, 256)          0         ['conv4_block6_1_bn[0][0]']   \n",
            " ation)                                                                                           \n",
            "                                                                                                  \n",
            " conv4_block6_2_conv (Conv2  (None, 14, 14, 256)          590080    ['conv4_block6_1_relu[0][0]'] \n",
            " D)                                                                                               \n",
            "                                                                                                  \n",
            " conv4_block6_2_bn (BatchNo  (None, 14, 14, 256)          1024      ['conv4_block6_2_conv[0][0]'] \n",
            " rmalization)                                                                                     \n",
            "                                                                                                  \n",
            " conv4_block6_2_relu (Activ  (None, 14, 14, 256)          0         ['conv4_block6_2_bn[0][0]']   \n",
            " ation)                                                                                           \n",
            "                                                                                                  \n",
            " conv4_block6_3_conv (Conv2  (None, 14, 14, 1024)         263168    ['conv4_block6_2_relu[0][0]'] \n",
            " D)                                                                                               \n",
            "                                                                                                  \n",
            " conv4_block6_3_bn (BatchNo  (None, 14, 14, 1024)         4096      ['conv4_block6_3_conv[0][0]'] \n",
            " rmalization)                                                                                     \n",
            "                                                                                                  \n",
            " conv4_block6_add (Add)      (None, 14, 14, 1024)         0         ['conv4_block5_out[0][0]',    \n",
            "                                                                     'conv4_block6_3_bn[0][0]']   \n",
            "                                                                                                  \n",
            " conv4_block6_out (Activati  (None, 14, 14, 1024)         0         ['conv4_block6_add[0][0]']    \n",
            " on)                                                                                              \n",
            "                                                                                                  \n",
            " conv5_block1_1_conv (Conv2  (None, 7, 7, 512)            524800    ['conv4_block6_out[0][0]']    \n",
            " D)                                                                                               \n",
            "                                                                                                  \n",
            " conv5_block1_1_bn (BatchNo  (None, 7, 7, 512)            2048      ['conv5_block1_1_conv[0][0]'] \n",
            " rmalization)                                                                                     \n",
            "                                                                                                  \n",
            " conv5_block1_1_relu (Activ  (None, 7, 7, 512)            0         ['conv5_block1_1_bn[0][0]']   \n",
            " ation)                                                                                           \n",
            "                                                                                                  \n",
            " conv5_block1_2_conv (Conv2  (None, 7, 7, 512)            2359808   ['conv5_block1_1_relu[0][0]'] \n",
            " D)                                                                                               \n",
            "                                                                                                  \n",
            " conv5_block1_2_bn (BatchNo  (None, 7, 7, 512)            2048      ['conv5_block1_2_conv[0][0]'] \n",
            " rmalization)                                                                                     \n",
            "                                                                                                  \n",
            " conv5_block1_2_relu (Activ  (None, 7, 7, 512)            0         ['conv5_block1_2_bn[0][0]']   \n",
            " ation)                                                                                           \n",
            "                                                                                                  \n",
            " conv5_block1_0_conv (Conv2  (None, 7, 7, 2048)           2099200   ['conv4_block6_out[0][0]']    \n",
            " D)                                                                                               \n",
            "                                                                                                  \n",
            " conv5_block1_3_conv (Conv2  (None, 7, 7, 2048)           1050624   ['conv5_block1_2_relu[0][0]'] \n",
            " D)                                                                                               \n",
            "                                                                                                  \n",
            " conv5_block1_0_bn (BatchNo  (None, 7, 7, 2048)           8192      ['conv5_block1_0_conv[0][0]'] \n",
            " rmalization)                                                                                     \n",
            "                                                                                                  \n",
            " conv5_block1_3_bn (BatchNo  (None, 7, 7, 2048)           8192      ['conv5_block1_3_conv[0][0]'] \n",
            " rmalization)                                                                                     \n",
            "                                                                                                  \n",
            " conv5_block1_add (Add)      (None, 7, 7, 2048)           0         ['conv5_block1_0_bn[0][0]',   \n",
            "                                                                     'conv5_block1_3_bn[0][0]']   \n",
            "                                                                                                  \n",
            " conv5_block1_out (Activati  (None, 7, 7, 2048)           0         ['conv5_block1_add[0][0]']    \n",
            " on)                                                                                              \n",
            "                                                                                                  \n",
            " conv5_block2_1_conv (Conv2  (None, 7, 7, 512)            1049088   ['conv5_block1_out[0][0]']    \n",
            " D)                                                                                               \n",
            "                                                                                                  \n",
            " conv5_block2_1_bn (BatchNo  (None, 7, 7, 512)            2048      ['conv5_block2_1_conv[0][0]'] \n",
            " rmalization)                                                                                     \n",
            "                                                                                                  \n",
            " conv5_block2_1_relu (Activ  (None, 7, 7, 512)            0         ['conv5_block2_1_bn[0][0]']   \n",
            " ation)                                                                                           \n",
            "                                                                                                  \n",
            " conv5_block2_2_conv (Conv2  (None, 7, 7, 512)            2359808   ['conv5_block2_1_relu[0][0]'] \n",
            " D)                                                                                               \n",
            "                                                                                                  \n",
            " conv5_block2_2_bn (BatchNo  (None, 7, 7, 512)            2048      ['conv5_block2_2_conv[0][0]'] \n",
            " rmalization)                                                                                     \n",
            "                                                                                                  \n",
            " conv5_block2_2_relu (Activ  (None, 7, 7, 512)            0         ['conv5_block2_2_bn[0][0]']   \n",
            " ation)                                                                                           \n",
            "                                                                                                  \n",
            " conv5_block2_3_conv (Conv2  (None, 7, 7, 2048)           1050624   ['conv5_block2_2_relu[0][0]'] \n",
            " D)                                                                                               \n",
            "                                                                                                  \n",
            " conv5_block2_3_bn (BatchNo  (None, 7, 7, 2048)           8192      ['conv5_block2_3_conv[0][0]'] \n",
            " rmalization)                                                                                     \n",
            "                                                                                                  \n",
            " conv5_block2_add (Add)      (None, 7, 7, 2048)           0         ['conv5_block1_out[0][0]',    \n",
            "                                                                     'conv5_block2_3_bn[0][0]']   \n",
            "                                                                                                  \n",
            " conv5_block2_out (Activati  (None, 7, 7, 2048)           0         ['conv5_block2_add[0][0]']    \n",
            " on)                                                                                              \n",
            "                                                                                                  \n",
            " conv5_block3_1_conv (Conv2  (None, 7, 7, 512)            1049088   ['conv5_block2_out[0][0]']    \n",
            " D)                                                                                               \n",
            "                                                                                                  \n",
            " conv5_block3_1_bn (BatchNo  (None, 7, 7, 512)            2048      ['conv5_block3_1_conv[0][0]'] \n",
            " rmalization)                                                                                     \n",
            "                                                                                                  \n",
            " conv5_block3_1_relu (Activ  (None, 7, 7, 512)            0         ['conv5_block3_1_bn[0][0]']   \n",
            " ation)                                                                                           \n",
            "                                                                                                  \n",
            " conv5_block3_2_conv (Conv2  (None, 7, 7, 512)            2359808   ['conv5_block3_1_relu[0][0]'] \n",
            " D)                                                                                               \n",
            "                                                                                                  \n",
            " conv5_block3_2_bn (BatchNo  (None, 7, 7, 512)            2048      ['conv5_block3_2_conv[0][0]'] \n",
            " rmalization)                                                                                     \n",
            "                                                                                                  \n",
            " conv5_block3_2_relu (Activ  (None, 7, 7, 512)            0         ['conv5_block3_2_bn[0][0]']   \n",
            " ation)                                                                                           \n",
            "                                                                                                  \n",
            " conv5_block3_3_conv (Conv2  (None, 7, 7, 2048)           1050624   ['conv5_block3_2_relu[0][0]'] \n",
            " D)                                                                                               \n",
            "                                                                                                  \n",
            " conv5_block3_3_bn (BatchNo  (None, 7, 7, 2048)           8192      ['conv5_block3_3_conv[0][0]'] \n",
            " rmalization)                                                                                     \n",
            "                                                                                                  \n",
            " conv5_block3_add (Add)      (None, 7, 7, 2048)           0         ['conv5_block2_out[0][0]',    \n",
            "                                                                     'conv5_block3_3_bn[0][0]']   \n",
            "                                                                                                  \n",
            " conv5_block3_out (Activati  (None, 7, 7, 2048)           0         ['conv5_block3_add[0][0]']    \n",
            " on)                                                                                              \n",
            "                                                                                                  \n",
            " flatten_1 (Flatten)         (None, 100352)               0         ['conv5_block3_out[0][0]']    \n",
            "                                                                                                  \n",
            " dense_1 (Dense)             (None, 6)                    602118    ['flatten_1[0][0]']           \n",
            "                                                                                                  \n",
            "==================================================================================================\n",
            "Total params: 24189830 (92.28 MB)\n",
            "Trainable params: 602118 (2.30 MB)\n",
            "Non-trainable params: 23587712 (89.98 MB)\n",
            "__________________________________________________________________________________________________\n"
          ]
        }
      ],
      "source": [
        "resnet50.summary()"
      ]
    },
    {
      "cell_type": "code",
      "execution_count": null,
      "metadata": {
        "id": "HD4wb-_20LF9"
      },
      "outputs": [],
      "source": [
        "resnet50.compile(loss = 'categorical_crossentropy',optimizer = 'adam',metrics =['accuracy'])"
      ]
    },
    {
      "cell_type": "code",
      "execution_count": null,
      "metadata": {
        "colab": {
          "base_uri": "https://localhost:8080/"
        },
        "id": "QCnrWFO90cQg",
        "outputId": "721f7c01-b820-42fe-b111-8be03d5d01a2"
      },
      "outputs": [
        {
          "output_type": "stream",
          "name": "stdout",
          "text": [
            "Epoch 1/10\n",
            "60/60 [==============================] - 31s 431ms/step - loss: 4.5310 - accuracy: 0.3417 - val_loss: 1.7819 - val_accuracy: 0.5083\n",
            "Epoch 2/10\n",
            "60/60 [==============================] - 25s 416ms/step - loss: 1.2865 - accuracy: 0.5333 - val_loss: 1.4062 - val_accuracy: 0.5000\n",
            "Epoch 3/10\n",
            "60/60 [==============================] - 25s 409ms/step - loss: 1.3362 - accuracy: 0.5490 - val_loss: 2.4856 - val_accuracy: 0.5333\n",
            "Epoch 4/10\n",
            "60/60 [==============================] - 26s 427ms/step - loss: 1.2944 - accuracy: 0.5865 - val_loss: 1.4770 - val_accuracy: 0.5750\n",
            "Epoch 5/10\n",
            "60/60 [==============================] - 26s 426ms/step - loss: 1.2207 - accuracy: 0.6125 - val_loss: 1.5707 - val_accuracy: 0.6333\n",
            "Epoch 6/10\n",
            "60/60 [==============================] - 25s 416ms/step - loss: 1.2155 - accuracy: 0.6313 - val_loss: 0.9807 - val_accuracy: 0.6750\n",
            "Epoch 7/10\n",
            "60/60 [==============================] - 26s 427ms/step - loss: 1.0945 - accuracy: 0.6573 - val_loss: 1.6633 - val_accuracy: 0.5917\n",
            "Epoch 8/10\n",
            "60/60 [==============================] - 24s 407ms/step - loss: 1.2201 - accuracy: 0.6458 - val_loss: 1.3491 - val_accuracy: 0.6000\n",
            "Epoch 9/10\n",
            "60/60 [==============================] - 25s 414ms/step - loss: 1.0835 - accuracy: 0.6844 - val_loss: 0.9615 - val_accuracy: 0.6833\n",
            "Epoch 10/10\n",
            "60/60 [==============================] - 25s 425ms/step - loss: 0.8235 - accuracy: 0.7167 - val_loss: 1.1476 - val_accuracy: 0.6000\n"
          ]
        },
        {
          "output_type": "execute_result",
          "data": {
            "text/plain": [
              "<keras.src.callbacks.History at 0x7d5970923af0>"
            ]
          },
          "metadata": {},
          "execution_count": 37
        }
      ],
      "source": [
        "resnet50.fit(train,validation_data=test,epochs=10,steps_per_epoch=len(train),validation_steps =len(test))"
      ]
    },
    {
      "cell_type": "markdown",
      "metadata": {
        "id": "W8qhDrrynkOo"
      },
      "source": [
        "# save file .h5"
      ]
    },
    {
      "cell_type": "code",
      "execution_count": null,
      "metadata": {
        "id": "h3rJ8POFnjRe",
        "colab": {
          "base_uri": "https://localhost:8080/"
        },
        "outputId": "03e21df9-63ed-40e5-9b08-b3eccec3bc89"
      },
      "outputs": [
        {
          "output_type": "stream",
          "name": "stderr",
          "text": [
            "/usr/local/lib/python3.10/dist-packages/keras/src/engine/training.py:3079: UserWarning: You are saving your model as an HDF5 file via `model.save()`. This file format is considered legacy. We recommend using instead the native Keras format, e.g. `model.save('my_model.keras')`.\n",
            "  saving_api.save_model(\n"
          ]
        }
      ],
      "source": [
        "vgg16.save('cnn_final.h5')"
      ]
    },
    {
      "cell_type": "markdown",
      "metadata": {
        "id": "dI8eti7rntlx"
      },
      "source": [
        "# Testing the Data"
      ]
    },
    {
      "cell_type": "code",
      "execution_count": null,
      "metadata": {
        "id": "BwjiHcdYnjO_"
      },
      "outputs": [],
      "source": [
        "from keras.preprocessing import image\n",
        "from keras.applications.vgg16 import preprocess_input\n",
        "from tensorflow.keras.preprocessing.image import load_img, img_to_array"
      ]
    },
    {
      "cell_type": "code",
      "execution_count": null,
      "metadata": {
        "id": "n8m0yAUJnjMn"
      },
      "outputs": [],
      "source": [
        "labels=['Ammonites','Belemnites','Corals','Crinoids','Leaf fossils','Trilobites']"
      ]
    },
    {
      "cell_type": "markdown",
      "metadata": {
        "id": "jIV1_3wcwKyn"
      },
      "source": [
        "# Testing Class 1"
      ]
    },
    {
      "cell_type": "code",
      "execution_count": null,
      "metadata": {
        "id": "9phv4cdcnjJ-"
      },
      "outputs": [],
      "source": [
        "img_path ='/content/test/Ammonites/Ammonite104.jpg'"
      ]
    },
    {
      "cell_type": "code",
      "execution_count": null,
      "metadata": {
        "colab": {
          "base_uri": "https://localhost:8080/"
        },
        "id": "NrlR6VyxnjHV",
        "outputId": "b9220213-bdbd-4d50-ce8e-4a3f48189d4e"
      },
      "outputs": [
        {
          "output_type": "stream",
          "name": "stdout",
          "text": [
            "1/1 [==============================] - 1s 653ms/step\n"
          ]
        },
        {
          "output_type": "execute_result",
          "data": {
            "text/plain": [
              "array([[1., 0., 0., 0., 0., 0.]], dtype=float32)"
            ]
          },
          "metadata": {},
          "execution_count": 42
        }
      ],
      "source": [
        "import numpy as np\n",
        "img = load_img(img_path, target_size=(224, 224))\n",
        "x = img_to_array(img)\n",
        "x = preprocess_input(x)\n",
        "preds = vgg16.predict(np.array([x]))\n",
        "preds"
      ]
    },
    {
      "cell_type": "code",
      "execution_count": null,
      "metadata": {
        "id": "cSw8pwTtnjEx",
        "colab": {
          "base_uri": "https://localhost:8080/",
          "height": 36
        },
        "outputId": "c1811e8b-8819-4dbf-e0f3-d44ea2ee2556"
      },
      "outputs": [
        {
          "output_type": "execute_result",
          "data": {
            "text/plain": [
              "'Ammonites'"
            ],
            "application/vnd.google.colaboratory.intrinsic+json": {
              "type": "string"
            }
          },
          "metadata": {},
          "execution_count": 43
        }
      ],
      "source": [
        "labels[np.argmax(preds)]"
      ]
    },
    {
      "cell_type": "markdown",
      "metadata": {
        "id": "hZfSQq2owOEI"
      },
      "source": [
        "# Testing Class 2"
      ]
    },
    {
      "cell_type": "code",
      "execution_count": null,
      "metadata": {
        "id": "xEjbazR5njCc"
      },
      "outputs": [],
      "source": [
        "img_path ='/content/test/Belemnites/Belemnite10.jpg'"
      ]
    },
    {
      "cell_type": "code",
      "execution_count": null,
      "metadata": {
        "id": "rygDLCIWni_u",
        "colab": {
          "base_uri": "https://localhost:8080/"
        },
        "outputId": "1aa907a6-0ced-4ccb-bbfb-d2973a480331"
      },
      "outputs": [
        {
          "output_type": "stream",
          "name": "stdout",
          "text": [
            "1/1 [==============================] - 0s 19ms/step\n"
          ]
        },
        {
          "output_type": "execute_result",
          "data": {
            "text/plain": [
              "array([[0., 1., 0., 0., 0., 0.]], dtype=float32)"
            ]
          },
          "metadata": {},
          "execution_count": 45
        }
      ],
      "source": [
        "import numpy as np\n",
        "img = load_img(img_path, target_size=(224, 224))\n",
        "x = img_to_array(img)\n",
        "x = preprocess_input(x)\n",
        "preds = vgg16.predict(np.array([x]))\n",
        "preds"
      ]
    },
    {
      "cell_type": "code",
      "execution_count": null,
      "metadata": {
        "id": "7Id3KRfDni82",
        "colab": {
          "base_uri": "https://localhost:8080/",
          "height": 36
        },
        "outputId": "b794a985-e06a-481b-8b31-9020fc8cf356"
      },
      "outputs": [
        {
          "output_type": "execute_result",
          "data": {
            "text/plain": [
              "'Belemnites'"
            ],
            "application/vnd.google.colaboratory.intrinsic+json": {
              "type": "string"
            }
          },
          "metadata": {},
          "execution_count": 46
        }
      ],
      "source": [
        "labels[np.argmax(preds)]"
      ]
    },
    {
      "cell_type": "markdown",
      "metadata": {
        "id": "FTtkUIvkwQLk"
      },
      "source": [
        "# Testing Class 3"
      ]
    },
    {
      "cell_type": "code",
      "execution_count": null,
      "metadata": {
        "id": "4TdzTPf9ni6Y"
      },
      "outputs": [],
      "source": [
        "img_path ='/content/test/Corals/Coral122.jpg'"
      ]
    },
    {
      "cell_type": "code",
      "execution_count": null,
      "metadata": {
        "id": "ICZ0hn8Lni3t",
        "colab": {
          "base_uri": "https://localhost:8080/"
        },
        "outputId": "3654c13f-6820-49db-818d-83dca7a35364"
      },
      "outputs": [
        {
          "output_type": "stream",
          "name": "stdout",
          "text": [
            "1/1 [==============================] - 0s 20ms/step\n"
          ]
        },
        {
          "output_type": "execute_result",
          "data": {
            "text/plain": [
              "array([[0., 0., 1., 0., 0., 0.]], dtype=float32)"
            ]
          },
          "metadata": {},
          "execution_count": 48
        }
      ],
      "source": [
        "import numpy as np\n",
        "img = load_img(img_path, target_size=(224, 224))\n",
        "x = img_to_array(img)\n",
        "x = preprocess_input(x)\n",
        "preds = vgg16.predict(np.array([x]))\n",
        "preds"
      ]
    },
    {
      "cell_type": "code",
      "execution_count": null,
      "metadata": {
        "id": "VfBU9SaYni1Q",
        "colab": {
          "base_uri": "https://localhost:8080/",
          "height": 36
        },
        "outputId": "8b092597-bbd2-4eba-f840-210afba4b1ba"
      },
      "outputs": [
        {
          "output_type": "execute_result",
          "data": {
            "text/plain": [
              "'Corals'"
            ],
            "application/vnd.google.colaboratory.intrinsic+json": {
              "type": "string"
            }
          },
          "metadata": {},
          "execution_count": 49
        }
      ],
      "source": [
        "labels[np.argmax(preds)]"
      ]
    },
    {
      "cell_type": "markdown",
      "metadata": {
        "id": "-KpYc8YjwRnz"
      },
      "source": [
        "# Testing Class 4"
      ]
    },
    {
      "cell_type": "code",
      "execution_count": null,
      "metadata": {
        "id": "vM6Zrrveniyr"
      },
      "outputs": [],
      "source": [
        "img_path ='/content/test/Crinoids/Crinoid105.jpg'"
      ]
    },
    {
      "cell_type": "code",
      "execution_count": null,
      "metadata": {
        "id": "7xUKwdY9niwQ",
        "colab": {
          "base_uri": "https://localhost:8080/"
        },
        "outputId": "86d34579-98b8-4fae-8411-327bfdd40bc7"
      },
      "outputs": [
        {
          "output_type": "stream",
          "name": "stdout",
          "text": [
            "1/1 [==============================] - 0s 17ms/step\n"
          ]
        },
        {
          "output_type": "execute_result",
          "data": {
            "text/plain": [
              "array([[0., 0., 0., 1., 0., 0.]], dtype=float32)"
            ]
          },
          "metadata": {},
          "execution_count": 51
        }
      ],
      "source": [
        "import numpy as np\n",
        "img = load_img(img_path, target_size=(224, 224))\n",
        "x = img_to_array(img)\n",
        "x = preprocess_input(x)\n",
        "preds = vgg16.predict(np.array([x]))\n",
        "preds"
      ]
    },
    {
      "cell_type": "code",
      "execution_count": null,
      "metadata": {
        "id": "ZkqMgPO9niuG",
        "colab": {
          "base_uri": "https://localhost:8080/",
          "height": 36
        },
        "outputId": "f981136c-f3f0-4fa0-828b-0cb0ff2cea4f"
      },
      "outputs": [
        {
          "output_type": "execute_result",
          "data": {
            "text/plain": [
              "'Crinoids'"
            ],
            "application/vnd.google.colaboratory.intrinsic+json": {
              "type": "string"
            }
          },
          "metadata": {},
          "execution_count": 52
        }
      ],
      "source": [
        "labels[np.argmax(preds)]"
      ]
    },
    {
      "cell_type": "markdown",
      "metadata": {
        "id": "56yXuLH4wTXw"
      },
      "source": [
        "# Testing Class 5"
      ]
    },
    {
      "cell_type": "code",
      "execution_count": null,
      "metadata": {
        "id": "4Uvpktfanir7"
      },
      "outputs": [],
      "source": [
        "img_path ='/content/test/Leaf fossils/Leaf fossil1.jpg'"
      ]
    },
    {
      "cell_type": "code",
      "execution_count": null,
      "metadata": {
        "id": "arJlocscnipk",
        "colab": {
          "base_uri": "https://localhost:8080/"
        },
        "outputId": "591a0deb-331e-4677-841d-a323d0f59c75"
      },
      "outputs": [
        {
          "output_type": "stream",
          "name": "stdout",
          "text": [
            "1/1 [==============================] - 0s 20ms/step\n"
          ]
        },
        {
          "output_type": "execute_result",
          "data": {
            "text/plain": [
              "array([[0.0000000e+00, 4.1035190e-02, 9.5896482e-01, 0.0000000e+00,\n",
              "        2.5817816e-35, 0.0000000e+00]], dtype=float32)"
            ]
          },
          "metadata": {},
          "execution_count": 54
        }
      ],
      "source": [
        "import numpy as np\n",
        "img = load_img(img_path, target_size=(224, 224))\n",
        "x = img_to_array(img)\n",
        "x = preprocess_input(x)\n",
        "preds = vgg16.predict(np.array([x]))\n",
        "preds"
      ]
    },
    {
      "cell_type": "code",
      "execution_count": null,
      "metadata": {
        "id": "e1C6IPROnim_",
        "colab": {
          "base_uri": "https://localhost:8080/",
          "height": 36
        },
        "outputId": "f20d12e0-d595-469b-cf01-bcef80283f41"
      },
      "outputs": [
        {
          "output_type": "execute_result",
          "data": {
            "text/plain": [
              "'Corals'"
            ],
            "application/vnd.google.colaboratory.intrinsic+json": {
              "type": "string"
            }
          },
          "metadata": {},
          "execution_count": 55
        }
      ],
      "source": [
        "labels[np.argmax(preds)]"
      ]
    },
    {
      "cell_type": "markdown",
      "metadata": {
        "id": "GrQDKUMKwUx3"
      },
      "source": [
        "# Testing Class 6"
      ]
    },
    {
      "cell_type": "code",
      "execution_count": null,
      "metadata": {
        "id": "i1gF3cXXvWGW"
      },
      "outputs": [],
      "source": [
        "img_path ='/content/test/Trilobites/Trilobite109.jpg'"
      ]
    },
    {
      "cell_type": "code",
      "execution_count": null,
      "metadata": {
        "id": "4yszkGRwvWD_",
        "colab": {
          "base_uri": "https://localhost:8080/"
        },
        "outputId": "3206c131-8dd2-4c3a-915d-36f8a91b7885"
      },
      "outputs": [
        {
          "output_type": "stream",
          "name": "stdout",
          "text": [
            "1/1 [==============================] - 0s 20ms/step\n"
          ]
        },
        {
          "output_type": "execute_result",
          "data": {
            "text/plain": [
              "array([[0., 0., 0., 0., 0., 1.]], dtype=float32)"
            ]
          },
          "metadata": {},
          "execution_count": 57
        }
      ],
      "source": [
        "import numpy as np\n",
        "img = load_img(img_path, target_size=(224, 224))\n",
        "x = img_to_array(img)\n",
        "x = preprocess_input(x)\n",
        "preds = vgg16.predict(np.array([x]))\n",
        "preds"
      ]
    },
    {
      "cell_type": "code",
      "execution_count": null,
      "metadata": {
        "id": "4DikPcB5vWB3",
        "colab": {
          "base_uri": "https://localhost:8080/",
          "height": 36
        },
        "outputId": "38f1857b-6011-4a0e-e3b3-cfdd99448941"
      },
      "outputs": [
        {
          "output_type": "execute_result",
          "data": {
            "text/plain": [
              "'Trilobites'"
            ],
            "application/vnd.google.colaboratory.intrinsic+json": {
              "type": "string"
            }
          },
          "metadata": {},
          "execution_count": 58
        }
      ],
      "source": [
        "labels[np.argmax(preds)]"
      ]
    },
    {
      "cell_type": "code",
      "execution_count": null,
      "metadata": {
        "id": "_-nS2vlGva4M",
        "colab": {
          "base_uri": "https://localhost:8080/",
          "height": 36
        },
        "outputId": "2e506902-ecd1-4d8d-9819-12f35fb2c8ba"
      },
      "outputs": [
        {
          "output_type": "execute_result",
          "data": {
            "text/plain": [
              "'/content/test.zip'"
            ],
            "application/vnd.google.colaboratory.intrinsic+json": {
              "type": "string"
            }
          },
          "metadata": {},
          "execution_count": 59
        }
      ],
      "source": [
        "import shutil\n",
        "\n",
        "# Replace 'source_folder' with the path of the folder you want to zip\n",
        "source_folder = '/content/test'\n",
        "\n",
        "# Replace 'output_zip_file.zip' with the desired name of the zip file\n",
        "output_zip_file = '/content/test.zip'\n",
        "\n",
        "# Create a zip file from the folder\n",
        "shutil.make_archive(output_zip_file.replace('.zip', ''), 'zip', source_folder)\n"
      ]
    },
    {
      "cell_type": "code",
      "source": [
        "import shutil\n",
        "\n",
        "# Replace 'source_folder' with the path of the folder you want to zip\n",
        "source_folder = '/content/valid'\n",
        "\n",
        "# Replace 'output_zip_file.zip' with the desired name of the zip file\n",
        "output_zip_file = '/content/valid'\n",
        "\n",
        "# Create a zip file from the folder\n",
        "shutil.make_archive(output_zip_file.replace('.zip', ''), 'zip', source_folder)"
      ],
      "metadata": {
        "id": "-5QjBYgKrSWa",
        "colab": {
          "base_uri": "https://localhost:8080/",
          "height": 36
        },
        "outputId": "e1125503-e00b-4711-fc99-7490d9b10330"
      },
      "execution_count": null,
      "outputs": [
        {
          "output_type": "execute_result",
          "data": {
            "text/plain": [
              "'/content/valid.zip'"
            ],
            "application/vnd.google.colaboratory.intrinsic+json": {
              "type": "string"
            }
          },
          "metadata": {},
          "execution_count": 60
        }
      ]
    },
    {
      "cell_type": "code",
      "source": [
        "import shutil\n",
        "\n",
        "# Replace 'source_folder' with the path of the folder you want to zip\n",
        "source_folder = '/content/train'\n",
        "\n",
        "# Replace 'output_zip_file.zip' with the desired name of the zip file\n",
        "output_zip_file = '/content/train'\n",
        "\n",
        "# Create a zip file from the folder\n",
        "shutil.make_archive(output_zip_file.replace('.zip', ''), 'zip', source_folder)"
      ],
      "metadata": {
        "id": "uGh2-aPZreDf",
        "colab": {
          "base_uri": "https://localhost:8080/",
          "height": 36
        },
        "outputId": "363bd43c-87b7-4f4e-ca0b-3da7da28bd1e"
      },
      "execution_count": null,
      "outputs": [
        {
          "output_type": "execute_result",
          "data": {
            "text/plain": [
              "'/content/train.zip'"
            ],
            "application/vnd.google.colaboratory.intrinsic+json": {
              "type": "string"
            }
          },
          "metadata": {},
          "execution_count": 61
        }
      ]
    },
    {
      "cell_type": "code",
      "source": [],
      "metadata": {
        "id": "f0VwCbFQrj2Q"
      },
      "execution_count": null,
      "outputs": []
    }
  ],
  "metadata": {
    "accelerator": "GPU",
    "colab": {
      "gpuType": "T4",
      "provenance": []
    },
    "kernelspec": {
      "display_name": "Python 3",
      "language": "python",
      "name": "python3"
    },
    "language_info": {
      "codemirror_mode": {
        "name": "ipython",
        "version": 3
      },
      "file_extension": ".py",
      "mimetype": "text/x-python",
      "name": "python",
      "nbconvert_exporter": "python",
      "pygments_lexer": "ipython3",
      "version": "3.7.6"
    }
  },
  "nbformat": 4,
  "nbformat_minor": 0
}